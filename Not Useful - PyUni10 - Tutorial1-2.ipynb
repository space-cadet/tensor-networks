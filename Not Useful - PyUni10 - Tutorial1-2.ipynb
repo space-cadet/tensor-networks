{
 "cells": [
  {
   "cell_type": "markdown",
   "metadata": {
    "toc": true
   },
   "source": [
    "<h1>Table of Contents<span class=\"tocSkip\"></span></h1>\n",
    "<div class=\"toc\" style=\"margin-top: 1em;\"><ul class=\"toc-item\"><li><span><a href=\"#Not-Useful\" data-toc-modified-id=\"Not-Useful-1\"><span class=\"toc-item-num\">1&nbsp;&nbsp;</span>Not Useful</a></span></li><li><span><a href=\"#iTEBD\" data-toc-modified-id=\"iTEBD-2\"><span class=\"toc-item-num\">2&nbsp;&nbsp;</span>iTEBD</a></span><ul class=\"toc-item\"><li><span><a href=\"#Construct-the-Hamiltonian\" data-toc-modified-id=\"Construct-the-Hamiltonian-2.1\"><span class=\"toc-item-num\">2.1&nbsp;&nbsp;</span>Construct the Hamiltonian</a></span></li><li><span><a href=\"#Helper-functions\" data-toc-modified-id=\"Helper-functions-2.2\"><span class=\"toc-item-num\">2.2&nbsp;&nbsp;</span>Helper functions</a></span></li><li><span><a href=\"#Simultation-parameters\" data-toc-modified-id=\"Simultation-parameters-2.3\"><span class=\"toc-item-num\">2.3&nbsp;&nbsp;</span>Simultation parameters</a></span><ul class=\"toc-item\"><li><span><a href=\"#Initialize-the-tensors\" data-toc-modified-id=\"Initialize-the-tensors-2.3.1\"><span class=\"toc-item-num\">2.3.1&nbsp;&nbsp;</span>Initialize the tensors</a></span></li><li><span><a href=\"#Main-update-loop\" data-toc-modified-id=\"Main-update-loop-2.3.2\"><span class=\"toc-item-num\">2.3.2&nbsp;&nbsp;</span>Main update loop</a></span></li></ul></li></ul></li></ul></div>"
   ]
  },
  {
   "cell_type": "markdown",
   "metadata": {},
   "source": [
    "# Not Useful\n",
    "\n",
    "pyUni10 is not useful because:\n",
    "\n",
    "1. Its based on Python 2\n",
    "2. Doesn't seem to have been updated in a while\n",
    "3. Code doesn't seem very intuitive\n",
    "4. Gives errors when I try installing and running in Python 2 environment."
   ]
  },
  {
   "cell_type": "markdown",
   "metadata": {},
   "source": [
    "# iTEBD"
   ]
  },
  {
   "cell_type": "code",
   "execution_count": 8,
   "metadata": {},
   "outputs": [],
   "source": [
    "import pyUni10 as uni10\n",
    "import sys\n",
    "import numpy as np\n",
    "%matplotlib inline\n",
    "import matplotlib.pyplot as plt"
   ]
  },
  {
   "cell_type": "markdown",
   "metadata": {},
   "source": [
    "## Construct the Hamiltonian\n",
    "\n",
    "We construct the Hamiltonian for the transverse Ising model: \n",
    "\n",
    "\\begin{equation}\n",
    "H=-\\sum_{\\langle ij\\rangle} \\sigma_i^z\\sigma_j^z +h \\sum_i \\sigma_i^x\n",
    "\\end{equation}\n",
    "\n"
   ]
  },
  {
   "cell_type": "code",
   "execution_count": 2,
   "metadata": {},
   "outputs": [],
   "source": [
    "\n",
    "\n",
    "def matSp():\n",
    "  spin = 0.5\n",
    "  dim = int(spin * 2 + 1)\n",
    "  return uni10.Matrix(dim, dim, [0, 1, 0, 0])\n",
    "\n",
    "def matSm():\n",
    "  spin = 0.5\n",
    "  dim = int(spin * 2 + 1)\n",
    "  return uni10.Matrix(dim, dim, [0, 0, 1, 0])\n",
    "\n",
    "def matSz():\n",
    "  spin = 0.5\n",
    "  dim = int(spin * 2 + 1)\n",
    "  return uni10.Matrix(dim, dim, [0.5, 0, 0, -0.5])\n",
    "\n",
    "def transverseIsing(h):\n",
    "    spin = 0.5\n",
    "    sx = 0.5*(matSp()+matSm())\n",
    "    sz = matSz()\n",
    "    iden = uni10.Matrix(2,2, [1, 0, 0, 1])\n",
    "    ham =uni10.otimes(2*sz,2*sz) +0.5*float(h)*(uni10.otimes(iden,2*sx)+uni10.otimes(2*sx,iden))\n",
    "    dim = int(spin * 2 + 1)\n",
    "    bdi = uni10.Bond(uni10.BD_IN, dim);\n",
    "    bdo = uni10.Bond(uni10.BD_OUT, dim);\n",
    "    H =  uni10.UniTensor([bdi, bdi, bdo, bdo], \"TFIM\")\n",
    "    H.putBlock(ham)\n",
    "    return H\n"
   ]
  },
  {
   "cell_type": "markdown",
   "metadata": {},
   "source": [
    "## Helper functions\n",
    "\n",
    "1. `bondcat(T,L,bidx)`: merge  UniTensors *T* and  *L* at bond *idx*\n",
    "2. `bondrm(T,L,bidx)`: apply  $L^{-1}$ to bond *idx* of *T* "
   ]
  },
  {
   "cell_type": "code",
   "execution_count": 3,
   "metadata": {},
   "outputs": [],
   "source": [
    "\n",
    "\n",
    "def bondcat(T, L, bidx):\n",
    "    labels = T.label();\n",
    "    per_labels = list(T.label())\n",
    "    per_labels.insert(0, per_labels.pop(bidx))\n",
    "    inBondNum = T.inBondNum()\n",
    "    T.permute(per_labels, 1)\n",
    "    T.putBlock(L * T.getBlock())\n",
    "    T.permute(labels, inBondNum)\n",
    "\n",
    "def bondrm(T, L, bidx):\n",
    "    invL = uni10.Matrix(L.row(), L.col(), True)\n",
    "    for i in xrange(L.elemNum()):\n",
    "        invL[i] = 0 if L[i] == 0 else 1.0 / L[i]\n",
    "    bondcat(T, invL, bidx)\n"
   ]
  },
  {
   "cell_type": "markdown",
   "metadata": {},
   "source": [
    "## Simultation parameters\n",
    "\n",
    "* chi : bond dimension $\\chi$\n",
    "* delta: time step $\\delta$ \n",
    "* N : number of iterations\n",
    "* H : Hamiltonian"
   ]
  },
  {
   "cell_type": "code",
   "execution_count": 4,
   "metadata": {},
   "outputs": [
    {
     "ename": "AttributeError",
     "evalue": "module 'pyUni10' has no attribute 'Matrix'",
     "output_type": "error",
     "traceback": [
      "\u001b[0;31m---------------------------------------------------------------------------\u001b[0m",
      "\u001b[0;31mAttributeError\u001b[0m                            Traceback (most recent call last)",
      "\u001b[0;32m<ipython-input-4-c82984e3eeb8>\u001b[0m in \u001b[0;36m<module>\u001b[0;34m()\u001b[0m\n\u001b[1;32m      2\u001b[0m \u001b[0mdelta\u001b[0m \u001b[0;34m=\u001b[0m \u001b[0;36m0.02\u001b[0m\u001b[0;34m\u001b[0m\u001b[0m\n\u001b[1;32m      3\u001b[0m \u001b[0mN\u001b[0m \u001b[0;34m=\u001b[0m \u001b[0;36m1000\u001b[0m\u001b[0;34m\u001b[0m\u001b[0m\n\u001b[0;32m----> 4\u001b[0;31m \u001b[0mH\u001b[0m \u001b[0;34m=\u001b[0m \u001b[0mtransverseIsing\u001b[0m\u001b[0;34m(\u001b[0m\u001b[0;36m1.2\u001b[0m\u001b[0;34m)\u001b[0m\u001b[0;34m\u001b[0m\u001b[0m\n\u001b[0m",
      "\u001b[0;32m<ipython-input-2-a1fac2055b6b>\u001b[0m in \u001b[0;36mtransverseIsing\u001b[0;34m(h)\u001b[0m\n\u001b[1;32m     18\u001b[0m \u001b[0;32mdef\u001b[0m \u001b[0mtransverseIsing\u001b[0m\u001b[0;34m(\u001b[0m\u001b[0mh\u001b[0m\u001b[0;34m)\u001b[0m\u001b[0;34m:\u001b[0m\u001b[0;34m\u001b[0m\u001b[0m\n\u001b[1;32m     19\u001b[0m     \u001b[0mspin\u001b[0m \u001b[0;34m=\u001b[0m \u001b[0;36m0.5\u001b[0m\u001b[0;34m\u001b[0m\u001b[0m\n\u001b[0;32m---> 20\u001b[0;31m     \u001b[0msx\u001b[0m \u001b[0;34m=\u001b[0m \u001b[0;36m0.5\u001b[0m\u001b[0;34m*\u001b[0m\u001b[0;34m(\u001b[0m\u001b[0mmatSp\u001b[0m\u001b[0;34m(\u001b[0m\u001b[0;34m)\u001b[0m\u001b[0;34m+\u001b[0m\u001b[0mmatSm\u001b[0m\u001b[0;34m(\u001b[0m\u001b[0;34m)\u001b[0m\u001b[0;34m)\u001b[0m\u001b[0;34m\u001b[0m\u001b[0m\n\u001b[0m\u001b[1;32m     21\u001b[0m     \u001b[0msz\u001b[0m \u001b[0;34m=\u001b[0m \u001b[0mmatSz\u001b[0m\u001b[0;34m(\u001b[0m\u001b[0;34m)\u001b[0m\u001b[0;34m\u001b[0m\u001b[0m\n\u001b[1;32m     22\u001b[0m     \u001b[0miden\u001b[0m \u001b[0;34m=\u001b[0m \u001b[0muni10\u001b[0m\u001b[0;34m.\u001b[0m\u001b[0mMatrix\u001b[0m\u001b[0;34m(\u001b[0m\u001b[0;36m2\u001b[0m\u001b[0;34m,\u001b[0m\u001b[0;36m2\u001b[0m\u001b[0;34m,\u001b[0m \u001b[0;34m[\u001b[0m\u001b[0;36m1\u001b[0m\u001b[0;34m,\u001b[0m \u001b[0;36m0\u001b[0m\u001b[0;34m,\u001b[0m \u001b[0;36m0\u001b[0m\u001b[0;34m,\u001b[0m \u001b[0;36m1\u001b[0m\u001b[0;34m]\u001b[0m\u001b[0;34m)\u001b[0m\u001b[0;34m\u001b[0m\u001b[0m\n",
      "\u001b[0;32m<ipython-input-2-a1fac2055b6b>\u001b[0m in \u001b[0;36mmatSp\u001b[0;34m()\u001b[0m\n\u001b[1;32m      4\u001b[0m   \u001b[0mspin\u001b[0m \u001b[0;34m=\u001b[0m \u001b[0;36m0.5\u001b[0m\u001b[0;34m\u001b[0m\u001b[0m\n\u001b[1;32m      5\u001b[0m   \u001b[0mdim\u001b[0m \u001b[0;34m=\u001b[0m \u001b[0mint\u001b[0m\u001b[0;34m(\u001b[0m\u001b[0mspin\u001b[0m \u001b[0;34m*\u001b[0m \u001b[0;36m2\u001b[0m \u001b[0;34m+\u001b[0m \u001b[0;36m1\u001b[0m\u001b[0;34m)\u001b[0m\u001b[0;34m\u001b[0m\u001b[0m\n\u001b[0;32m----> 6\u001b[0;31m   \u001b[0;32mreturn\u001b[0m \u001b[0muni10\u001b[0m\u001b[0;34m.\u001b[0m\u001b[0mMatrix\u001b[0m\u001b[0;34m(\u001b[0m\u001b[0mdim\u001b[0m\u001b[0;34m,\u001b[0m \u001b[0mdim\u001b[0m\u001b[0;34m,\u001b[0m \u001b[0;34m[\u001b[0m\u001b[0;36m0\u001b[0m\u001b[0;34m,\u001b[0m \u001b[0;36m1\u001b[0m\u001b[0;34m,\u001b[0m \u001b[0;36m0\u001b[0m\u001b[0;34m,\u001b[0m \u001b[0;36m0\u001b[0m\u001b[0;34m]\u001b[0m\u001b[0;34m)\u001b[0m\u001b[0;34m\u001b[0m\u001b[0m\n\u001b[0m\u001b[1;32m      7\u001b[0m \u001b[0;34m\u001b[0m\u001b[0m\n\u001b[1;32m      8\u001b[0m \u001b[0;32mdef\u001b[0m \u001b[0mmatSm\u001b[0m\u001b[0;34m(\u001b[0m\u001b[0;34m)\u001b[0m\u001b[0;34m:\u001b[0m\u001b[0;34m\u001b[0m\u001b[0m\n",
      "\u001b[0;31mAttributeError\u001b[0m: module 'pyUni10' has no attribute 'Matrix'"
     ]
    }
   ],
   "source": [
    "chi = 5\n",
    "delta = 0.02\n",
    "N = 1000\n",
    "H = transverseIsing(1.2)"
   ]
  },
  {
   "cell_type": "markdown",
   "metadata": {},
   "source": [
    "### Initialize the tensors"
   ]
  },
  {
   "cell_type": "code",
   "execution_count": 5,
   "metadata": {},
   "outputs": [
    {
     "ename": "AttributeError",
     "evalue": "module 'pyUni10' has no attribute 'Bond'",
     "output_type": "error",
     "traceback": [
      "\u001b[0;31m---------------------------------------------------------------------------\u001b[0m",
      "\u001b[0;31mAttributeError\u001b[0m                            Traceback (most recent call last)",
      "\u001b[0;32m<ipython-input-5-ee0a75b9f328>\u001b[0m in \u001b[0;36m<module>\u001b[0;34m()\u001b[0m\n\u001b[0;32m----> 1\u001b[0;31m \u001b[0mbdi_chi\u001b[0m \u001b[0;34m=\u001b[0m \u001b[0muni10\u001b[0m\u001b[0;34m.\u001b[0m\u001b[0mBond\u001b[0m\u001b[0;34m(\u001b[0m\u001b[0muni10\u001b[0m\u001b[0;34m.\u001b[0m\u001b[0mBD_IN\u001b[0m\u001b[0;34m,\u001b[0m \u001b[0mchi\u001b[0m\u001b[0;34m)\u001b[0m\u001b[0;34m\u001b[0m\u001b[0m\n\u001b[0m\u001b[1;32m      2\u001b[0m \u001b[0mbdo_chi\u001b[0m \u001b[0;34m=\u001b[0m \u001b[0muni10\u001b[0m\u001b[0;34m.\u001b[0m\u001b[0mBond\u001b[0m\u001b[0;34m(\u001b[0m\u001b[0muni10\u001b[0m\u001b[0;34m.\u001b[0m\u001b[0mBD_OUT\u001b[0m\u001b[0;34m,\u001b[0m \u001b[0mchi\u001b[0m\u001b[0;34m)\u001b[0m\u001b[0;34m\u001b[0m\u001b[0m\n\u001b[1;32m      3\u001b[0m \u001b[0;34m\u001b[0m\u001b[0m\n\u001b[1;32m      4\u001b[0m \u001b[0;31m# Gamma matrices: Gs=[Ga, Gb]\u001b[0m\u001b[0;34m\u001b[0m\u001b[0;34m\u001b[0m\u001b[0m\n\u001b[1;32m      5\u001b[0m \u001b[0mGs\u001b[0m \u001b[0;34m=\u001b[0m \u001b[0;34m[\u001b[0m\u001b[0;34m]\u001b[0m\u001b[0;34m\u001b[0m\u001b[0m\n",
      "\u001b[0;31mAttributeError\u001b[0m: module 'pyUni10' has no attribute 'Bond'"
     ]
    }
   ],
   "source": [
    "bdi_chi = uni10.Bond(uni10.BD_IN, chi)\n",
    "bdo_chi = uni10.Bond(uni10.BD_OUT, chi)\n",
    "\n",
    "# Gamma matrices: Gs=[Ga, Gb]\n",
    "Gs = []\n",
    "Gs.append(uni10.UniTensor([bdi_chi, bdo_chi, H.bond(2)], \"Ga\"))\n",
    "Gs.append(uni10.UniTensor([bdi_chi, bdo_chi, H.bond(2)], \"Gb\"))\n",
    "Gs[0].randomize(), Gs[1].randomize()\n",
    "\n",
    "# Lambda matrices (diagonal): Ls=[La, Lb]\n",
    "Ls = []\n",
    "Ls.append(uni10.Matrix(chi, chi, True))  # Diagonal matrix\n",
    "Ls.append(uni10.Matrix(chi, chi, True))  # Diagonal matrix\n",
    "Ls[0].randomize(), Ls[1].randomize()\n",
    "\n",
    "# Setup U=exp^{-delta H}\n",
    "U = uni10.UniTensor(H.bond(), \"U\")\n",
    "U.putBlock(uni10.takeExp(-delta, H.getBlock()))\n",
    "\n"
   ]
  },
  {
   "cell_type": "code",
   "execution_count": 6,
   "metadata": {},
   "outputs": [
    {
     "ename": "NameError",
     "evalue": "name 'Gs' is not defined",
     "output_type": "error",
     "traceback": [
      "\u001b[0;31m---------------------------------------------------------------------------\u001b[0m",
      "\u001b[0;31mNameError\u001b[0m                                 Traceback (most recent call last)",
      "\u001b[0;32m<ipython-input-6-e5835b348e19>\u001b[0m in \u001b[0;36m<module>\u001b[0;34m()\u001b[0m\n\u001b[0;32m----> 1\u001b[0;31m \u001b[0mGs\u001b[0m\u001b[0;34m[\u001b[0m\u001b[0;36m0\u001b[0m\u001b[0;34m]\u001b[0m\u001b[0;34m\u001b[0m\u001b[0m\n\u001b[0m",
      "\u001b[0;31mNameError\u001b[0m: name 'Gs' is not defined"
     ]
    }
   ],
   "source": [
    "Gs[0]"
   ]
  },
  {
   "cell_type": "code",
   "execution_count": 7,
   "metadata": {},
   "outputs": [
    {
     "ename": "NameError",
     "evalue": "name 'Gs' is not defined",
     "output_type": "error",
     "traceback": [
      "\u001b[0;31m---------------------------------------------------------------------------\u001b[0m",
      "\u001b[0;31mNameError\u001b[0m                                 Traceback (most recent call last)",
      "\u001b[0;32m<ipython-input-7-fff44d797e74>\u001b[0m in \u001b[0;36m<module>\u001b[0;34m()\u001b[0m\n\u001b[0;32m----> 1\u001b[0;31m \u001b[0mGs\u001b[0m\u001b[0;34m[\u001b[0m\u001b[0;36m1\u001b[0m\u001b[0;34m]\u001b[0m\u001b[0;34m\u001b[0m\u001b[0m\n\u001b[0m",
      "\u001b[0;31mNameError\u001b[0m: name 'Gs' is not defined"
     ]
    }
   ],
   "source": [
    "Gs[1]"
   ]
  },
  {
   "cell_type": "code",
   "execution_count": 10,
   "metadata": {},
   "outputs": [
    {
     "data": {
      "text/plain": [
       "5 x 5 = 5, REAL, Diagonal\n",
       "\n",
       "            0.450            0.000            0.000            0.000            0.000\n",
       "\n",
       "            0.000            0.336            0.000            0.000            0.000\n",
       "\n",
       "            0.000            0.000            0.233            0.000            0.000\n",
       "\n",
       "            0.000            0.000            0.000            0.826            0.000\n",
       "\n",
       "            0.000            0.000            0.000            0.000            0.447\n"
      ]
     },
     "execution_count": 10,
     "metadata": {},
     "output_type": "execute_result"
    }
   ],
   "source": [
    "Ls[0]"
   ]
  },
  {
   "cell_type": "code",
   "execution_count": 11,
   "metadata": {},
   "outputs": [
    {
     "data": {
      "text/plain": [
       "5 x 5 = 5, REAL, Diagonal\n",
       "\n",
       "            0.915            0.000            0.000            0.000            0.000\n",
       "\n",
       "            0.000            0.510            0.000            0.000            0.000\n",
       "\n",
       "            0.000            0.000            0.412            0.000            0.000\n",
       "\n",
       "            0.000            0.000            0.000            0.950            0.000\n",
       "\n",
       "            0.000            0.000            0.000            0.000            0.288\n"
      ]
     },
     "execution_count": 11,
     "metadata": {},
     "output_type": "execute_result"
    }
   ],
   "source": [
    "Ls[1]"
   ]
  },
  {
   "cell_type": "markdown",
   "metadata": {},
   "source": [
    "### Main update loop"
   ]
  },
  {
   "cell_type": "code",
   "execution_count": 12,
   "metadata": {},
   "outputs": [
    {
     "name": "stdout",
     "output_type": "stream",
     "text": [
      "E= -5.07636356874\n",
      "E= -1.38610330842\n",
      "E= -1.40718584727\n",
      "E= -1.41365479864\n",
      "E= -1.41668674857\n",
      "E= -1.41819179135\n",
      "E= -1.41892299111\n",
      "E= -1.41926803534\n",
      "E= -1.41942757257\n",
      "E= -1.41950048162\n",
      "-1.41953338156\n"
     ]
    }
   ],
   "source": [
    "Elist=[]\n",
    "for step in range(N):\n",
    "    # Construct theta\n",
    "    A = step % 2\n",
    "    B = (step + 1) % 2\n",
    "    bondcat(Gs[A], Ls[A], 1)\n",
    "    bondcat(Gs[A], Ls[B], 0)\n",
    "    bondcat(Gs[B], Ls[B], 1)\n",
    "    Gs[A].setLabel([-1, 3, 1])\n",
    "    Gs[B].setLabel([3, -3, 2])\n",
    "    U.setLabel([1, 2, -2, -4])\n",
    "    theta = uni10.contract(Gs[A], Gs[B], True) # Gs[A], Gs[B] is permuted after the execution\n",
    "    Ntheta = theta\n",
    "    theta *= U;\n",
    "    theta.permute([-1, -2, -3, -4], 2)\n",
    "\n",
    "    # SVD\n",
    "    svd = theta.getBlock().svd()\n",
    "\n",
    "    # Truncation\n",
    "    sv = svd[1]\n",
    "    norm = sv.resize(chi, chi).norm()\n",
    "    sv *= 1.0 / norm;\n",
    "    Ls[A] = sv\n",
    "    Gs[A].putBlock(svd[0].resize(svd[0].row(), chi))\n",
    "    Gs[B].putBlock(svd[2].resize(chi, svd[2].col()))\n",
    "    Gs[A].permute([-1, 3, 1], 1)\n",
    "    bondrm(Gs[A], Ls[B], 0)\n",
    "    bondrm(Gs[B], Ls[B], 1)  \n",
    "    val = (theta * theta)[0]\n",
    "    norm =(Ntheta * Ntheta )[0]\n",
    "    E = -np.log(val) / delta / 2\n",
    "    E = E/norm\n",
    "    if step % 100 == 0:\n",
    "        print 'E=',E\n",
    "    Elist.append(E)\n",
    "print E"
   ]
  },
  {
   "cell_type": "code",
   "execution_count": 13,
   "metadata": {},
   "outputs": [
    {
     "data": {
      "text/plain": [
       "(-2, 1)"
      ]
     },
     "execution_count": 13,
     "metadata": {},
     "output_type": "execute_result"
    },
    {
     "data": {
      "image/png": "[encoded data removed]",
      "text/plain": [
       "<matplotlib.figure.Figure at 0x10b2b58d0>"
      ]
     },
     "metadata": {},
     "output_type": "display_data"
    }
   ],
   "source": [
    "plt.plot(Elist)\n",
    "plt.xlabel('iter')\n",
    "plt.ylabel('E')\n",
    "plt.ylim([-2,1])"
   ]
  },
  {
   "cell_type": "code",
   "execution_count": 7,
   "metadata": {},
   "outputs": [],
   "source": []
  }
 ],
 "metadata": {
  "kernelspec": {
   "display_name": "Python 3",
   "language": "python",
   "name": "python3"
  },
  "language_info": {
   "codemirror_mode": {
    "name": "ipython",
    "version": 3
   },
   "file_extension": ".py",
   "mimetype": "text/x-python",
   "name": "python",
   "nbconvert_exporter": "python",
   "pygments_lexer": "ipython3",
   "version": "3.6.3"
  },
  "latex_envs": {
   "bibliofile": "biblio.bib",
   "cite_by": "apalike",
   "current_citInitial": 1,
   "eqLabelWithNumbers": true,
   "eqNumInitial": 0
  },
  "toc": {
   "nav_menu": {},
   "number_sections": true,
   "sideBar": false,
   "skip_h1_title": false,
   "toc_cell": true,
   "toc_position": {},
   "toc_section_display": "block",
   "toc_window_display": true
  },
  "varInspector": {
   "cols": {
    "lenName": 16,
    "lenType": 16,
    "lenVar": 40
   },
   "kernels_config": {
    "python": {
     "delete_cmd_postfix": "",
     "delete_cmd_prefix": "del ",
     "library": "var_list.py",
     "varRefreshCmd": "print(var_dic_list())"
    },
    "r": {
     "delete_cmd_postfix": ") ",
     "delete_cmd_prefix": "rm(",
     "library": "var_list.r",
     "varRefreshCmd": "cat(var_dic_list()) "
    }
   },
   "types_to_exclude": [
    "module",
    "function",
    "builtin_function_or_method",
    "instance",
    "_Feature"
   ],
   "window_display": false
  }
 },
 "nbformat": 4,
 "nbformat_minor": 1
}
