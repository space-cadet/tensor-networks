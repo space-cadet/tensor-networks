{
 "cells": [
  {
   "cell_type": "markdown",
   "metadata": {
    "toc": true
   },
   "source": [
    "<h1>Table of Contents<span class=\"tocSkip\"></span></h1>\n",
    "<div class=\"toc\" style=\"margin-top: 1em;\"><ul class=\"toc-item\"><li><span><a href=\"#TensorNetwork\" data-toc-modified-id=\"TensorNetwork-1\"><span class=\"toc-item-num\">1&nbsp;&nbsp;</span>TensorNetwork</a></span><ul class=\"toc-item\"><li><span><a href=\"#Suppress-Matplotlib-Warnings\" data-toc-modified-id=\"Suppress-Matplotlib-Warnings-1.1\"><span class=\"toc-item-num\">1.1&nbsp;&nbsp;</span>Suppress Matplotlib Warnings</a></span></li><li><span><a href=\"#Import-Modules\" data-toc-modified-id=\"Import-Modules-1.2\"><span class=\"toc-item-num\">1.2&nbsp;&nbsp;</span>Import Modules</a></span></li><li><span><a href=\"#Tensor-class-definition\" data-toc-modified-id=\"Tensor-class-definition-1.3\"><span class=\"toc-item-num\">1.3&nbsp;&nbsp;</span><code>Tensor</code> class definition</a></span></li><li><span><a href=\"#AbstractTensor-Class-Definition\" data-toc-modified-id=\"AbstractTensor-Class-Definition-1.4\"><span class=\"toc-item-num\">1.4&nbsp;&nbsp;</span><code>AbstractTensor</code> Class Definition</a></span></li><li><span><a href=\"#TensorNetwork-class-definition\" data-toc-modified-id=\"TensorNetwork-class-definition-1.5\"><span class=\"toc-item-num\">1.5&nbsp;&nbsp;</span><code>TensorNetwork</code> class definition</a></span></li></ul></li><li><span><a href=\"#Boundary-Edges-and-Nodes\" data-toc-modified-id=\"Boundary-Edges-and-Nodes-2\"><span class=\"toc-item-num\">2&nbsp;&nbsp;</span>Boundary Edges and Nodes</a></span><ul class=\"toc-item\"><li><span><a href=\"#boundaryNodes-function-definition\" data-toc-modified-id=\"boundaryNodes-function-definition-2.1\"><span class=\"toc-item-num\">2.1&nbsp;&nbsp;</span><code>boundaryNodes</code> function definition</a></span></li><li><span><a href=\"#Sandbox\" data-toc-modified-id=\"Sandbox-2.2\"><span class=\"toc-item-num\">2.2&nbsp;&nbsp;</span>Sandbox</a></span></li></ul></li><li><span><a href=\"#Sandbox\" data-toc-modified-id=\"Sandbox-3\"><span class=\"toc-item-num\">3&nbsp;&nbsp;</span>Sandbox</a></span><ul class=\"toc-item\"><li><span><a href=\"#Check-if-a-condition-is-satisfied-by-all-elements-in-a-list\" data-toc-modified-id=\"Check-if-a-condition-is-satisfied-by-all-elements-in-a-list-3.1\"><span class=\"toc-item-num\">3.1&nbsp;&nbsp;</span>Check if a condition is satisfied by all elements in a list</a></span></li><li><span><a href=\"#Check-if-a-variable-is-a-function\" data-toc-modified-id=\"Check-if-a-variable-is-a-function-3.2\"><span class=\"toc-item-num\">3.2&nbsp;&nbsp;</span>Check if a variable is a function</a></span></li><li><span><a href=\"#Determine-number-and-type-of-arguments-a-function-takes\" data-toc-modified-id=\"Determine-number-and-type-of-arguments-a-function-takes-3.3\"><span class=\"toc-item-num\">3.3&nbsp;&nbsp;</span>Determine number and type of arguments a function takes</a></span></li><li><span><a href=\"#Define-a-function-which-takes-an-arbitrary-number-of-parameters\" data-toc-modified-id=\"Define-a-function-which-takes-an-arbitrary-number-of-parameters-3.4\"><span class=\"toc-item-num\">3.4&nbsp;&nbsp;</span>Define a function which takes an arbitrary number of parameters</a></span></li><li><span><a href=\"#Check-if-a-module-has-been-imported\" data-toc-modified-id=\"Check-if-a-module-has-been-imported-3.5\"><span class=\"toc-item-num\">3.5&nbsp;&nbsp;</span>Check if a module has been imported</a></span></li><li><span><a href=\"#Elementwise-multiplication-(Hadamard-product)-of-arrays\" data-toc-modified-id=\"Elementwise-multiplication-(Hadamard-product)-of-arrays-3.6\"><span class=\"toc-item-num\">3.6&nbsp;&nbsp;</span>Elementwise multiplication (Hadamard product) of arrays</a></span><ul class=\"toc-item\"><li><span><a href=\"#Numpy:\" data-toc-modified-id=\"Numpy:-3.6.1\"><span class=\"toc-item-num\">3.6.1&nbsp;&nbsp;</span>Numpy:</a></span></li><li><span><a href=\"#Sympy:\" data-toc-modified-id=\"Sympy:-3.6.2\"><span class=\"toc-item-num\">3.6.2&nbsp;&nbsp;</span>Sympy:</a></span></li></ul></li><li><span><a href=\"#Tensors-with-sympy\" data-toc-modified-id=\"Tensors-with-sympy-3.7\"><span class=\"toc-item-num\">3.7&nbsp;&nbsp;</span>Tensors with <code>sympy</code></a></span><ul class=\"toc-item\"><li><span><a href=\"#itensor-index-notation\" data-toc-modified-id=\"itensor-index-notation-3.7.1\"><span class=\"toc-item-num\">3.7.1&nbsp;&nbsp;</span><code>itensor</code> index notation</a></span></li><li><span><a href=\"#indices-and-tensors-with-sympy\" data-toc-modified-id=\"indices-and-tensors-with-sympy-3.7.2\"><span class=\"toc-item-num\">3.7.2&nbsp;&nbsp;</span>indices and tensors with <code>sympy</code></a></span></li><li><span><a href=\"#sympyTensor-class-definition\" data-toc-modified-id=\"sympyTensor-class-definition-3.7.3\"><span class=\"toc-item-num\">3.7.3&nbsp;&nbsp;</span><code>sympyTensor</code> class definition</a></span></li></ul></li></ul></li></ul></div>"
   ]
  },
  {
   "cell_type": "markdown",
   "metadata": {},
   "source": [
    "# TensorNetwork\n",
    "\n",
    "The class `TensorNetwork` will be inherited from the `networkx` base class `nx.Graph`. While the connectivity of the tensor network will be encoded by the usual `nx.Graph` class methods, `TensorNetwork` will assign various attributes to different nodes and edges in order to distinguish different kind of operators/tensors such as *isometries*, *disentanglers* and others.\n",
    "\n",
    "Or will it be inherited from `igraph` instead? `igraph` seems like a more robust, better designed alternative to `networkx`."
   ]
  },
  {
   "cell_type": "markdown",
   "metadata": {},
   "source": [
    "## Suppress Matplotlib Warnings"
   ]
  },
  {
   "cell_type": "code",
   "execution_count": 1,
   "metadata": {},
   "outputs": [],
   "source": [
    "import warnings\n",
    "warnings.filterwarnings(\"ignore\")"
   ]
  },
  {
   "cell_type": "markdown",
   "metadata": {},
   "source": [
    "## Import Modules"
   ]
  },
  {
   "cell_type": "code",
   "execution_count": 2,
   "metadata": {},
   "outputs": [],
   "source": [
    "import networkx as nx\n",
    "import numpy as np\n",
    "import matplotlib as matplotlib\n",
    "import matplotlib.pyplot as plt\n",
    "matplotlib.use('qt5agg')\n",
    "%matplotlib inline"
   ]
  },
  {
   "cell_type": "code",
   "execution_count": 3,
   "metadata": {},
   "outputs": [],
   "source": [
    "import igraph as ig"
   ]
  },
  {
   "cell_type": "code",
   "execution_count": 5,
   "metadata": {},
   "outputs": [],
   "source": [
    "import sympy\n",
    "from sympy import MutableSparseNDimArray, Array\n",
    "from sympy import *"
   ]
  },
  {
   "cell_type": "markdown",
   "metadata": {},
   "source": [
    "## `Tensor` class definition"
   ]
  },
  {
   "cell_type": "markdown",
   "metadata": {},
   "source": [
    "Class `Tensor` defines an n-index object based upon `sympy.MutableSparseNDimArray`, which also contains an optional function which returns the value of the given tensor evaluated for a particular set of indices."
   ]
  },
  {
   "cell_type": "code",
   "execution_count": 22,
   "metadata": {},
   "outputs": [],
   "source": [
    "class Tensor(object):\n",
    "    \"\"\"\n",
    "    Class Tensor defines an n-index object based upon sympy.MutableSparseNDimArray,\n",
    "    which also contains an optional function which returns the value of the given\n",
    "    tensor evaluated for a particular set of indices.\n",
    "    \n",
    "    Attributes\n",
    "    ----------\n",
    "    \n",
    "    rank : int\n",
    "        The number of indices on the tensor. For instance $t_{ijk}$ is a rank-3 tensor\n",
    "        \n",
    "    shape : list\n",
    "        List containing the number of dimensions in each index. E.g. shape=[3,4,2],\n",
    "        implies a 3 x 4 x 2 dimensional tensor. For a scalar either shape = [1] or\n",
    "        shape = [] are valid.\n",
    "        \n",
    "        If shape = [1,1,...,1] then this also defines a scalar\n",
    "        \n",
    "    function : func\n",
    "        Function which takes as many arguments as the rank of the tensor and returns\n",
    "        some value evaluated at those indices.\n",
    "    \n",
    "    \"\"\"\n",
    "    \n",
    "    fn = None\n",
    "    shape = []\n",
    "    rank = 0\n",
    "    array = None\n",
    "    \n",
    "    def __init__(self, array):\n",
    "        self.rank = array.rank()\n",
    "        self.shape = list(array.shape())\n",
    "        self.array = array\n",
    "            \n",
    "    def __init__(self,rank=0,shape=[1],function=None):\n",
    "        if rank < 0 or type(rank) != int:\n",
    "            raise ValueError(\"rank of the tensor must be a non-negative integer\")\n",
    "        if len(shape) == 0 and rank !=0:\n",
    "            raise ValueError(\"For a non-scalar, a non-empty list of dimensions must be supplied\")\n",
    "        else:\n",
    "            self.rank = 0\n",
    "        if len(shape) == 1 and shape[0] == 1:\n",
    "            self.rank = 0\n",
    "            self.shape = []\n",
    "        elif len(shape) >=1:\n",
    "            if False not in [i > 0 and type(i) == int for i in shape]:\n",
    "                self.rank = len(shape)\n",
    "            else:\n",
    "                raise ValueError(\"Elements of shape can only be positive integers\")\n",
    "        \n",
    "        self.array = sympy.MutableSparseNDimArray.zeros(*shape)\n",
    "        self.shape = self.array.shape\n",
    "        \n",
    "        # Check to see if function really is a function. We won't perform any other\n",
    "        # checks, such as whether function takes the correct number of arguments.\n",
    "        # That would involve too much effort.\n",
    "        if callable(function):\n",
    "            args = [1]*self.rank\n",
    "            try:\n",
    "                function(*args)\n",
    "            except:\n",
    "                raise SystemError(\"function \" + function.__name__ + \" is not valid\")\n",
    "            \n",
    "            self.fn = function\n",
    "#            self.fn.__name__ = 'function'\n",
    "        else:\n",
    "            self.fn = None\n",
    "            \n",
    "#    Not needed, since we can call Tensor.function directly.\n",
    "#    No, actually is needed, since we need to ensure that indices passed are not out of array bounds \n",
    "    def evalfunc(self,*args):\n",
    "        print(args,type(args))\n",
    "#         No need to catch an array out of bounds exception. That is done by the sympy library anyways!\n",
    "        if self.array[args] != None:\n",
    "            return self.fn(*args)\n",
    "        \n",
    "    def contract(self, *contraction_axes):\n",
    "        self.array = tensorcontraction(array, *contraction_axes)\n",
    "        self.rank = self.array.rank()\n",
    "        self.shape = list(self.array.shape())"
   ]
  },
  {
   "cell_type": "code",
   "execution_count": null,
   "metadata": {},
   "outputs": [],
   "source": []
  },
  {
   "cell_type": "code",
   "execution_count": 7,
   "metadata": {},
   "outputs": [],
   "source": [
    "t2 = Tensor(rank=2, dims=[3,3], function = lambda i,j: i**2 - 2*j)"
   ]
  },
  {
   "cell_type": "code",
   "execution_count": 8,
   "metadata": {},
   "outputs": [
    {
     "data": {
      "text/plain": [
       "-3"
      ]
     },
     "execution_count": 8,
     "metadata": {},
     "output_type": "execute_result"
    }
   ],
   "source": [
    "t2.fn(1,2)"
   ]
  },
  {
   "cell_type": "code",
   "execution_count": 9,
   "metadata": {},
   "outputs": [
    {
     "name": "stdout",
     "output_type": "stream",
     "text": [
      "(1, 2) <class 'tuple'>\n"
     ]
    },
    {
     "data": {
      "text/plain": [
       "-3"
      ]
     },
     "execution_count": 9,
     "metadata": {},
     "output_type": "execute_result"
    }
   ],
   "source": [
    "t2.evalfunc(1,2)"
   ]
  },
  {
   "cell_type": "code",
   "execution_count": 10,
   "metadata": {},
   "outputs": [
    {
     "data": {
      "text/plain": [
       "2"
      ]
     },
     "execution_count": 10,
     "metadata": {},
     "output_type": "execute_result"
    }
   ],
   "source": [
    "t2.rank"
   ]
  },
  {
   "cell_type": "code",
   "execution_count": 11,
   "metadata": {},
   "outputs": [
    {
     "data": {
      "text/plain": [
       "[[0, 0, 0], [0, 0, 0], [0, 0, 0]]"
      ]
     },
     "execution_count": 11,
     "metadata": {},
     "output_type": "execute_result"
    }
   ],
   "source": [
    "t2.array.tolist()"
   ]
  },
  {
   "cell_type": "code",
   "execution_count": 12,
   "metadata": {},
   "outputs": [
    {
     "data": {
      "text/plain": [
       "Matrix([\n",
       "[0, 0, 0],\n",
       "[0, 0, 0],\n",
       "[0, 0, 0]])"
      ]
     },
     "execution_count": 12,
     "metadata": {},
     "output_type": "execute_result"
    }
   ],
   "source": [
    "t2.array.tomatrix()"
   ]
  },
  {
   "cell_type": "code",
   "execution_count": 13,
   "metadata": {},
   "outputs": [
    {
     "data": {
      "text/plain": [
       "Matrix([\n",
       "[0, 0, 0],\n",
       "[0, 0, 0],\n",
       "[0, 0, 0]])"
      ]
     },
     "execution_count": 13,
     "metadata": {},
     "output_type": "execute_result"
    }
   ],
   "source": [
    "_12.n()"
   ]
  },
  {
   "cell_type": "code",
   "execution_count": 14,
   "metadata": {},
   "outputs": [
    {
     "data": {
      "text/plain": [
       "(3, 3)"
      ]
     },
     "execution_count": 14,
     "metadata": {},
     "output_type": "execute_result"
    }
   ],
   "source": [
    "t2.shape"
   ]
  },
  {
   "cell_type": "code",
   "execution_count": 20,
   "metadata": {},
   "outputs": [
    {
     "data": {
      "text/plain": [
       "0"
      ]
     },
     "execution_count": 20,
     "metadata": {},
     "output_type": "execute_result"
    }
   ],
   "source": [
    "t2.array[1,0]"
   ]
  },
  {
   "cell_type": "code",
   "execution_count": 21,
   "metadata": {},
   "outputs": [],
   "source": [
    "t3 = Tensor(rank=3, dims=[3,3,3], function = lambda i,j,k: (-3**i)*j + k )"
   ]
  },
  {
   "cell_type": "code",
   "execution_count": 23,
   "metadata": {},
   "outputs": [
    {
     "data": {
      "text/plain": [
       "-161"
      ]
     },
     "execution_count": 23,
     "metadata": {},
     "output_type": "execute_result"
    }
   ],
   "source": [
    "t3.fn(4,2,1)"
   ]
  },
  {
   "cell_type": "code",
   "execution_count": 29,
   "metadata": {},
   "outputs": [
    {
     "data": {
      "text/plain": [
       "-3"
      ]
     },
     "execution_count": 29,
     "metadata": {},
     "output_type": "execute_result"
    }
   ],
   "source": [
    "t3.fn(1,2,3)"
   ]
  },
  {
   "cell_type": "code",
   "execution_count": 32,
   "metadata": {},
   "outputs": [
    {
     "name": "stdout",
     "output_type": "stream",
     "text": [
      "(1, 2, 2) <class 'tuple'>\n"
     ]
    },
    {
     "data": {
      "text/plain": [
       "-4"
      ]
     },
     "execution_count": 32,
     "metadata": {},
     "output_type": "execute_result"
    }
   ],
   "source": [
    "t3.evalfunc(1,2,2)"
   ]
  },
  {
   "cell_type": "markdown",
   "metadata": {
    "heading_collapsed": true
   },
   "source": [
    "## `AbstractTensor` Class Definition"
   ]
  },
  {
   "cell_type": "markdown",
   "metadata": {
    "hidden": true
   },
   "source": [
    "The below code is also unnecessary because the class `sympy.Array` already has the required properties."
   ]
  },
  {
   "cell_type": "code",
   "execution_count": 54,
   "metadata": {
    "hidden": true
   },
   "outputs": [],
   "source": [
    "class AbstractTensor():\n",
    "    \"\"\"Class whose objects are abstract tensors with a name and a set of indices.\n",
    "    Various symmetries of the indices are kept track of, and all ordinary text labels\n",
    "    can have a latex equivalent.\n",
    "    \"\"\"\n",
    "    \n",
    "    def __init__(self, name, num_upper = 0, num_lower = 0, upper_labels = [], lower_labels = []):\n",
    "        if not name:\n",
    "            raise ValueError(\"Tensor name cannot be empty\")\n",
    "        if type(name) != str:\n",
    "            raise TypeError(\"name should be a string\")\n",
    "        self.name = name\n",
    "        \n",
    "        if num_upper < 0 or num_lower < 0:\n",
    "            raise ValueError(\"Number of upper and lower indices must be greater than zero.\")\n",
    "        if type(num_upper) != int or type(num_lower) != int:\n",
    "            raise TypeError(\"num_upper and num_lower should be non-negative integers\")\n",
    "        self.num_upper = num_upper\n",
    "        self.num_lower = num_lower\n",
    "        \n",
    "        if type(upper_labels) != list or type(lower_labels) != list:\n",
    "            raise TypeError(\"upper_labels and lower_labels should be of list type\")\n",
    "        \n",
    "        "
   ]
  },
  {
   "cell_type": "markdown",
   "metadata": {
    "collapsed": true
   },
   "source": [
    "## `TensorNetwork` class definition"
   ]
  },
  {
   "cell_type": "markdown",
   "metadata": {},
   "source": [
    "The following code will not work. We want to define abstract tensor class first."
   ]
  },
  {
   "cell_type": "code",
   "execution_count": 51,
   "metadata": {},
   "outputs": [],
   "source": [
    "class TensorNetwork(ig.Graph):\n",
    "    \"\"\"Class derived from igraph.Graph, which keeps track of vertex/edge labels and boundary nodes\n",
    "    \n",
    "    Attributes\n",
    "    ----------\n",
    "    \n",
    "    boundaryNodes : list\n",
    "        list of nodes which are attached to only one edge, i.e. nodes of degree 1.\n",
    "        These nodes constitute the \"boundary\" of the graph.\n",
    "\n",
    "    \"\"\"\n",
    "    \n",
    "    def __init__(self, *args, **kwds):\n",
    "        ig.Graph.__init__(self, *args, **kwds)\n",
    "    \n",
    "    boundaryNodes = []\n",
    "    nodeTypes = {\"input\" : {\"shape\" : \"hidden\"},\n",
    "                 \"output\" : {\"shape\" : \"hidden\"},\n",
    "                 \"body\" : {\"shape\" : \"hidden\"} }"
   ]
  },
  {
   "cell_type": "code",
   "execution_count": 18,
   "metadata": {},
   "outputs": [],
   "source": [
    "g1 = TensorNetwork()"
   ]
  },
  {
   "cell_type": "code",
   "execution_count": 19,
   "metadata": {},
   "outputs": [],
   "source": [
    "g1[\"name\"] = \"t1\""
   ]
  },
  {
   "cell_type": "code",
   "execution_count": 20,
   "metadata": {},
   "outputs": [
    {
     "name": "stdout",
     "output_type": "stream",
     "text": [
      "IGRAPH U--- 0 0 -- t1\n",
      "+ attr: name (g)\n"
     ]
    }
   ],
   "source": [
    "print(g1)"
   ]
  },
  {
   "cell_type": "code",
   "execution_count": 21,
   "metadata": {},
   "outputs": [
    {
     "data": {
      "text/plain": [
       "['name']"
      ]
     },
     "execution_count": 21,
     "metadata": {},
     "output_type": "execute_result"
    }
   ],
   "source": [
    "g1.attributes()"
   ]
  },
  {
   "cell_type": "code",
   "execution_count": 15,
   "metadata": {},
   "outputs": [],
   "source": [
    "g1.__plot__?"
   ]
  },
  {
   "cell_type": "markdown",
   "metadata": {},
   "source": [
    "# Boundary Edges and Nodes"
   ]
  },
  {
   "cell_type": "markdown",
   "metadata": {},
   "source": [
    "`networkx` has built in algorithms to determine which nodes and edges are on the boundary of the graph. But none of them seem to work. So let's write our own code."
   ]
  },
  {
   "cell_type": "markdown",
   "metadata": {},
   "source": [
    "## `boundaryNodes` function definition"
   ]
  },
  {
   "cell_type": "code",
   "execution_count": null,
   "metadata": {},
   "outputs": [],
   "source": [
    "def boundaryNodes(graph):\n",
    "    try:\n",
    "        "
   ]
  },
  {
   "cell_type": "markdown",
   "metadata": {},
   "source": [
    "## Sandbox"
   ]
  },
  {
   "cell_type": "code",
   "execution_count": 22,
   "metadata": {},
   "outputs": [],
   "source": [
    "ig1 = ig.Graph.Lattice([5],circular=False)"
   ]
  },
  {
   "cell_type": "code",
   "execution_count": 23,
   "metadata": {},
   "outputs": [
    {
     "data": {
      "text/plain": [
       "[0, 1, 2, 3, 4]"
      ]
     },
     "execution_count": 23,
     "metadata": {},
     "output_type": "execute_result"
    }
   ],
   "source": [
    "ig1.vs.indices"
   ]
  },
  {
   "cell_type": "code",
   "execution_count": 24,
   "metadata": {},
   "outputs": [
    {
     "data": {
      "image/svg+xml": [
       "<?xml version=\"1.0\" encoding=\"UTF-8\"?>\n",
       "<svg xmlns=\"http://www.w3.org/2000/svg\" xmlns:xlink=\"http://www.w3.org/1999/xlink\" width=\"100pt\" height=\"100pt\" viewBox=\"0 0 100 100\" version=\"1.1\">\n",
       "<g id=\"surface2\">\n",
       "<rect x=\"0\" y=\"0\" width=\"100\" height=\"100\" style=\"fill:rgb(100%,100%,100%);fill-opacity:1;stroke:none;\"/>\n",
       "<path style=\"fill:none;stroke-width:1;stroke-linecap:butt;stroke-linejoin:miter;stroke:rgb(26.666667%,26.666667%,26.666667%);stroke-opacity:1;stroke-miterlimit:10;\" d=\"M 80 80 L 65 65 \"/>\n",
       "<path style=\"fill:none;stroke-width:1;stroke-linecap:butt;stroke-linejoin:miter;stroke:rgb(26.666667%,26.666667%,26.666667%);stroke-opacity:1;stroke-miterlimit:10;\" d=\"M 65 65 L 50 50 \"/>\n",
       "<path style=\"fill:none;stroke-width:1;stroke-linecap:butt;stroke-linejoin:miter;stroke:rgb(26.666667%,26.666667%,26.666667%);stroke-opacity:1;stroke-miterlimit:10;\" d=\"M 50 50 L 35 35 \"/>\n",
       "<path style=\"fill:none;stroke-width:1;stroke-linecap:butt;stroke-linejoin:miter;stroke:rgb(26.666667%,26.666667%,26.666667%);stroke-opacity:1;stroke-miterlimit:10;\" d=\"M 35 35 L 20 20 \"/>\n",
       "<path style=\"fill-rule:nonzero;fill:rgb(100%,0%,0%);fill-opacity:1;stroke-width:1;stroke-linecap:butt;stroke-linejoin:miter;stroke:rgb(0%,0%,0%);stroke-opacity:1;stroke-miterlimit:10;\" d=\"M 85 80 C 85 86.667969 75 86.667969 75 80 C 75 73.332031 85 73.332031 85 80 \"/>\n",
       "<path style=\"fill-rule:nonzero;fill:rgb(100%,0%,0%);fill-opacity:1;stroke-width:1;stroke-linecap:butt;stroke-linejoin:miter;stroke:rgb(0%,0%,0%);stroke-opacity:1;stroke-miterlimit:10;\" d=\"M 70 65 C 70 71.667969 60 71.667969 60 65 C 60 58.332031 70 58.332031 70 65 \"/>\n",
       "<path style=\"fill-rule:nonzero;fill:rgb(100%,0%,0%);fill-opacity:1;stroke-width:1;stroke-linecap:butt;stroke-linejoin:miter;stroke:rgb(0%,0%,0%);stroke-opacity:1;stroke-miterlimit:10;\" d=\"M 55 50 C 55 56.667969 45 56.667969 45 50 C 45 43.332031 55 43.332031 55 50 \"/>\n",
       "<path style=\"fill-rule:nonzero;fill:rgb(100%,0%,0%);fill-opacity:1;stroke-width:1;stroke-linecap:butt;stroke-linejoin:miter;stroke:rgb(0%,0%,0%);stroke-opacity:1;stroke-miterlimit:10;\" d=\"M 40 35 C 40 41.667969 30 41.667969 30 35 C 30 28.332031 40 28.332031 40 35 \"/>\n",
       "<path style=\"fill-rule:nonzero;fill:rgb(100%,0%,0%);fill-opacity:1;stroke-width:1;stroke-linecap:butt;stroke-linejoin:miter;stroke:rgb(0%,0%,0%);stroke-opacity:1;stroke-miterlimit:10;\" d=\"M 25 20 C 25 26.667969 15 26.667969 15 20 C 15 13.332031 25 13.332031 25 20 \"/>\n",
       "</g>\n",
       "</svg>\n"
      ],
      "text/plain": [
       "<igraph.drawing.Plot at 0x11456d748>"
      ]
     },
     "execution_count": 24,
     "metadata": {},
     "output_type": "execute_result"
    }
   ],
   "source": [
    "ig.plot(ig1,bbox=(100,100),vertex_size=10)"
   ]
  },
  {
   "cell_type": "code",
   "execution_count": 43,
   "metadata": {},
   "outputs": [],
   "source": [
    "ig1.vs[0][\"label\"] = 'r$x_1$'"
   ]
  },
  {
   "cell_type": "code",
   "execution_count": 44,
   "metadata": {},
   "outputs": [],
   "source": [
    "plot1 = ig.plot(ig1,bbox=(100,100),vertex_size=10)"
   ]
  },
  {
   "cell_type": "code",
   "execution_count": 48,
   "metadata": {},
   "outputs": [],
   "source": [
    "from IPython.display import SVG, display"
   ]
  },
  {
   "cell_type": "code",
   "execution_count": 50,
   "metadata": {},
   "outputs": [
    {
     "data": {
      "image/svg+xml": [
       "<svg height=\"100pt\" version=\"1.1\" viewBox=\"0 0 100 100\" width=\"100pt\" xmlns=\"http://www.w3.org/2000/svg\" xmlns:xlink=\"http://www.w3.org/1999/xlink\">\n",
       "<defs>\n",
       "<g>\n",
       "<symbol id=\"glyph0-0\" overflow=\"visible\">\n",
       "<path d=\"\" style=\"stroke:none;\"/>\n",
       "</symbol>\n",
       "<symbol id=\"glyph0-1\" overflow=\"visible\">\n",
       "<path d=\"M 0.9375 -7.320312 L 2.105469 -7.320312 L 2.105469 -6.054688 C 2.203125 -6.300781 2.4375 -6.601562 2.808594 -6.957031 C 3.183594 -7.308594 3.613281 -7.484375 4.101562 -7.484375 C 4.125 -7.484375 4.164062 -7.484375 4.21875 -7.476562 C 4.273438 -7.472656 4.367188 -7.464844 4.5 -7.453125 L 4.5 -6.152344 C 4.425781 -6.164062 4.359375 -6.175781 4.296875 -6.179688 C 4.234375 -6.183594 4.167969 -6.1875 4.09375 -6.1875 C 3.476562 -6.1875 3 -5.988281 2.664062 -5.589844 C 2.332031 -5.191406 2.167969 -4.730469 2.167969 -4.210938 L 2.167969 0 L 0.9375 0 Z M 0.9375 -7.320312 \" style=\"stroke:none;\"/>\n",
       "</symbol>\n",
       "<symbol id=\"glyph0-2\" overflow=\"visible\">\n",
       "<path d=\"M 5.789062 -1.566406 C 5.945312 -1.839844 6.023438 -2.15625 6.023438 -2.515625 C 6.023438 -3.085938 5.8125 -3.519531 5.394531 -3.8125 C 5.152344 -3.988281 4.746094 -4.152344 4.175781 -4.304688 L 4.175781 -0.710938 C 4.957031 -0.746094 5.492188 -1.03125 5.789062 -1.566406 Z M 2.308594 -6.25 C 2.605469 -5.992188 3.007812 -5.816406 3.515625 -5.714844 L 3.515625 -8.929688 C 2.917969 -8.90625 2.492188 -8.722656 2.238281 -8.382812 C 1.984375 -8.039062 1.859375 -7.679688 1.859375 -7.308594 C 1.859375 -6.855469 2.007812 -6.503906 2.308594 -6.25 Z M 1.390625 -9.097656 C 1.898438 -9.65625 2.609375 -9.9375 3.527344 -9.945312 L 3.527344 -10.855469 L 4.175781 -10.855469 L 4.175781 -9.960938 C 5.082031 -9.898438 5.78125 -9.628906 6.265625 -9.15625 C 6.75 -8.683594 7.003906 -8.0625 7.027344 -7.289062 L 5.832031 -7.289062 C 5.800781 -7.632812 5.707031 -7.933594 5.550781 -8.183594 C 5.265625 -8.644531 4.804688 -8.882812 4.175781 -8.90625 L 4.175781 -5.585938 C 5.234375 -5.289062 5.953125 -5.011719 6.328125 -4.75 C 6.945312 -4.320312 7.253906 -3.6875 7.253906 -2.851562 C 7.253906 -1.640625 6.859375 -0.777344 6.070312 -0.265625 C 5.632812 0.015625 5 0.203125 4.175781 0.292969 L 4.175781 1.621094 L 3.527344 1.621094 L 3.527344 0.292969 C 2.203125 0.207031 1.300781 -0.261719 0.828125 -1.113281 C 0.566406 -1.574219 0.4375 -2.195312 0.4375 -2.980469 L 1.648438 -2.980469 C 1.683594 -2.355469 1.78125 -1.898438 1.941406 -1.613281 C 2.222656 -1.097656 2.75 -0.808594 3.515625 -0.746094 L 3.515625 -4.46875 C 2.53125 -4.65625 1.800781 -4.96875 1.332031 -5.40625 C 0.863281 -5.84375 0.628906 -6.449219 0.628906 -7.226562 C 0.628906 -7.917969 0.882812 -8.542969 1.390625 -9.097656 Z M 1.390625 -9.097656 \" style=\"stroke:none;\"/>\n",
       "</symbol>\n",
       "<symbol id=\"glyph0-3\" overflow=\"visible\">\n",
       "<path d=\"M 0.203125 -7.320312 L 1.796875 -7.320312 L 3.480469 -4.742188 L 5.179688 -7.320312 L 6.679688 -7.289062 L 4.210938 -3.753906 L 6.789062 0 L 5.214844 0 L 3.398438 -2.75 L 1.632812 0 L 0.0742188 0 L 2.652344 -3.753906 Z M 0.203125 -7.320312 \" style=\"stroke:none;\"/>\n",
       "</symbol>\n",
       "<symbol id=\"glyph0-4\" overflow=\"visible\">\n",
       "<path d=\"M 0 1.75 L 0 1.058594 L 7.785156 1.058594 L 7.785156 1.75 Z M 0 1.75 \" style=\"stroke:none;\"/>\n",
       "</symbol>\n",
       "<symbol id=\"glyph0-5\" overflow=\"visible\">\n",
       "<path d=\"M 1.339844 -6.929688 L 1.339844 -7.875 C 2.226562 -7.960938 2.847656 -8.105469 3.199219 -8.308594 C 3.550781 -8.511719 3.8125 -8.992188 3.984375 -9.75 L 4.957031 -9.75 L 4.957031 0 L 3.644531 0 L 3.644531 -6.929688 Z M 1.339844 -6.929688 \" style=\"stroke:none;\"/>\n",
       "</symbol>\n",
       "<symbol id=\"glyph0-6\" overflow=\"visible\">\n",
       "<path d=\"M 0.960938 -2.203125 C 1.265625 -2.828125 1.855469 -3.394531 2.734375 -3.902344 L 4.046875 -4.664062 C 4.632812 -5.003906 5.046875 -5.296875 5.285156 -5.539062 C 5.65625 -5.914062 5.84375 -6.347656 5.84375 -6.835938 C 5.84375 -7.40625 5.671875 -7.859375 5.332031 -8.191406 C 4.992188 -8.527344 4.535156 -8.695312 3.964844 -8.695312 C 3.121094 -8.695312 2.539062 -8.375 2.214844 -7.738281 C 2.042969 -7.398438 1.945312 -6.921875 1.929688 -6.316406 L 0.675781 -6.316406 C 0.691406 -7.167969 0.847656 -7.863281 1.148438 -8.402344 C 1.679688 -9.351562 2.621094 -9.824219 3.972656 -9.824219 C 5.09375 -9.824219 5.910156 -9.519531 6.429688 -8.914062 C 6.945312 -8.308594 7.203125 -7.632812 7.203125 -6.890625 C 7.203125 -6.105469 6.929688 -5.4375 6.378906 -4.882812 C 6.058594 -4.558594 5.488281 -4.164062 4.664062 -3.703125 L 3.726562 -3.1875 C 3.28125 -2.941406 2.929688 -2.703125 2.671875 -2.480469 C 2.21875 -2.085938 1.929688 -1.644531 1.8125 -1.164062 L 7.15625 -1.164062 L 7.15625 0 L 0.4375 0 C 0.484375 -0.84375 0.65625 -1.578125 0.960938 -2.203125 Z M 0.960938 -2.203125 \" style=\"stroke:none;\"/>\n",
       "</symbol>\n",
       "</g>\n",
       "</defs>\n",
       "<g id=\"surface71\">\n",
       "<rect height=\"100\" style=\"fill:rgb(100%,100%,100%);fill-opacity:1;stroke:none;\" width=\"100\" x=\"0\" y=\"0\"/>\n",
       "<path d=\"M 80 80 L 65 65 \" style=\"fill:none;stroke-width:1;stroke-linecap:butt;stroke-linejoin:miter;stroke:rgb(26.666667%,26.666667%,26.666667%);stroke-opacity:1;stroke-miterlimit:10;\"/>\n",
       "<path d=\"M 65 65 L 50 50 \" style=\"fill:none;stroke-width:1;stroke-linecap:butt;stroke-linejoin:miter;stroke:rgb(26.666667%,26.666667%,26.666667%);stroke-opacity:1;stroke-miterlimit:10;\"/>\n",
       "<path d=\"M 50 50 L 35 35 \" style=\"fill:none;stroke-width:1;stroke-linecap:butt;stroke-linejoin:miter;stroke:rgb(26.666667%,26.666667%,26.666667%);stroke-opacity:1;stroke-miterlimit:10;\"/>\n",
       "<path d=\"M 35 35 L 20 20 \" style=\"fill:none;stroke-width:1;stroke-linecap:butt;stroke-linejoin:miter;stroke:rgb(26.666667%,26.666667%,26.666667%);stroke-opacity:1;stroke-miterlimit:10;\"/>\n",
       "<path d=\"M 85 80 C 85 86.667969 75 86.667969 75 80 C 75 73.332031 85 73.332031 85 80 \" style=\"fill-rule:nonzero;fill:rgb(100%,0%,0%);fill-opacity:1;stroke-width:1;stroke-linecap:butt;stroke-linejoin:miter;stroke:rgb(0%,0%,0%);stroke-opacity:1;stroke-miterlimit:10;\"/>\n",
       "<path d=\"M 70 65 C 70 71.667969 60 71.667969 60 65 C 60 58.332031 70 58.332031 70 65 \" style=\"fill-rule:nonzero;fill:rgb(100%,0%,0%);fill-opacity:1;stroke-width:1;stroke-linecap:butt;stroke-linejoin:miter;stroke:rgb(0%,0%,0%);stroke-opacity:1;stroke-miterlimit:10;\"/>\n",
       "<path d=\"M 55 50 C 55 56.667969 45 56.667969 45 50 C 45 43.332031 55 43.332031 55 50 \" style=\"fill-rule:nonzero;fill:rgb(100%,0%,0%);fill-opacity:1;stroke-width:1;stroke-linecap:butt;stroke-linejoin:miter;stroke:rgb(0%,0%,0%);stroke-opacity:1;stroke-miterlimit:10;\"/>\n",
       "<path d=\"M 40 35 C 40 41.667969 30 41.667969 30 35 C 30 28.332031 40 28.332031 40 35 \" style=\"fill-rule:nonzero;fill:rgb(100%,0%,0%);fill-opacity:1;stroke-width:1;stroke-linecap:butt;stroke-linejoin:miter;stroke:rgb(0%,0%,0%);stroke-opacity:1;stroke-miterlimit:10;\"/>\n",
       "<path d=\"M 25 20 C 25 26.667969 15 26.667969 15 20 C 15 13.332031 25 13.332031 25 20 \" style=\"fill-rule:nonzero;fill:rgb(100%,0%,0%);fill-opacity:1;stroke-width:1;stroke-linecap:butt;stroke-linejoin:miter;stroke:rgb(0%,0%,0%);stroke-opacity:1;stroke-miterlimit:10;\"/>\n",
       "<g style=\"fill:rgb(0%,0%,0%);fill-opacity:1;\">\n",
       "  <use x=\"58.394531\" xlink:href=\"#glyph0-1\" y=\"87.039062\"/>\n",
       "  <use x=\"63.056641\" xlink:href=\"#glyph0-2\" y=\"87.039062\"/>\n",
       "  <use x=\"70.842773\" xlink:href=\"#glyph0-3\" y=\"87.039062\"/>\n",
       "  <use x=\"77.842773\" xlink:href=\"#glyph0-4\" y=\"87.039062\"/>\n",
       "  <use x=\"85.628906\" xlink:href=\"#glyph0-5\" y=\"87.039062\"/>\n",
       "  <use x=\"93.415039\" xlink:href=\"#glyph0-2\" y=\"87.039062\"/>\n",
       "</g>\n",
       "<g style=\"fill:rgb(0%,0%,0%);fill-opacity:1;\">\n",
       "  <use x=\"43.394531\" xlink:href=\"#glyph0-1\" y=\"72.039062\"/>\n",
       "  <use x=\"48.056641\" xlink:href=\"#glyph0-2\" y=\"72.039062\"/>\n",
       "  <use x=\"55.842773\" xlink:href=\"#glyph0-3\" y=\"72.039062\"/>\n",
       "  <use x=\"62.842773\" xlink:href=\"#glyph0-4\" y=\"72.039062\"/>\n",
       "  <use x=\"70.628906\" xlink:href=\"#glyph0-6\" y=\"72.039062\"/>\n",
       "  <use x=\"78.415039\" xlink:href=\"#glyph0-2\" y=\"72.039062\"/>\n",
       "</g>\n",
       "</g>\n",
       "</svg>"
      ],
      "text/plain": [
       "<IPython.core.display.SVG object>"
      ]
     },
     "execution_count": 50,
     "metadata": {},
     "output_type": "execute_result"
    }
   ],
   "source": [
    "SVG(plot1._repr_svg_())"
   ]
  },
  {
   "cell_type": "code",
   "execution_count": 41,
   "metadata": {},
   "outputs": [],
   "source": [
    "ig1.vs[1][\"label\"] = 'r$x_2$'"
   ]
  },
  {
   "cell_type": "code",
   "execution_count": 38,
   "metadata": {},
   "outputs": [],
   "source": [
    "ig.plot?"
   ]
  },
  {
   "cell_type": "code",
   "execution_count": 49,
   "metadata": {},
   "outputs": [],
   "source": [
    "g1d = nx.grid_graph([5])"
   ]
  },
  {
   "cell_type": "code",
   "execution_count": 55,
   "metadata": {},
   "outputs": [
    {
     "data": {
      "text/plain": [
       "networkx.classes.graph.Graph"
      ]
     },
     "execution_count": 55,
     "metadata": {},
     "output_type": "execute_result"
    }
   ],
   "source": [
    "type(g1d)"
   ]
  },
  {
   "cell_type": "code",
   "execution_count": null,
   "metadata": {},
   "outputs": [],
   "source": []
  },
  {
   "cell_type": "code",
   "execution_count": 54,
   "metadata": {},
   "outputs": [],
   "source": [
    "nx.tensor_product?"
   ]
  },
  {
   "cell_type": "code",
   "execution_count": 50,
   "metadata": {},
   "outputs": [
    {
     "data": {
      "image/png": "[encoded data removed]",
      "text/plain": [
       "<matplotlib.figure.Figure at 0x115aba0f0>"
      ]
     },
     "metadata": {},
     "output_type": "display_data"
    }
   ],
   "source": [
    "nx.draw(g1d)"
   ]
  },
  {
   "cell_type": "code",
   "execution_count": 51,
   "metadata": {},
   "outputs": [
    {
     "data": {
      "text/plain": [
       "[0, 1, 2, 3, 4]"
      ]
     },
     "execution_count": 51,
     "metadata": {},
     "output_type": "execute_result"
    }
   ],
   "source": [
    "g1d.nodes()"
   ]
  },
  {
   "cell_type": "code",
   "execution_count": 52,
   "metadata": {},
   "outputs": [
    {
     "data": {
      "text/plain": [
       "[(1, 0), (3, 4)]"
      ]
     },
     "execution_count": 52,
     "metadata": {},
     "output_type": "execute_result"
    }
   ],
   "source": [
    "nx.algorithms.edge_boundary(g1d,[1,2,3])"
   ]
  },
  {
   "cell_type": "code",
   "execution_count": 53,
   "metadata": {},
   "outputs": [
    {
     "data": {
      "text/plain": [
       "[(1, 0), (3, 4)]"
      ]
     },
     "execution_count": 53,
     "metadata": {},
     "output_type": "execute_result"
    }
   ],
   "source": [
    "nx.algorithms.edge_boundary(g1d,[1,2,3],nbunch2=[0,4])"
   ]
  },
  {
   "cell_type": "code",
   "execution_count": null,
   "metadata": {},
   "outputs": [],
   "source": [
    "nx.algorithms.node_boundary(g1d,)"
   ]
  },
  {
   "cell_type": "code",
   "execution_count": 38,
   "metadata": {},
   "outputs": [
    {
     "data": {
      "image/png": "[encoded data removed]",
      "text/plain": [
       "<matplotlib.figure.Figure at 0x1159c0550>"
      ]
     },
     "metadata": {},
     "output_type": "display_data"
    }
   ],
   "source": [
    "nx.draw(g1d)"
   ]
  },
  {
   "cell_type": "code",
   "execution_count": 40,
   "metadata": {},
   "outputs": [
    {
     "data": {
      "text/plain": [
       "[(0, 1),\n",
       " (0, None),\n",
       " (1, 2),\n",
       " (2, 3),\n",
       " (3, 4),\n",
       " (4, 5),\n",
       " (5, 6),\n",
       " (6, 7),\n",
       " (7, 8),\n",
       " (8, 9)]"
      ]
     },
     "execution_count": 40,
     "metadata": {},
     "output_type": "execute_result"
    }
   ],
   "source": [
    "nx.edges(g1d)"
   ]
  },
  {
   "cell_type": "markdown",
   "metadata": {},
   "source": [
    "# Sandbox"
   ]
  },
  {
   "cell_type": "code",
   "execution_count": null,
   "metadata": {},
   "outputs": [],
   "source": []
  },
  {
   "cell_type": "code",
   "execution_count": null,
   "metadata": {},
   "outputs": [],
   "source": []
  },
  {
   "cell_type": "code",
   "execution_count": null,
   "metadata": {},
   "outputs": [],
   "source": []
  },
  {
   "cell_type": "markdown",
   "metadata": {},
   "source": [
    "## Check if a condition is satisfied by all elements in a list"
   ]
  },
  {
   "cell_type": "code",
   "execution_count": 16,
   "metadata": {},
   "outputs": [
    {
     "data": {
      "text/plain": [
       "[True, True, False]"
      ]
     },
     "execution_count": 16,
     "metadata": {},
     "output_type": "execute_result"
    }
   ],
   "source": [
    "[x > 0 and type(x) == int for x in [2,3,4.1]]"
   ]
  },
  {
   "cell_type": "code",
   "execution_count": 17,
   "metadata": {},
   "outputs": [],
   "source": [
    "def f():\n",
    "    return 0"
   ]
  },
  {
   "cell_type": "markdown",
   "metadata": {},
   "source": [
    "## Check if a variable is a function"
   ]
  },
  {
   "cell_type": "code",
   "execution_count": 20,
   "metadata": {},
   "outputs": [
    {
     "data": {
      "text/plain": [
       "True"
      ]
     },
     "execution_count": 20,
     "metadata": {},
     "output_type": "execute_result"
    }
   ],
   "source": [
    "callable(f)"
   ]
  },
  {
   "cell_type": "markdown",
   "metadata": {},
   "source": [
    "## Determine number and type of arguments a function takes\n",
    "\n",
    "Reference: [Stackexchange](https://stackoverflow.com/a/41188411/506434)"
   ]
  },
  {
   "cell_type": "code",
   "execution_count": 40,
   "metadata": {},
   "outputs": [],
   "source": [
    "from inspect import signature"
   ]
  },
  {
   "cell_type": "code",
   "execution_count": 24,
   "metadata": {},
   "outputs": [],
   "source": [
    "sig = signature(f)"
   ]
  },
  {
   "cell_type": "code",
   "execution_count": 26,
   "metadata": {},
   "outputs": [
    {
     "data": {
      "text/plain": [
       "'()'"
      ]
     },
     "execution_count": 26,
     "metadata": {},
     "output_type": "execute_result"
    }
   ],
   "source": [
    "str(sig)"
   ]
  },
  {
   "cell_type": "code",
   "execution_count": 27,
   "metadata": {},
   "outputs": [],
   "source": [
    "def test(self,rank=0,dims=[1],function=None):\n",
    "    return None"
   ]
  },
  {
   "cell_type": "code",
   "execution_count": 28,
   "metadata": {},
   "outputs": [
    {
     "data": {
      "text/plain": [
       "'(self, rank=0, dims=[1], function=None)'"
      ]
     },
     "execution_count": 28,
     "metadata": {},
     "output_type": "execute_result"
    }
   ],
   "source": [
    "sigtest = signature(test)\n",
    "str(sigtest)"
   ]
  },
  {
   "cell_type": "code",
   "execution_count": 34,
   "metadata": {},
   "outputs": [
    {
     "name": "stdout",
     "output_type": "stream",
     "text": [
      "OrderedDict([('self', <Parameter \"self\">), ('rank', <Parameter \"rank=0\">), ('dims', <Parameter \"dims=[1]\">), ('function', <Parameter \"function=None\">)])\n"
     ]
    }
   ],
   "source": [
    "params = sigtest.parameters\n",
    "print(params)"
   ]
  },
  {
   "cell_type": "code",
   "execution_count": 35,
   "metadata": {},
   "outputs": [
    {
     "data": {
      "text/plain": [
       "odict_keys(['self', 'rank', 'dims', 'function'])"
      ]
     },
     "execution_count": 35,
     "metadata": {},
     "output_type": "execute_result"
    }
   ],
   "source": [
    "params.keys()"
   ]
  },
  {
   "cell_type": "code",
   "execution_count": 36,
   "metadata": {},
   "outputs": [
    {
     "data": {
      "text/plain": [
       "odict_values([<Parameter \"self\">, <Parameter \"rank=0\">, <Parameter \"dims=[1]\">, <Parameter \"function=None\">])"
      ]
     },
     "execution_count": 36,
     "metadata": {},
     "output_type": "execute_result"
    }
   ],
   "source": [
    "params.values()"
   ]
  },
  {
   "cell_type": "code",
   "execution_count": 37,
   "metadata": {},
   "outputs": [
    {
     "data": {
      "text/plain": [
       "inspect.Parameter"
      ]
     },
     "execution_count": 37,
     "metadata": {},
     "output_type": "execute_result"
    }
   ],
   "source": [
    "type(params['self'])"
   ]
  },
  {
   "cell_type": "markdown",
   "metadata": {},
   "source": [
    "## Define a function which takes an arbitrary number of parameters"
   ]
  },
  {
   "cell_type": "code",
   "execution_count": 60,
   "metadata": {},
   "outputs": [],
   "source": [
    "def func(*args):\n",
    "    for i in args:\n",
    "        print(i,)"
   ]
  },
  {
   "cell_type": "code",
   "execution_count": 61,
   "metadata": {},
   "outputs": [
    {
     "name": "stdout",
     "output_type": "stream",
     "text": [
      "2\n",
      "3\n",
      "[5]\n"
     ]
    }
   ],
   "source": [
    "func(2,3,[5])"
   ]
  },
  {
   "cell_type": "code",
   "execution_count": 62,
   "metadata": {},
   "outputs": [
    {
     "data": {
      "text/plain": [
       "[]"
      ]
     },
     "execution_count": 62,
     "metadata": {},
     "output_type": "execute_result"
    }
   ],
   "source": [
    "[1]*0"
   ]
  },
  {
   "cell_type": "code",
   "execution_count": 63,
   "metadata": {},
   "outputs": [
    {
     "name": "stdout",
     "output_type": "stream",
     "text": [
      "[]\n"
     ]
    }
   ],
   "source": [
    "func([])"
   ]
  },
  {
   "cell_type": "code",
   "execution_count": 65,
   "metadata": {},
   "outputs": [
    {
     "data": {
      "text/plain": [
       "'func'"
      ]
     },
     "execution_count": 65,
     "metadata": {},
     "output_type": "execute_result"
    }
   ],
   "source": [
    "func.__name__"
   ]
  },
  {
   "cell_type": "markdown",
   "metadata": {},
   "source": [
    "## Check if a module has been imported"
   ]
  },
  {
   "cell_type": "code",
   "execution_count": 38,
   "metadata": {},
   "outputs": [],
   "source": [
    "import sys"
   ]
  },
  {
   "cell_type": "code",
   "execution_count": 44,
   "metadata": {},
   "outputs": [
    {
     "data": {
      "text/plain": [
       "False"
      ]
     },
     "execution_count": 44,
     "metadata": {},
     "output_type": "execute_result"
    }
   ],
   "source": [
    "'inspect' not in sys.modules"
   ]
  },
  {
   "cell_type": "code",
   "execution_count": 55,
   "metadata": {},
   "outputs": [],
   "source": [
    "import sys"
   ]
  },
  {
   "cell_type": "code",
   "execution_count": 57,
   "metadata": {},
   "outputs": [
    {
     "name": "stdout",
     "output_type": "stream",
     "text": [
      "{'builtins': <module 'builtins' (built-in)>, 'sys': <module 'sys' (built-in)>, '_frozen_importlib': <module 'importlib._bootstrap' (frozen)>, '_imp': <module '_imp' (built-in)>, '_warnings': <module '_warnings' (built-in)>, '_thread': <module '_thread' (built-in)>, '_weakref': <module '_weakref' (built-in)>, '_frozen_importlib_external': <module 'importlib._bootstrap_external' (frozen)>, '_io': <module 'io' (built-in)>, 'marshal': <module 'marshal' (built-in)>, 'posix': <module 'posix' (built-in)>, 'zipimport': <module 'zipimport' (built-in)>, 'encodings': <module 'encodings' from '/Users/deepak/miniconda3/lib/python3.6/encodings/__init__.py'>, 'codecs': <module 'codecs' from '/Users/deepak/miniconda3/lib/python3.6/codecs.py'>, '_codecs': <module '_codecs' (built-in)>, 'encodings.aliases': <module 'encodings.aliases' from '/Users/deepak/miniconda3/lib/python3.6/encodings/aliases.py'>, 'encodings.utf_8': <module 'encodings.utf_8' from '/Users/deepak/miniconda3/lib/python3.6/encodings/utf_8.py'>, '_signal': <module '_signal' (built-in)>, '__main__': <module '__main__'>, 'encodings.latin_1': <module 'encodings.latin_1' from '/Users/deepak/miniconda3/lib/python3.6/encodings/latin_1.py'>, 'io': <module 'io' from '/Users/deepak/miniconda3/lib/python3.6/io.py'>, 'abc': <module 'abc' from '/Users/deepak/miniconda3/lib/python3.6/abc.py'>, '_weakrefset': <module '_weakrefset' from '/Users/deepak/miniconda3/lib/python3.6/_weakrefset.py'>, '_bootlocale': <module '_bootlocale' from '/Users/deepak/miniconda3/lib/python3.6/_bootlocale.py'>, '_locale': <module '_locale' (built-in)>, 'site': <module 'site' from '/Users/deepak/miniconda3/lib/python3.6/site.py'>, 'os': <module 'os' from '/Users/deepak/miniconda3/lib/python3.6/os.py'>, 'errno': <module 'errno' (built-in)>, 'stat': <module 'stat' from '/Users/deepak/miniconda3/lib/python3.6/stat.py'>, '_stat': <module '_stat' (built-in)>, 'posixpath': <module 'posixpath' from '/Users/deepak/miniconda3/lib/python3.6/posixpath.py'>, 'genericpath': <module 'genericpath' from '/Users/deepak/miniconda3/lib/python3.6/genericpath.py'>, 'os.path': <module 'posixpath' from '/Users/deepak/miniconda3/lib/python3.6/posixpath.py'>, '_collections_abc': <module '_collections_abc' from '/Users/deepak/miniconda3/lib/python3.6/_collections_abc.py'>, '_sitebuiltins': <module '_sitebuiltins' from '/Users/deepak/miniconda3/lib/python3.6/_sitebuiltins.py'>, 'sysconfig': <module 'sysconfig' from '/Users/deepak/miniconda3/lib/python3.6/sysconfig.py'>, '_sysconfigdata_m_darwin_darwin': <module '_sysconfigdata_m_darwin_darwin' from '/Users/deepak/miniconda3/lib/python3.6/_sysconfigdata_m_darwin_darwin.py'>, '_osx_support': <module '_osx_support' from '/Users/deepak/miniconda3/lib/python3.6/_osx_support.py'>, 're': <module 're' from '/Users/deepak/miniconda3/lib/python3.6/re.py'>, 'enum': <module 'enum' from '/Users/deepak/miniconda3/lib/python3.6/enum.py'>, 'types': <module 'types' from '/Users/deepak/miniconda3/lib/python3.6/types.py'>, 'functools': <module 'functools' from '/Users/deepak/miniconda3/lib/python3.6/functools.py'>, '_functools': <module '_functools' (built-in)>, 'collections': <module 'collections' from '/Users/deepak/miniconda3/lib/python3.6/collections/__init__.py'>, 'operator': <module 'operator' from '/Users/deepak/miniconda3/lib/python3.6/operator.py'>, '_operator': <module '_operator' (built-in)>, 'keyword': <module 'keyword' from '/Users/deepak/miniconda3/lib/python3.6/keyword.py'>, 'heapq': <module 'heapq' from '/Users/deepak/miniconda3/lib/python3.6/heapq.py'>, '_heapq': <module '_heapq' from '/Users/deepak/miniconda3/lib/python3.6/lib-dynload/_heapq.cpython-36m-darwin.so'>, 'itertools': <module 'itertools' (built-in)>, 'reprlib': <module 'reprlib' from '/Users/deepak/miniconda3/lib/python3.6/reprlib.py'>, '_collections': <module '_collections' (built-in)>, 'weakref': <module 'weakref' from '/Users/deepak/miniconda3/lib/python3.6/weakref.py'>, 'collections.abc': <module 'collections.abc' from '/Users/deepak/miniconda3/lib/python3.6/collections/abc.py'>, 'sre_compile': <module 'sre_compile' from '/Users/deepak/miniconda3/lib/python3.6/sre_compile.py'>, '_sre': <module '_sre' (built-in)>, 'sre_parse': <module 'sre_parse' from '/Users/deepak/miniconda3/lib/python3.6/sre_parse.py'>, 'sre_constants': <module 'sre_constants' from '/Users/deepak/miniconda3/lib/python3.6/sre_constants.py'>, 'copyreg': <module 'copyreg' from '/Users/deepak/miniconda3/lib/python3.6/copyreg.py'>, 'importlib': <module 'importlib' from '/Users/deepak/miniconda3/lib/python3.6/importlib/__init__.py'>, 'importlib._bootstrap': <module 'importlib._bootstrap' (frozen)>, 'importlib._bootstrap_external': <module 'importlib._bootstrap_external' (frozen)>, 'warnings': <module 'warnings' from '/Users/deepak/miniconda3/lib/python3.6/warnings.py'>, 'importlib.util': <module 'importlib.util' from '/Users/deepak/miniconda3/lib/python3.6/importlib/util.py'>, 'importlib.abc': <module 'importlib.abc' from '/Users/deepak/miniconda3/lib/python3.6/importlib/abc.py'>, 'importlib.machinery': <module 'importlib.machinery' from '/Users/deepak/miniconda3/lib/python3.6/importlib/machinery.py'>, 'contextlib': <module 'contextlib' from '/Users/deepak/miniconda3/lib/python3.6/contextlib.py'>, 'mpl_toolkits': <module 'mpl_toolkits' (namespace)>, 'google': <module 'google' (namespace)>, 'sphinxcontrib': <module 'sphinxcontrib' from '/Users/deepak/miniconda3/lib/python3.6/site-packages/sphinxcontrib/__init__.py'>, 'encodings.cp437': <module 'encodings.cp437' from '/Users/deepak/miniconda3/lib/python3.6/encodings/cp437.py'>, 'runpy': <module 'runpy' from '/Users/deepak/miniconda3/lib/python3.6/runpy.py'>, 'pkgutil': <module 'pkgutil' from '/Users/deepak/miniconda3/lib/python3.6/pkgutil.py'>, 'ipykernel': <module 'ipykernel' from '/Users/deepak/miniconda3/lib/python3.6/site-packages/ipykernel/__init__.py'>, 'ipykernel._version': <module 'ipykernel._version' from '/Users/deepak/miniconda3/lib/python3.6/site-packages/ipykernel/_version.py'>, 'ipykernel.connect': <module 'ipykernel.connect' from '/Users/deepak/miniconda3/lib/python3.6/site-packages/ipykernel/connect.py'>, '__future__': <module '__future__' from '/Users/deepak/miniconda3/lib/python3.6/__future__.py'>, 'json': <module 'json' from '/Users/deepak/miniconda3/lib/python3.6/json/__init__.py'>, 'json.decoder': <module 'json.decoder' from '/Users/deepak/miniconda3/lib/python3.6/json/decoder.py'>, 'json.scanner': <module 'json.scanner' from '/Users/deepak/miniconda3/lib/python3.6/json/scanner.py'>, '_json': <module '_json' from '/Users/deepak/miniconda3/lib/python3.6/lib-dynload/_json.cpython-36m-darwin.so'>, 'json.encoder': <module 'json.encoder' from '/Users/deepak/miniconda3/lib/python3.6/json/encoder.py'>, 'subprocess': <module 'subprocess' from '/Users/deepak/miniconda3/lib/python3.6/subprocess.py'>, 'time': <module 'time' (built-in)>, 'signal': <module 'signal' from '/Users/deepak/miniconda3/lib/python3.6/signal.py'>, '_posixsubprocess': <module '_posixsubprocess' from '/Users/deepak/miniconda3/lib/python3.6/lib-dynload/_posixsubprocess.cpython-36m-darwin.so'>, 'select': <module 'select' from '/Users/deepak/miniconda3/lib/python3.6/lib-dynload/select.cpython-36m-darwin.so'>, 'selectors': <module 'selectors' from '/Users/deepak/miniconda3/lib/python3.6/selectors.py'>, 'math': <module 'math' from '/Users/deepak/miniconda3/lib/python3.6/lib-dynload/math.cpython-36m-darwin.so'>, 'threading': <module 'threading' from '/Users/deepak/miniconda3/lib/python3.6/threading.py'>, 'traceback': <module 'traceback' from '/Users/deepak/miniconda3/lib/python3.6/traceback.py'>, 'linecache': <module 'linecache' from '/Users/deepak/miniconda3/lib/python3.6/linecache.py'>, 'tokenize': <module 'tokenize' from '/Users/deepak/miniconda3/lib/python3.6/tokenize.py'>, 'token': <module 'token' from '/Users/deepak/miniconda3/lib/python3.6/token.py'>, 'IPython': <module 'IPython' from '/Users/deepak/miniconda3/lib/python3.6/site-packages/IPython/__init__.py'>, 'IPython.core': <module 'IPython.core' from '/Users/deepak/miniconda3/lib/python3.6/site-packages/IPython/core/__init__.py'>, 'IPython.core.getipython': <module 'IPython.core.getipython' from '/Users/deepak/miniconda3/lib/python3.6/site-packages/IPython/core/getipython.py'>, 'IPython.core.release': <module 'IPython.core.release' from '/Users/deepak/miniconda3/lib/python3.6/site-packages/IPython/core/release.py'>, 'IPython.core.application': <module 'IPython.core.application' from '/Users/deepak/miniconda3/lib/python3.6/site-packages/IPython/core/application.py'>, 'atexit': <module 'atexit' (built-in)>, 'copy': <module 'copy' from '/Users/deepak/miniconda3/lib/python3.6/copy.py'>, 'glob': <module 'glob' from '/Users/deepak/miniconda3/lib/python3.6/glob.py'>, 'fnmatch': <module 'fnmatch' from '/Users/deepak/miniconda3/lib/python3.6/fnmatch.py'>, 'logging': <module 'logging' from '/Users/deepak/miniconda3/lib/python3.6/logging/__init__.py'>, 'string': <module 'string' from '/Users/deepak/miniconda3/lib/python3.6/string.py'>, '_string': <module '_string' (built-in)>, 'shutil': <module 'shutil' from '/Users/deepak/miniconda3/lib/python3.6/shutil.py'>, 'zlib': <module 'zlib' from '/Users/deepak/miniconda3/lib/python3.6/lib-dynload/zlib.cpython-36m-darwin.so'>, 'bz2': <module 'bz2' from '/Users/deepak/miniconda3/lib/python3.6/bz2.py'>, '_compression': <module '_compression' from '/Users/deepak/miniconda3/lib/python3.6/_compression.py'>, '_bz2': <module '_bz2' from '/Users/deepak/miniconda3/lib/python3.6/lib-dynload/_bz2.cpython-36m-darwin.so'>, 'lzma': <module 'lzma' from '/Users/deepak/miniconda3/lib/python3.6/lzma.py'>, '_lzma': <module '_lzma' from '/Users/deepak/miniconda3/lib/python3.6/lib-dynload/_lzma.cpython-36m-darwin.so'>, 'pwd': <module 'pwd' (built-in)>, 'grp': <module 'grp' from '/Users/deepak/miniconda3/lib/python3.6/lib-dynload/grp.cpython-36m-darwin.so'>, 'traitlets': <module 'traitlets' from '/Users/deepak/miniconda3/lib/python3.6/site-packages/traitlets/__init__.py'>, 'traitlets.traitlets': <module 'traitlets.traitlets' from '/Users/deepak/miniconda3/lib/python3.6/site-packages/traitlets/traitlets.py'>, 'inspect': <module 'inspect' from '/Users/deepak/miniconda3/lib/python3.6/inspect.py'>, 'ast': <module 'ast' from '/Users/deepak/miniconda3/lib/python3.6/ast.py'>, '_ast': <module '_ast' (built-in)>, 'dis': <module 'dis' from '/Users/deepak/miniconda3/lib/python3.6/dis.py'>, 'opcode': <module 'opcode' from '/Users/deepak/miniconda3/lib/python3.6/opcode.py'>, '_opcode': <module '_opcode' from '/Users/deepak/miniconda3/lib/python3.6/lib-dynload/_opcode.cpython-36m-darwin.so'>, 'six': <module 'six' from '/Users/deepak/miniconda3/lib/python3.6/site-packages/six.py'>, 'struct': <module 'struct' from '/Users/deepak/miniconda3/lib/python3.6/struct.py'>, '_struct': <module '_struct' from '/Users/deepak/miniconda3/lib/python3.6/lib-dynload/_struct.cpython-36m-darwin.so'>, 'traitlets.utils': <module 'traitlets.utils' from '/Users/deepak/miniconda3/lib/python3.6/site-packages/traitlets/utils/__init__.py'>, 'traitlets.utils.getargspec': <module 'traitlets.utils.getargspec' from '/Users/deepak/miniconda3/lib/python3.6/site-packages/traitlets/utils/getargspec.py'>, 'traitlets.utils.importstring': <module 'traitlets.utils.importstring' from '/Users/deepak/miniconda3/lib/python3.6/site-packages/traitlets/utils/importstring.py'>, 'ipython_genutils': <module 'ipython_genutils' from '/Users/deepak/miniconda3/lib/python3.6/site-packages/ipython_genutils/__init__.py'>, 'ipython_genutils._version': <module 'ipython_genutils._version' from '/Users/deepak/miniconda3/lib/python3.6/site-packages/ipython_genutils/_version.py'>, 'ipython_genutils.py3compat': <module 'ipython_genutils.py3compat' from '/Users/deepak/miniconda3/lib/python3.6/site-packages/ipython_genutils/py3compat.py'>, 'ipython_genutils.encoding': <module 'ipython_genutils.encoding' from '/Users/deepak/miniconda3/lib/python3.6/site-packages/ipython_genutils/encoding.py'>, 'locale': <module 'locale' from '/Users/deepak/miniconda3/lib/python3.6/locale.py'>, 'platform': <module 'platform' from '/Users/deepak/miniconda3/lib/python3.6/platform.py'>, 'traitlets.utils.sentinel': <module 'traitlets.utils.sentinel' from '/Users/deepak/miniconda3/lib/python3.6/site-packages/traitlets/utils/sentinel.py'>, 'traitlets.utils.bunch': <module 'traitlets.utils.bunch' from '/Users/deepak/miniconda3/lib/python3.6/site-packages/traitlets/utils/bunch.py'>, 'traitlets._version': <module 'traitlets._version' from '/Users/deepak/miniconda3/lib/python3.6/site-packages/traitlets/_version.py'>, 'traitlets.config': <module 'traitlets.config' from '/Users/deepak/miniconda3/lib/python3.6/site-packages/traitlets/config/__init__.py'>, 'traitlets.config.application': <module 'traitlets.config.application' from '/Users/deepak/miniconda3/lib/python3.6/site-packages/traitlets/config/application.py'>, 'decorator': <module 'decorator' from '/Users/deepak/miniconda3/lib/python3.6/site-packages/decorator.py'>, 'traitlets.config.configurable': <module 'traitlets.config.configurable' from '/Users/deepak/miniconda3/lib/python3.6/site-packages/traitlets/config/configurable.py'>, 'traitlets.config.loader': <module 'traitlets.config.loader' from '/Users/deepak/miniconda3/lib/python3.6/site-packages/traitlets/config/loader.py'>, 'argparse': <module 'argparse' from '/Users/deepak/miniconda3/lib/python3.6/argparse.py'>, 'textwrap': <module 'textwrap' from '/Users/deepak/miniconda3/lib/python3.6/textwrap.py'>, 'gettext': <module 'gettext' from '/Users/deepak/miniconda3/lib/python3.6/gettext.py'>, 'ipython_genutils.path': <module 'ipython_genutils.path' from '/Users/deepak/miniconda3/lib/python3.6/site-packages/ipython_genutils/path.py'>, 'random': <module 'random' from '/Users/deepak/miniconda3/lib/python3.6/random.py'>, 'hashlib': <module 'hashlib' from '/Users/deepak/miniconda3/lib/python3.6/hashlib.py'>, '_hashlib': <module '_hashlib' from '/Users/deepak/miniconda3/lib/python3.6/lib-dynload/_hashlib.cpython-36m-darwin.so'>, '_blake2': <module '_blake2' from '/Users/deepak/miniconda3/lib/python3.6/lib-dynload/_blake2.cpython-36m-darwin.so'>, '_sha3': <module '_sha3' from '/Users/deepak/miniconda3/lib/python3.6/lib-dynload/_sha3.cpython-36m-darwin.so'>, 'bisect': <module 'bisect' from '/Users/deepak/miniconda3/lib/python3.6/bisect.py'>, '_bisect': <module '_bisect' from '/Users/deepak/miniconda3/lib/python3.6/lib-dynload/_bisect.cpython-36m-darwin.so'>, '_random': <module '_random' from '/Users/deepak/miniconda3/lib/python3.6/lib-dynload/_random.cpython-36m-darwin.so'>, 'ipython_genutils.text': <module 'ipython_genutils.text' from '/Users/deepak/miniconda3/lib/python3.6/site-packages/ipython_genutils/text.py'>, 'ipython_genutils.importstring': <module 'ipython_genutils.importstring' from '/Users/deepak/miniconda3/lib/python3.6/site-packages/ipython_genutils/importstring.py'>, 'IPython.core.crashhandler': <module 'IPython.core.crashhandler' from '/Users/deepak/miniconda3/lib/python3.6/site-packages/IPython/core/crashhandler.py'>, 'pprint': <module 'pprint' from '/Users/deepak/miniconda3/lib/python3.6/pprint.py'>, 'IPython.core.ultratb': <module 'IPython.core.ultratb' from '/Users/deepak/miniconda3/lib/python3.6/site-packages/IPython/core/ultratb.py'>, 'pydoc': <module 'pydoc' from '/Users/deepak/miniconda3/lib/python3.6/pydoc.py'>, 'urllib': <module 'urllib' from '/Users/deepak/miniconda3/lib/python3.6/urllib/__init__.py'>, 'urllib.parse': <module 'urllib.parse' from '/Users/deepak/miniconda3/lib/python3.6/urllib/parse.py'>, 'IPython.core.debugger': <module 'IPython.core.debugger' from '/Users/deepak/miniconda3/lib/python3.6/site-packages/IPython/core/debugger.py'>, 'bdb': <module 'bdb' from '/Users/deepak/miniconda3/lib/python3.6/bdb.py'>, 'IPython.utils': <module 'IPython.utils' from '/Users/deepak/miniconda3/lib/python3.6/site-packages/IPython/utils/__init__.py'>, 'IPython.utils.PyColorize': <module 'IPython.utils.PyColorize' from '/Users/deepak/miniconda3/lib/python3.6/site-packages/IPython/utils/PyColorize.py'>, 'IPython.utils.coloransi': <module 'IPython.utils.coloransi' from '/Users/deepak/miniconda3/lib/python3.6/site-packages/IPython/utils/coloransi.py'>, 'IPython.utils.ipstruct': <module 'IPython.utils.ipstruct' from '/Users/deepak/miniconda3/lib/python3.6/site-packages/IPython/utils/ipstruct.py'>, 'IPython.utils.colorable': <module 'IPython.utils.colorable' from '/Users/deepak/miniconda3/lib/python3.6/site-packages/IPython/utils/colorable.py'>, 'pygments': <module 'pygments' from '/Users/deepak/miniconda3/lib/python3.6/site-packages/pygments/__init__.py'>, 'pygments.util': <module 'pygments.util' from '/Users/deepak/miniconda3/lib/python3.6/site-packages/pygments/util.py'>, 'IPython.utils.py3compat': <module 'IPython.utils.py3compat' from '/Users/deepak/miniconda3/lib/python3.6/site-packages/IPython/utils/py3compat.py'>, 'IPython.utils.encoding': <module 'IPython.utils.encoding' from '/Users/deepak/miniconda3/lib/python3.6/site-packages/IPython/utils/encoding.py'>, 'IPython.core.excolors': <module 'IPython.core.excolors' from '/Users/deepak/miniconda3/lib/python3.6/site-packages/IPython/core/excolors.py'>, 'IPython.testing': <module 'IPython.testing' from '/Users/deepak/miniconda3/lib/python3.6/site-packages/IPython/testing/__init__.py'>, 'IPython.testing.skipdoctest': <module 'IPython.testing.skipdoctest' from '/Users/deepak/miniconda3/lib/python3.6/site-packages/IPython/testing/skipdoctest.py'>, 'pdb': <module 'pdb' from '/Users/deepak/miniconda3/lib/python3.6/pdb.py'>, 'cmd': <module 'cmd' from '/Users/deepak/miniconda3/lib/python3.6/cmd.py'>, 'code': <module 'code' from '/Users/deepak/miniconda3/lib/python3.6/code.py'>, 'codeop': <module 'codeop' from '/Users/deepak/miniconda3/lib/python3.6/codeop.py'>, 'IPython.core.display_trap': <module 'IPython.core.display_trap' from '/Users/deepak/miniconda3/lib/python3.6/site-packages/IPython/core/display_trap.py'>, 'IPython.utils.openpy': <module 'IPython.utils.openpy' from '/Users/deepak/miniconda3/lib/python3.6/site-packages/IPython/utils/openpy.py'>, 'IPython.utils.path': <module 'IPython.utils.path' from '/Users/deepak/miniconda3/lib/python3.6/site-packages/IPython/utils/path.py'>, 'IPython.utils.process': <module 'IPython.utils.process' from '/Users/deepak/miniconda3/lib/python3.6/site-packages/IPython/utils/process.py'>, 'IPython.utils._process_posix': <module 'IPython.utils._process_posix' from '/Users/deepak/miniconda3/lib/python3.6/site-packages/IPython/utils/_process_posix.py'>, 'pexpect': <module 'pexpect' from '/Users/deepak/miniconda3/lib/python3.6/site-packages/pexpect/__init__.py'>, 'pexpect.exceptions': <module 'pexpect.exceptions' from '/Users/deepak/miniconda3/lib/python3.6/site-packages/pexpect/exceptions.py'>, 'pexpect.utils': <module 'pexpect.utils' from '/Users/deepak/miniconda3/lib/python3.6/site-packages/pexpect/utils.py'>, 'pexpect.expect': <module 'pexpect.expect' from '/Users/deepak/miniconda3/lib/python3.6/site-packages/pexpect/expect.py'>, 'pexpect.pty_spawn': <module 'pexpect.pty_spawn' from '/Users/deepak/miniconda3/lib/python3.6/site-packages/pexpect/pty_spawn.py'>, 'pty': <module 'pty' from '/Users/deepak/miniconda3/lib/python3.6/pty.py'>, 'tty': <module 'tty' from '/Users/deepak/miniconda3/lib/python3.6/tty.py'>, 'termios': <module 'termios' from '/Users/deepak/miniconda3/lib/python3.6/lib-dynload/termios.cpython-36m-darwin.so'>, 'ptyprocess': <module 'ptyprocess' from '/Users/deepak/miniconda3/lib/python3.6/site-packages/ptyprocess/__init__.py'>, 'ptyprocess.ptyprocess': <module 'ptyprocess.ptyprocess' from '/Users/deepak/miniconda3/lib/python3.6/site-packages/ptyprocess/ptyprocess.py'>, 'fcntl': <module 'fcntl' from '/Users/deepak/miniconda3/lib/python3.6/lib-dynload/fcntl.cpython-36m-darwin.so'>, 'resource': <module 'resource' from '/Users/deepak/miniconda3/lib/python3.6/lib-dynload/resource.cpython-36m-darwin.so'>, 'ptyprocess.util': <module 'ptyprocess.util' from '/Users/deepak/miniconda3/lib/python3.6/site-packages/ptyprocess/util.py'>, 'pexpect.spawnbase': <module 'pexpect.spawnbase' from '/Users/deepak/miniconda3/lib/python3.6/site-packages/pexpect/spawnbase.py'>, 'pexpect.run': <module 'pexpect.run' from '/Users/deepak/miniconda3/lib/python3.6/site-packages/pexpect/run.py'>, 'IPython.utils._process_common': <module 'IPython.utils._process_common' from '/Users/deepak/miniconda3/lib/python3.6/site-packages/IPython/utils/_process_common.py'>, 'shlex': <module 'shlex' from '/Users/deepak/miniconda3/lib/python3.6/shlex.py'>, 'IPython.utils.decorators': <module 'IPython.utils.decorators' from '/Users/deepak/miniconda3/lib/python3.6/site-packages/IPython/utils/decorators.py'>, 'IPython.utils.data': <module 'IPython.utils.data' from '/Users/deepak/miniconda3/lib/python3.6/site-packages/IPython/utils/data.py'>, 'IPython.utils.terminal': <module 'IPython.utils.terminal' from '/Users/deepak/miniconda3/lib/python3.6/site-packages/IPython/utils/terminal.py'>, 'IPython.utils.sysinfo': <module 'IPython.utils.sysinfo' from '/Users/deepak/miniconda3/lib/python3.6/site-packages/IPython/utils/sysinfo.py'>, 'IPython.utils._sysinfo': <module 'IPython.utils._sysinfo' from '/Users/deepak/miniconda3/lib/python3.6/site-packages/IPython/utils/_sysinfo.py'>, 'IPython.core.profiledir': <module 'IPython.core.profiledir' from '/Users/deepak/miniconda3/lib/python3.6/site-packages/IPython/core/profiledir.py'>, 'IPython.paths': <module 'IPython.paths' from '/Users/deepak/miniconda3/lib/python3.6/site-packages/IPython/paths.py'>, 'tempfile': <module 'tempfile' from '/Users/deepak/miniconda3/lib/python3.6/tempfile.py'>, 'IPython.utils.importstring': <module 'IPython.utils.importstring' from '/Users/deepak/miniconda3/lib/python3.6/site-packages/IPython/utils/importstring.py'>, 'IPython.terminal': <module 'IPython.terminal' from '/Users/deepak/miniconda3/lib/python3.6/site-packages/IPython/terminal/__init__.py'>, 'IPython.terminal.embed': <module 'IPython.terminal.embed' from '/Users/deepak/miniconda3/lib/python3.6/site-packages/IPython/terminal/embed.py'>, 'IPython.core.compilerop': <module 'IPython.core.compilerop' from '/Users/deepak/miniconda3/lib/python3.6/site-packages/IPython/core/compilerop.py'>, 'IPython.core.magic_arguments': <module 'IPython.core.magic_arguments' from '/Users/deepak/miniconda3/lib/python3.6/site-packages/IPython/core/magic_arguments.py'>, 'IPython.core.error': <module 'IPython.core.error' from '/Users/deepak/miniconda3/lib/python3.6/site-packages/IPython/core/error.py'>, 'IPython.utils.text': <module 'IPython.utils.text' from '/Users/deepak/miniconda3/lib/python3.6/site-packages/IPython/utils/text.py'>, 'pathlib': <module 'pathlib' from '/Users/deepak/miniconda3/lib/python3.6/pathlib.py'>, 'ntpath': <module 'ntpath' from '/Users/deepak/miniconda3/lib/python3.6/ntpath.py'>, 'IPython.core.magic': <module 'IPython.core.magic' from '/Users/deepak/miniconda3/lib/python3.6/site-packages/IPython/core/magic.py'>, 'getopt': <module 'getopt' from '/Users/deepak/miniconda3/lib/python3.6/getopt.py'>, 'IPython.core.oinspect': <module 'IPython.core.oinspect' from '/Users/deepak/miniconda3/lib/python3.6/site-packages/IPython/core/oinspect.py'>, 'IPython.core.page': <module 'IPython.core.page' from '/Users/deepak/miniconda3/lib/python3.6/site-packages/IPython/core/page.py'>, 'IPython.core.display': <module 'IPython.core.display' from '/Users/deepak/miniconda3/lib/python3.6/site-packages/IPython/core/display.py'>, 'binascii': <module 'binascii' from '/Users/deepak/miniconda3/lib/python3.6/lib-dynload/binascii.cpython-36m-darwin.so'>, 'mimetypes': <module 'mimetypes' from '/Users/deepak/miniconda3/lib/python3.6/mimetypes.py'>, 'IPython.lib': <module 'IPython.lib' from '/Users/deepak/miniconda3/lib/python3.6/site-packages/IPython/lib/__init__.py'>, 'IPython.lib.security': <module 'IPython.lib.security' from '/Users/deepak/miniconda3/lib/python3.6/site-packages/IPython/lib/security.py'>, 'getpass': <module 'getpass' from '/Users/deepak/miniconda3/lib/python3.6/getpass.py'>, 'IPython.lib.pretty': <module 'IPython.lib.pretty' from '/Users/deepak/miniconda3/lib/python3.6/site-packages/IPython/lib/pretty.py'>, 'datetime': <module 'datetime' from '/Users/deepak/miniconda3/lib/python3.6/datetime.py'>, '_datetime': <module '_datetime' from '/Users/deepak/miniconda3/lib/python3.6/lib-dynload/_datetime.cpython-36m-darwin.so'>, 'IPython.utils.dir2': <module 'IPython.utils.dir2' from '/Users/deepak/miniconda3/lib/python3.6/site-packages/IPython/utils/dir2.py'>, 'IPython.utils.wildcard': <module 'IPython.utils.wildcard' from '/Users/deepak/miniconda3/lib/python3.6/site-packages/IPython/utils/wildcard.py'>, 'pygments.lexers': <module 'pygments.lexers' from '/Users/deepak/miniconda3/lib/python3.6/site-packages/pygments/lexers/__init__.py'>, 'pygments.lexers._mapping': <module 'pygments.lexers._mapping' from '/Users/deepak/miniconda3/lib/python3.6/site-packages/pygments/lexers/_mapping.py'>, 'pygments.modeline': <module 'pygments.modeline' from '/Users/deepak/miniconda3/lib/python3.6/site-packages/pygments/modeline.py'>, 'pygments.plugin': <module 'pygments.plugin' from '/Users/deepak/miniconda3/lib/python3.6/site-packages/pygments/plugin.py'>, 'pygments.lexers.python': <module 'pygments.lexers.python' from '/Users/deepak/miniconda3/lib/python3.6/site-packages/pygments/lexers/python.py'>, 'pygments.lexer': <module 'pygments.lexer' from '/Users/deepak/miniconda3/lib/python3.6/site-packages/pygments/lexer.py'>, 'pygments.filter': <module 'pygments.filter' from '/Users/deepak/miniconda3/lib/python3.6/site-packages/pygments/filter.py'>, 'pygments.filters': <module 'pygments.filters' from '/Users/deepak/miniconda3/lib/python3.6/site-packages/pygments/filters/__init__.py'>, 'pygments.token': <module 'pygments.token' from '/Users/deepak/miniconda3/lib/python3.6/site-packages/pygments/token.py'>, 'pygments.regexopt': <module 'pygments.regexopt' from '/Users/deepak/miniconda3/lib/python3.6/site-packages/pygments/regexopt.py'>, 'pygments.unistring': <module 'pygments.unistring' from '/Users/deepak/miniconda3/lib/python3.6/site-packages/pygments/unistring.py'>, 'pygments.formatters': <module 'pygments.formatters' from '/Users/deepak/miniconda3/lib/python3.6/site-packages/pygments/formatters/__init__.py'>, 'pygments.formatters._mapping': <module 'pygments.formatters._mapping' from '/Users/deepak/miniconda3/lib/python3.6/site-packages/pygments/formatters/_mapping.py'>, 'pygments.formatters.html': <module 'pygments.formatters.html' from '/Users/deepak/miniconda3/lib/python3.6/site-packages/pygments/formatters/html.py'>, 'pygments.formatter': <module 'pygments.formatter' from '/Users/deepak/miniconda3/lib/python3.6/site-packages/pygments/formatter.py'>, 'pygments.styles': <module 'pygments.styles' from '/Users/deepak/miniconda3/lib/python3.6/site-packages/pygments/styles/__init__.py'>, 'IPython.core.inputsplitter': <module 'IPython.core.inputsplitter' from '/Users/deepak/miniconda3/lib/python3.6/site-packages/IPython/core/inputsplitter.py'>, 'IPython.core.inputtransformer': <module 'IPython.core.inputtransformer' from '/Users/deepak/miniconda3/lib/python3.6/site-packages/IPython/core/inputtransformer.py'>, 'IPython.core.splitinput': <module 'IPython.core.splitinput' from '/Users/deepak/miniconda3/lib/python3.6/site-packages/IPython/core/splitinput.py'>, 'IPython.utils.tokenize2': <module 'IPython.utils.tokenize2' from '/Users/deepak/miniconda3/lib/python3.6/site-packages/IPython/utils/tokenize2.py'>, 'IPython.core.interactiveshell': <module 'IPython.core.interactiveshell' from '/Users/deepak/miniconda3/lib/python3.6/site-packages/IPython/core/interactiveshell.py'>, 'pickleshare': <module 'pickleshare' from '/Users/deepak/miniconda3/lib/python3.6/site-packages/pickleshare.py'>, 'pickle': <module 'pickle' from '/Users/deepak/miniconda3/lib/python3.6/pickle.py'>, '_compat_pickle': <module '_compat_pickle' from '/Users/deepak/miniconda3/lib/python3.6/_compat_pickle.py'>, '_pickle': <module '_pickle' from '/Users/deepak/miniconda3/lib/python3.6/lib-dynload/_pickle.cpython-36m-darwin.so'>, 'IPython.core.prefilter': <module 'IPython.core.prefilter' from '/Users/deepak/miniconda3/lib/python3.6/site-packages/IPython/core/prefilter.py'>, 'IPython.core.autocall': <module 'IPython.core.autocall' from '/Users/deepak/miniconda3/lib/python3.6/site-packages/IPython/core/autocall.py'>, 'IPython.core.macro': <module 'IPython.core.macro' from '/Users/deepak/miniconda3/lib/python3.6/site-packages/IPython/core/macro.py'>, 'IPython.core.alias': <module 'IPython.core.alias' from '/Users/deepak/miniconda3/lib/python3.6/site-packages/IPython/core/alias.py'>, 'IPython.core.builtin_trap': <module 'IPython.core.builtin_trap' from '/Users/deepak/miniconda3/lib/python3.6/site-packages/IPython/core/builtin_trap.py'>, 'IPython.core.events': <module 'IPython.core.events' from '/Users/deepak/miniconda3/lib/python3.6/site-packages/IPython/core/events.py'>, 'IPython.core.displayhook': <module 'IPython.core.displayhook' from '/Users/deepak/miniconda3/lib/python3.6/site-packages/IPython/core/displayhook.py'>, 'IPython.core.displaypub': <module 'IPython.core.displaypub' from '/Users/deepak/miniconda3/lib/python3.6/site-packages/IPython/core/displaypub.py'>, 'IPython.core.extensions': <module 'IPython.core.extensions' from '/Users/deepak/miniconda3/lib/python3.6/site-packages/IPython/core/extensions.py'>, 'IPython.core.formatters': <module 'IPython.core.formatters' from '/Users/deepak/miniconda3/lib/python3.6/site-packages/IPython/core/formatters.py'>, 'IPython.utils.sentinel': <module 'IPython.utils.sentinel' from '/Users/deepak/miniconda3/lib/python3.6/site-packages/IPython/utils/sentinel.py'>, 'IPython.core.history': <module 'IPython.core.history' from '/Users/deepak/miniconda3/lib/python3.6/site-packages/IPython/core/history.py'>, 'sqlite3': <module 'sqlite3' from '/Users/deepak/miniconda3/lib/python3.6/sqlite3/__init__.py'>, 'sqlite3.dbapi2': <module 'sqlite3.dbapi2' from '/Users/deepak/miniconda3/lib/python3.6/sqlite3/dbapi2.py'>, '_sqlite3': <module '_sqlite3' from '/Users/deepak/miniconda3/lib/python3.6/lib-dynload/_sqlite3.cpython-36m-darwin.so'>, 'IPython.core.logger': <module 'IPython.core.logger' from '/Users/deepak/miniconda3/lib/python3.6/site-packages/IPython/core/logger.py'>, 'IPython.core.payload': <module 'IPython.core.payload' from '/Users/deepak/miniconda3/lib/python3.6/site-packages/IPython/core/payload.py'>, 'IPython.core.usage': <module 'IPython.core.usage' from '/Users/deepak/miniconda3/lib/python3.6/site-packages/IPython/core/usage.py'>, 'IPython.display': <module 'IPython.display' from '/Users/deepak/miniconda3/lib/python3.6/site-packages/IPython/display.py'>, 'IPython.lib.display': <module 'IPython.lib.display' from '/Users/deepak/miniconda3/lib/python3.6/site-packages/IPython/lib/display.py'>, 'IPython.utils.io': <module 'IPython.utils.io' from '/Users/deepak/miniconda3/lib/python3.6/site-packages/IPython/utils/io.py'>, 'IPython.utils.capture': <module 'IPython.utils.capture' from '/Users/deepak/miniconda3/lib/python3.6/site-packages/IPython/utils/capture.py'>, 'IPython.utils.strdispatch': <module 'IPython.utils.strdispatch' from '/Users/deepak/miniconda3/lib/python3.6/site-packages/IPython/utils/strdispatch.py'>, 'IPython.core.hooks': <module 'IPython.core.hooks' from '/Users/deepak/miniconda3/lib/python3.6/site-packages/IPython/core/hooks.py'>, 'IPython.utils.syspathcontext': <module 'IPython.utils.syspathcontext' from '/Users/deepak/miniconda3/lib/python3.6/site-packages/IPython/utils/syspathcontext.py'>, 'IPython.utils.tempdir': <module 'IPython.utils.tempdir' from '/Users/deepak/miniconda3/lib/python3.6/site-packages/IPython/utils/tempdir.py'>, 'typing': <module 'typing' from '/Users/deepak/miniconda3/lib/python3.6/typing.py'>, 'typing.io': <class 'typing.io'>, 'typing.re': <class 'typing.re'>, 'IPython.utils.contexts': <module 'IPython.utils.contexts' from '/Users/deepak/miniconda3/lib/python3.6/site-packages/IPython/utils/contexts.py'>, 'IPython.terminal.interactiveshell': <module 'IPython.terminal.interactiveshell' from '/Users/deepak/miniconda3/lib/python3.6/site-packages/IPython/terminal/interactiveshell.py'>, 'prompt_toolkit': <module 'prompt_toolkit' from '/Users/deepak/miniconda3/lib/python3.6/site-packages/prompt_toolkit/__init__.py'>, 'prompt_toolkit.interface': <module 'prompt_toolkit.interface' from '/Users/deepak/miniconda3/lib/python3.6/site-packages/prompt_toolkit/interface.py'>, 'prompt_toolkit.application': <module 'prompt_toolkit.application' from '/Users/deepak/miniconda3/lib/python3.6/site-packages/prompt_toolkit/application.py'>, 'prompt_toolkit.buffer': <module 'prompt_toolkit.buffer' from '/Users/deepak/miniconda3/lib/python3.6/site-packages/prompt_toolkit/buffer.py'>, 'prompt_toolkit.auto_suggest': <module 'prompt_toolkit.auto_suggest' from '/Users/deepak/miniconda3/lib/python3.6/site-packages/prompt_toolkit/auto_suggest.py'>, 'prompt_toolkit.filters': <module 'prompt_toolkit.filters' from '/Users/deepak/miniconda3/lib/python3.6/site-packages/prompt_toolkit/filters/__init__.py'>, 'prompt_toolkit.filters.base': <module 'prompt_toolkit.filters.base' from '/Users/deepak/miniconda3/lib/python3.6/site-packages/prompt_toolkit/filters/base.py'>, 'prompt_toolkit.utils': <module 'prompt_toolkit.utils' from '/Users/deepak/miniconda3/lib/python3.6/site-packages/prompt_toolkit/utils.py'>, 'wcwidth': <module 'wcwidth' from '/Users/deepak/miniconda3/lib/python3.6/site-packages/wcwidth/__init__.py'>, 'wcwidth.wcwidth': <module 'wcwidth.wcwidth' from '/Users/deepak/miniconda3/lib/python3.6/site-packages/wcwidth/wcwidth.py'>, 'wcwidth.table_wide': <module 'wcwidth.table_wide' from '/Users/deepak/miniconda3/lib/python3.6/site-packages/wcwidth/table_wide.py'>, 'wcwidth.table_zero': <module 'wcwidth.table_zero' from '/Users/deepak/miniconda3/lib/python3.6/site-packages/wcwidth/table_zero.py'>, 'six.moves': <module 'six.moves' (<six._SixMetaPathImporter object at 0x1086c49e8>)>, 'prompt_toolkit.filters.cli': <module 'prompt_toolkit.filters.cli' from '/Users/deepak/miniconda3/lib/python3.6/site-packages/prompt_toolkit/filters/cli.py'>, 'prompt_toolkit.enums': <module 'prompt_toolkit.enums' from '/Users/deepak/miniconda3/lib/python3.6/site-packages/prompt_toolkit/enums.py'>, 'prompt_toolkit.key_binding': <module 'prompt_toolkit.key_binding' from '/Users/deepak/miniconda3/lib/python3.6/site-packages/prompt_toolkit/key_binding/__init__.py'>, 'prompt_toolkit.key_binding.vi_state': <module 'prompt_toolkit.key_binding.vi_state' from '/Users/deepak/miniconda3/lib/python3.6/site-packages/prompt_toolkit/key_binding/vi_state.py'>, 'prompt_toolkit.cache': <module 'prompt_toolkit.cache' from '/Users/deepak/miniconda3/lib/python3.6/site-packages/prompt_toolkit/cache.py'>, 'prompt_toolkit.filters.types': <module 'prompt_toolkit.filters.types' from '/Users/deepak/miniconda3/lib/python3.6/site-packages/prompt_toolkit/filters/types.py'>, 'prompt_toolkit.filters.utils': <module 'prompt_toolkit.filters.utils' from '/Users/deepak/miniconda3/lib/python3.6/site-packages/prompt_toolkit/filters/utils.py'>, 'prompt_toolkit.clipboard': <module 'prompt_toolkit.clipboard' from '/Users/deepak/miniconda3/lib/python3.6/site-packages/prompt_toolkit/clipboard/__init__.py'>, 'prompt_toolkit.clipboard.base': <module 'prompt_toolkit.clipboard.base' from '/Users/deepak/miniconda3/lib/python3.6/site-packages/prompt_toolkit/clipboard/base.py'>, 'prompt_toolkit.selection': <module 'prompt_toolkit.selection' from '/Users/deepak/miniconda3/lib/python3.6/site-packages/prompt_toolkit/selection.py'>, 'prompt_toolkit.clipboard.in_memory': <module 'prompt_toolkit.clipboard.in_memory' from '/Users/deepak/miniconda3/lib/python3.6/site-packages/prompt_toolkit/clipboard/in_memory.py'>, 'prompt_toolkit.completion': <module 'prompt_toolkit.completion' from '/Users/deepak/miniconda3/lib/python3.6/site-packages/prompt_toolkit/completion.py'>, 'prompt_toolkit.document': <module 'prompt_toolkit.document' from '/Users/deepak/miniconda3/lib/python3.6/site-packages/prompt_toolkit/document.py'>, 'prompt_toolkit.history': <module 'prompt_toolkit.history' from '/Users/deepak/miniconda3/lib/python3.6/site-packages/prompt_toolkit/history.py'>, 'prompt_toolkit.search_state': <module 'prompt_toolkit.search_state' from '/Users/deepak/miniconda3/lib/python3.6/site-packages/prompt_toolkit/search_state.py'>, 'prompt_toolkit.validation': <module 'prompt_toolkit.validation' from '/Users/deepak/miniconda3/lib/python3.6/site-packages/prompt_toolkit/validation.py'>, 'prompt_toolkit.buffer_mapping': <module 'prompt_toolkit.buffer_mapping' from '/Users/deepak/miniconda3/lib/python3.6/site-packages/prompt_toolkit/buffer_mapping.py'>, 'prompt_toolkit.key_binding.bindings': <module 'prompt_toolkit.key_binding.bindings' from '/Users/deepak/miniconda3/lib/python3.6/site-packages/prompt_toolkit/key_binding/bindings/__init__.py'>, 'prompt_toolkit.key_binding.bindings.basic': <module 'prompt_toolkit.key_binding.bindings.basic' from '/Users/deepak/miniconda3/lib/python3.6/site-packages/prompt_toolkit/key_binding/bindings/basic.py'>, 'prompt_toolkit.keys': <module 'prompt_toolkit.keys' from '/Users/deepak/miniconda3/lib/python3.6/site-packages/prompt_toolkit/keys.py'>, 'prompt_toolkit.layout': <module 'prompt_toolkit.layout' from '/Users/deepak/miniconda3/lib/python3.6/site-packages/prompt_toolkit/layout/__init__.py'>, 'prompt_toolkit.layout.containers': <module 'prompt_toolkit.layout.containers' from '/Users/deepak/miniconda3/lib/python3.6/site-packages/prompt_toolkit/layout/containers.py'>, 'prompt_toolkit.layout.controls': <module 'prompt_toolkit.layout.controls' from '/Users/deepak/miniconda3/lib/python3.6/site-packages/prompt_toolkit/layout/controls.py'>, 'prompt_toolkit.mouse_events': <module 'prompt_toolkit.mouse_events' from '/Users/deepak/miniconda3/lib/python3.6/site-packages/prompt_toolkit/mouse_events.py'>, 'prompt_toolkit.token': <module 'prompt_toolkit.token' from '/Users/deepak/miniconda3/lib/python3.6/site-packages/prompt_toolkit/token.py'>, 'prompt_toolkit.layout.lexers': <module 'prompt_toolkit.layout.lexers' from '/Users/deepak/miniconda3/lib/python3.6/site-packages/prompt_toolkit/layout/lexers.py'>, 'prompt_toolkit.layout.utils': <module 'prompt_toolkit.layout.utils' from '/Users/deepak/miniconda3/lib/python3.6/site-packages/prompt_toolkit/layout/utils.py'>, 'prompt_toolkit.layout.processors': <module 'prompt_toolkit.layout.processors' from '/Users/deepak/miniconda3/lib/python3.6/site-packages/prompt_toolkit/layout/processors.py'>, 'prompt_toolkit.reactive': <module 'prompt_toolkit.reactive' from '/Users/deepak/miniconda3/lib/python3.6/site-packages/prompt_toolkit/reactive.py'>, 'prompt_toolkit.layout.screen': <module 'prompt_toolkit.layout.screen' from '/Users/deepak/miniconda3/lib/python3.6/site-packages/prompt_toolkit/layout/screen.py'>, 'prompt_toolkit.layout.dimension': <module 'prompt_toolkit.layout.dimension' from '/Users/deepak/miniconda3/lib/python3.6/site-packages/prompt_toolkit/layout/dimension.py'>, 'prompt_toolkit.layout.margins': <module 'prompt_toolkit.layout.margins' from '/Users/deepak/miniconda3/lib/python3.6/site-packages/prompt_toolkit/layout/margins.py'>, 'prompt_toolkit.renderer': <module 'prompt_toolkit.renderer' from '/Users/deepak/miniconda3/lib/python3.6/site-packages/prompt_toolkit/renderer.py'>, 'prompt_toolkit.layout.mouse_handlers': <module 'prompt_toolkit.layout.mouse_handlers' from '/Users/deepak/miniconda3/lib/python3.6/site-packages/prompt_toolkit/layout/mouse_handlers.py'>, 'prompt_toolkit.output': <module 'prompt_toolkit.output' from '/Users/deepak/miniconda3/lib/python3.6/site-packages/prompt_toolkit/output.py'>, 'prompt_toolkit.styles': <module 'prompt_toolkit.styles' from '/Users/deepak/miniconda3/lib/python3.6/site-packages/prompt_toolkit/styles/__init__.py'>, 'prompt_toolkit.styles.base': <module 'prompt_toolkit.styles.base' from '/Users/deepak/miniconda3/lib/python3.6/site-packages/prompt_toolkit/styles/base.py'>, 'prompt_toolkit.styles.defaults': <module 'prompt_toolkit.styles.defaults' from '/Users/deepak/miniconda3/lib/python3.6/site-packages/prompt_toolkit/styles/defaults.py'>, 'prompt_toolkit.styles.from_dict': <module 'prompt_toolkit.styles.from_dict' from '/Users/deepak/miniconda3/lib/python3.6/site-packages/prompt_toolkit/styles/from_dict.py'>, 'prompt_toolkit.styles.utils': <module 'prompt_toolkit.styles.utils' from '/Users/deepak/miniconda3/lib/python3.6/site-packages/prompt_toolkit/styles/utils.py'>, 'prompt_toolkit.styles.from_pygments': <module 'prompt_toolkit.styles.from_pygments' from '/Users/deepak/miniconda3/lib/python3.6/site-packages/prompt_toolkit/styles/from_pygments.py'>, 'pygments.style': <module 'pygments.style' from '/Users/deepak/miniconda3/lib/python3.6/site-packages/pygments/style.py'>, 'pygments.styles.default': <module 'pygments.styles.default' from '/Users/deepak/miniconda3/lib/python3.6/site-packages/pygments/styles/default.py'>, 'prompt_toolkit.key_binding.bindings.named_commands': <module 'prompt_toolkit.key_binding.bindings.named_commands' from '/Users/deepak/miniconda3/lib/python3.6/site-packages/prompt_toolkit/key_binding/bindings/named_commands.py'>, 'prompt_toolkit.key_binding.bindings.completion': <module 'prompt_toolkit.key_binding.bindings.completion' from '/Users/deepak/miniconda3/lib/python3.6/site-packages/prompt_toolkit/key_binding/bindings/completion.py'>, 'prompt_toolkit.key_binding.registry': <module 'prompt_toolkit.key_binding.registry' from '/Users/deepak/miniconda3/lib/python3.6/site-packages/prompt_toolkit/key_binding/registry.py'>, 'prompt_toolkit.key_binding.input_processor': <module 'prompt_toolkit.key_binding.input_processor' from '/Users/deepak/miniconda3/lib/python3.6/site-packages/prompt_toolkit/key_binding/input_processor.py'>, 'prompt_toolkit.key_binding.bindings.emacs': <module 'prompt_toolkit.key_binding.bindings.emacs' from '/Users/deepak/miniconda3/lib/python3.6/site-packages/prompt_toolkit/key_binding/bindings/emacs.py'>, 'prompt_toolkit.key_binding.bindings.scroll': <module 'prompt_toolkit.key_binding.bindings.scroll' from '/Users/deepak/miniconda3/lib/python3.6/site-packages/prompt_toolkit/key_binding/bindings/scroll.py'>, 'prompt_toolkit.key_binding.bindings.vi': <module 'prompt_toolkit.key_binding.bindings.vi' from '/Users/deepak/miniconda3/lib/python3.6/site-packages/prompt_toolkit/key_binding/bindings/vi.py'>, 'prompt_toolkit.key_binding.digraphs': <module 'prompt_toolkit.key_binding.digraphs' from '/Users/deepak/miniconda3/lib/python3.6/site-packages/prompt_toolkit/key_binding/digraphs.py'>, 'prompt_toolkit.key_binding.defaults': <module 'prompt_toolkit.key_binding.defaults' from '/Users/deepak/miniconda3/lib/python3.6/site-packages/prompt_toolkit/key_binding/defaults.py'>, 'prompt_toolkit.eventloop': <module 'prompt_toolkit.eventloop' from '/Users/deepak/miniconda3/lib/python3.6/site-packages/prompt_toolkit/eventloop/__init__.py'>, 'prompt_toolkit.eventloop.base': <module 'prompt_toolkit.eventloop.base' from '/Users/deepak/miniconda3/lib/python3.6/site-packages/prompt_toolkit/eventloop/base.py'>, 'prompt_toolkit.eventloop.callbacks': <module 'prompt_toolkit.eventloop.callbacks' from '/Users/deepak/miniconda3/lib/python3.6/site-packages/prompt_toolkit/eventloop/callbacks.py'>, 'prompt_toolkit.input': <module 'prompt_toolkit.input' from '/Users/deepak/miniconda3/lib/python3.6/site-packages/prompt_toolkit/input.py'>, 'prompt_toolkit.terminal': <module 'prompt_toolkit.terminal' from '/Users/deepak/miniconda3/lib/python3.6/site-packages/prompt_toolkit/terminal/__init__.py'>, 'prompt_toolkit.terminal.vt100_input': <module 'prompt_toolkit.terminal.vt100_input' from '/Users/deepak/miniconda3/lib/python3.6/site-packages/prompt_toolkit/terminal/vt100_input.py'>, 'prompt_toolkit.shortcuts': <module 'prompt_toolkit.shortcuts' from '/Users/deepak/miniconda3/lib/python3.6/site-packages/prompt_toolkit/shortcuts.py'>, 'prompt_toolkit.layout.menus': <module 'prompt_toolkit.layout.menus' from '/Users/deepak/miniconda3/lib/python3.6/site-packages/prompt_toolkit/layout/menus.py'>, 'prompt_toolkit.layout.prompt': <module 'prompt_toolkit.layout.prompt' from '/Users/deepak/miniconda3/lib/python3.6/site-packages/prompt_toolkit/layout/prompt.py'>, 'prompt_toolkit.layout.toolbars': <module 'prompt_toolkit.layout.toolbars' from '/Users/deepak/miniconda3/lib/python3.6/site-packages/prompt_toolkit/layout/toolbars.py'>, 'prompt_toolkit.terminal.vt100_output': <module 'prompt_toolkit.terminal.vt100_output' from '/Users/deepak/miniconda3/lib/python3.6/site-packages/prompt_toolkit/terminal/vt100_output.py'>, 'array': <module 'array' from '/Users/deepak/miniconda3/lib/python3.6/lib-dynload/array.cpython-36m-darwin.so'>, 'prompt_toolkit.key_binding.manager': <module 'prompt_toolkit.key_binding.manager' from '/Users/deepak/miniconda3/lib/python3.6/site-packages/prompt_toolkit/key_binding/manager.py'>, 'IPython.terminal.debugger': <module 'IPython.terminal.debugger' from '/Users/deepak/miniconda3/lib/python3.6/site-packages/IPython/terminal/debugger.py'>, 'IPython.core.completer': <module 'IPython.core.completer' from '/Users/deepak/miniconda3/lib/python3.6/site-packages/IPython/core/completer.py'>, 'unicodedata': <module 'unicodedata' from '/Users/deepak/miniconda3/lib/python3.6/lib-dynload/unicodedata.cpython-36m-darwin.so'>, 'IPython.core.latex_symbols': <module 'IPython.core.latex_symbols' from '/Users/deepak/miniconda3/lib/python3.6/site-packages/IPython/core/latex_symbols.py'>, 'IPython.utils.generics': <module 'IPython.utils.generics' from '/Users/deepak/miniconda3/lib/python3.6/site-packages/IPython/utils/generics.py'>, 'simplegeneric': <module 'simplegeneric' from '/Users/deepak/miniconda3/lib/python3.6/site-packages/simplegeneric.py'>, 'jedi': <module 'jedi' from '/Users/deepak/miniconda3/lib/python3.6/site-packages/jedi/__init__.py'>, 'jedi.api': <module 'jedi.api' from '/Users/deepak/miniconda3/lib/python3.6/site-packages/jedi/api/__init__.py'>, 'jedi.parser': <module 'jedi.parser' from '/Users/deepak/miniconda3/lib/python3.6/site-packages/jedi/parser/__init__.py'>, 'jedi.parser.parser': <module 'jedi.parser.parser' from '/Users/deepak/miniconda3/lib/python3.6/site-packages/jedi/parser/parser.py'>, 'jedi.parser.tree': <module 'jedi.parser.tree' from '/Users/deepak/miniconda3/lib/python3.6/site-packages/jedi/parser/tree.py'>, 'jedi._compatibility': <module 'jedi._compatibility' from '/Users/deepak/miniconda3/lib/python3.6/site-packages/jedi/_compatibility.py'>, 'imp': <module 'imp' from '/Users/deepak/miniconda3/lib/python3.6/imp.py'>, 'jedi.parser.pgen2': <module 'jedi.parser.pgen2' from '/Users/deepak/miniconda3/lib/python3.6/site-packages/jedi/parser/pgen2/__init__.py'>, 'jedi.parser.pgen2.parse': <module 'jedi.parser.pgen2.parse' from '/Users/deepak/miniconda3/lib/python3.6/site-packages/jedi/parser/pgen2/parse.py'>, 'jedi.parser.tokenize': <module 'jedi.parser.tokenize' from '/Users/deepak/miniconda3/lib/python3.6/site-packages/jedi/parser/tokenize.py'>, 'jedi.parser.token': <module 'jedi.parser.token' from '/Users/deepak/miniconda3/lib/python3.6/site-packages/jedi/parser/token.py'>, 'jedi.common': <module 'jedi.common' from '/Users/deepak/miniconda3/lib/python3.6/site-packages/jedi/common.py'>, 'jedi.settings': <module 'jedi.settings' from '/Users/deepak/miniconda3/lib/python3.6/site-packages/jedi/settings.py'>, 'jedi.parser.pgen2.pgen': <module 'jedi.parser.pgen2.pgen' from '/Users/deepak/miniconda3/lib/python3.6/site-packages/jedi/parser/pgen2/pgen.py'>, 'jedi.parser.pgen2.grammar': <module 'jedi.parser.pgen2.grammar' from '/Users/deepak/miniconda3/lib/python3.6/site-packages/jedi/parser/pgen2/grammar.py'>, 'jedi.parser.python': <module 'jedi.parser.python' from '/Users/deepak/miniconda3/lib/python3.6/site-packages/jedi/parser/python/__init__.py'>, 'jedi.parser.python.parser': <module 'jedi.parser.python.parser' from '/Users/deepak/miniconda3/lib/python3.6/site-packages/jedi/parser/python/parser.py'>, 'jedi.parser.python.tree': <module 'jedi.parser.python.tree' from '/Users/deepak/miniconda3/lib/python3.6/site-packages/jedi/parser/python/tree.py'>, 'jedi.parser.python.diff': <module 'jedi.parser.python.diff' from '/Users/deepak/miniconda3/lib/python3.6/site-packages/jedi/parser/python/diff.py'>, 'difflib': <module 'difflib' from '/Users/deepak/miniconda3/lib/python3.6/difflib.py'>, 'jedi.debug': <module 'jedi.debug' from '/Users/deepak/miniconda3/lib/python3.6/site-packages/jedi/debug.py'>, 'jedi.parser.cache': <module 'jedi.parser.cache' from '/Users/deepak/miniconda3/lib/python3.6/site-packages/jedi/parser/cache.py'>, 'gc': <module 'gc' (built-in)>, 'jedi.cache': <module 'jedi.cache' from '/Users/deepak/miniconda3/lib/python3.6/site-packages/jedi/cache.py'>, 'jedi.api.classes': <module 'jedi.api.classes' from '/Users/deepak/miniconda3/lib/python3.6/site-packages/jedi/api/classes.py'>, 'jedi.evaluate': <module 'jedi.evaluate' from '/Users/deepak/miniconda3/lib/python3.6/site-packages/jedi/evaluate/__init__.py'>, 'jedi.evaluate.representation': <module 'jedi.evaluate.representation' from '/Users/deepak/miniconda3/lib/python3.6/site-packages/jedi/evaluate/representation.py'>, 'jedi.evaluate.cache': <module 'jedi.evaluate.cache' from '/Users/deepak/miniconda3/lib/python3.6/site-packages/jedi/evaluate/cache.py'>, 'jedi.evaluate.compiled': <module 'jedi.evaluate.compiled' from '/Users/deepak/miniconda3/lib/python3.6/site-packages/jedi/evaluate/compiled/__init__.py'>, 'jedi.evaluate.helpers': <module 'jedi.evaluate.helpers' from '/Users/deepak/miniconda3/lib/python3.6/site-packages/jedi/evaluate/helpers.py'>, 'jedi.evaluate.filters': <module 'jedi.evaluate.filters' from '/Users/deepak/miniconda3/lib/python3.6/site-packages/jedi/evaluate/filters.py'>, 'jedi.evaluate.flow_analysis': <module 'jedi.evaluate.flow_analysis' from '/Users/deepak/miniconda3/lib/python3.6/site-packages/jedi/evaluate/flow_analysis.py'>, 'jedi.evaluate.context': <module 'jedi.evaluate.context' from '/Users/deepak/miniconda3/lib/python3.6/site-packages/jedi/evaluate/context.py'>, 'jedi.evaluate.compiled.fake': <module 'jedi.evaluate.compiled.fake' from '/Users/deepak/miniconda3/lib/python3.6/site-packages/jedi/evaluate/compiled/fake.py'>, 'jedi.evaluate.recursion': <module 'jedi.evaluate.recursion' from '/Users/deepak/miniconda3/lib/python3.6/site-packages/jedi/evaluate/recursion.py'>, 'jedi.evaluate.iterable': <module 'jedi.evaluate.iterable' from '/Users/deepak/miniconda3/lib/python3.6/site-packages/jedi/evaluate/iterable.py'>, 'jedi.evaluate.analysis': <module 'jedi.evaluate.analysis' from '/Users/deepak/miniconda3/lib/python3.6/site-packages/jedi/evaluate/analysis.py'>, 'jedi.evaluate.pep0484': <module 'jedi.evaluate.pep0484' from '/Users/deepak/miniconda3/lib/python3.6/site-packages/jedi/evaluate/pep0484.py'>, 'jedi.evaluate.precedence': <module 'jedi.evaluate.precedence' from '/Users/deepak/miniconda3/lib/python3.6/site-packages/jedi/evaluate/precedence.py'>, 'jedi.evaluate.docstrings': <module 'jedi.evaluate.docstrings' from '/Users/deepak/miniconda3/lib/python3.6/site-packages/jedi/evaluate/docstrings.py'>, 'numpydoc': <module 'numpydoc' from '/Users/deepak/miniconda3/lib/python3.6/site-packages/numpydoc/__init__.py'>, 'numpydoc.numpydoc': <module 'numpydoc.numpydoc' from '/Users/deepak/miniconda3/lib/python3.6/site-packages/numpydoc/numpydoc.py'>, 'sphinx': <module 'sphinx' from '/Users/deepak/miniconda3/lib/python3.6/site-packages/sphinx/__init__.py'>, 'sphinx.deprecation': <module 'sphinx.deprecation' from '/Users/deepak/miniconda3/lib/python3.6/site-packages/sphinx/deprecation.py'>, 'numpydoc.docscrape_sphinx': <module 'numpydoc.docscrape_sphinx' from '/Users/deepak/miniconda3/lib/python3.6/site-packages/numpydoc/docscrape_sphinx.py'>, 'jinja2': <module 'jinja2' from '/Users/deepak/miniconda3/lib/python3.6/site-packages/jinja2/__init__.py'>, 'jinja2.environment': <module 'jinja2.environment' from '/Users/deepak/miniconda3/lib/python3.6/site-packages/jinja2/environment.py'>, 'jinja2.nodes': <module 'jinja2.nodes' from '/Users/deepak/miniconda3/lib/python3.6/site-packages/jinja2/nodes.py'>, 'jinja2.utils': <module 'jinja2.utils' from '/Users/deepak/miniconda3/lib/python3.6/site-packages/jinja2/utils.py'>, 'jinja2._compat': <module 'jinja2._compat' from '/Users/deepak/miniconda3/lib/python3.6/site-packages/jinja2/_compat.py'>, 'markupsafe': <module 'markupsafe' from '/Users/deepak/miniconda3/lib/python3.6/site-packages/markupsafe/__init__.py'>, 'markupsafe._compat': <module 'markupsafe._compat' from '/Users/deepak/miniconda3/lib/python3.6/site-packages/markupsafe/_compat.py'>, 'markupsafe._speedups': <module 'markupsafe._speedups' from '/Users/deepak/miniconda3/lib/python3.6/site-packages/markupsafe/_speedups.cpython-36m-darwin.so'>, 'jinja2.defaults': <module 'jinja2.defaults' from '/Users/deepak/miniconda3/lib/python3.6/site-packages/jinja2/defaults.py'>, 'jinja2.filters': <module 'jinja2.filters' from '/Users/deepak/miniconda3/lib/python3.6/site-packages/jinja2/filters.py'>, 'jinja2.runtime': <module 'jinja2.runtime' from '/Users/deepak/miniconda3/lib/python3.6/site-packages/jinja2/runtime.py'>, 'jinja2.exceptions': <module 'jinja2.exceptions' from '/Users/deepak/miniconda3/lib/python3.6/site-packages/jinja2/exceptions.py'>, 'jinja2.tests': <module 'jinja2.tests' from '/Users/deepak/miniconda3/lib/python3.6/site-packages/jinja2/tests.py'>, 'decimal': <module 'decimal' from '/Users/deepak/miniconda3/lib/python3.6/decimal.py'>, 'numbers': <module 'numbers' from '/Users/deepak/miniconda3/lib/python3.6/numbers.py'>, '_decimal': <module '_decimal' from '/Users/deepak/miniconda3/lib/python3.6/lib-dynload/_decimal.cpython-36m-darwin.so'>, 'jinja2.lexer': <module 'jinja2.lexer' from '/Users/deepak/miniconda3/lib/python3.6/site-packages/jinja2/lexer.py'>, 'jinja2.parser': <module 'jinja2.parser' from '/Users/deepak/miniconda3/lib/python3.6/site-packages/jinja2/parser.py'>, 'jinja2.compiler': <module 'jinja2.compiler' from '/Users/deepak/miniconda3/lib/python3.6/site-packages/jinja2/compiler.py'>, 'jinja2.visitor': <module 'jinja2.visitor' from '/Users/deepak/miniconda3/lib/python3.6/site-packages/jinja2/visitor.py'>, 'jinja2.optimizer': <module 'jinja2.optimizer' from '/Users/deepak/miniconda3/lib/python3.6/site-packages/jinja2/optimizer.py'>, 'jinja2.idtracking': <module 'jinja2.idtracking' from '/Users/deepak/miniconda3/lib/python3.6/site-packages/jinja2/idtracking.py'>, 'jinja2.loaders': <module 'jinja2.loaders' from '/Users/deepak/miniconda3/lib/python3.6/site-packages/jinja2/loaders.py'>, 'jinja2.bccache': <module 'jinja2.bccache' from '/Users/deepak/miniconda3/lib/python3.6/site-packages/jinja2/bccache.py'>, 'jinja2.asyncsupport': <module 'jinja2.asyncsupport' from '/Users/deepak/miniconda3/lib/python3.6/site-packages/jinja2/asyncsupport.py'>, 'asyncio': <module 'asyncio' from '/Users/deepak/miniconda3/lib/python3.6/asyncio/__init__.py'>, 'asyncio.base_events': <module 'asyncio.base_events' from '/Users/deepak/miniconda3/lib/python3.6/asyncio/base_events.py'>, 'concurrent': <module 'concurrent' from '/Users/deepak/miniconda3/lib/python3.6/concurrent/__init__.py'>, 'concurrent.futures': <module 'concurrent.futures' from '/Users/deepak/miniconda3/lib/python3.6/concurrent/futures/__init__.py'>, 'concurrent.futures._base': <module 'concurrent.futures._base' from '/Users/deepak/miniconda3/lib/python3.6/concurrent/futures/_base.py'>, 'concurrent.futures.process': <module 'concurrent.futures.process' from '/Users/deepak/miniconda3/lib/python3.6/concurrent/futures/process.py'>, 'queue': <module 'queue' from '/Users/deepak/miniconda3/lib/python3.6/queue.py'>, 'multiprocessing': <module 'multiprocessing' from '/Users/deepak/miniconda3/lib/python3.6/multiprocessing/__init__.py'>, 'multiprocessing.context': <module 'multiprocessing.context' from '/Users/deepak/miniconda3/lib/python3.6/multiprocessing/context.py'>, 'multiprocessing.process': <module 'multiprocessing.process' from '/Users/deepak/miniconda3/lib/python3.6/multiprocessing/process.py'>, 'multiprocessing.reduction': <module 'multiprocessing.reduction' from '/Users/deepak/miniconda3/lib/python3.6/multiprocessing/reduction.py'>, 'socket': <module 'socket' from '/Users/deepak/miniconda3/lib/python3.6/socket.py'>, '_socket': <module '_socket' from '/Users/deepak/miniconda3/lib/python3.6/lib-dynload/_socket.cpython-36m-darwin.so'>, '__mp_main__': <module 'ipykernel_launcher' from '/Users/deepak/miniconda3/lib/python3.6/site-packages/ipykernel_launcher.py'>, 'multiprocessing.connection': <module 'multiprocessing.connection' from '/Users/deepak/miniconda3/lib/python3.6/multiprocessing/connection.py'>, '_multiprocessing': <module '_multiprocessing' from '/Users/deepak/miniconda3/lib/python3.6/lib-dynload/_multiprocessing.cpython-36m-darwin.so'>, 'multiprocessing.util': <module 'multiprocessing.util' from '/Users/deepak/miniconda3/lib/python3.6/multiprocessing/util.py'>, 'concurrent.futures.thread': <module 'concurrent.futures.thread' from '/Users/deepak/miniconda3/lib/python3.6/concurrent/futures/thread.py'>, 'asyncio.compat': <module 'asyncio.compat' from '/Users/deepak/miniconda3/lib/python3.6/asyncio/compat.py'>, 'asyncio.coroutines': <module 'asyncio.coroutines' from '/Users/deepak/miniconda3/lib/python3.6/asyncio/coroutines.py'>, 'asyncio.events': <module 'asyncio.events' from '/Users/deepak/miniconda3/lib/python3.6/asyncio/events.py'>, 'asyncio.base_futures': <module 'asyncio.base_futures' from '/Users/deepak/miniconda3/lib/python3.6/asyncio/base_futures.py'>, 'asyncio.log': <module 'asyncio.log' from '/Users/deepak/miniconda3/lib/python3.6/asyncio/log.py'>, 'asyncio.futures': <module 'asyncio.futures' from '/Users/deepak/miniconda3/lib/python3.6/asyncio/futures.py'>, 'asyncio.base_tasks': <module 'asyncio.base_tasks' from '/Users/deepak/miniconda3/lib/python3.6/asyncio/base_tasks.py'>, '_asyncio': <module '_asyncio' from '/Users/deepak/miniconda3/lib/python3.6/lib-dynload/_asyncio.cpython-36m-darwin.so'>, 'asyncio.tasks': <module 'asyncio.tasks' from '/Users/deepak/miniconda3/lib/python3.6/asyncio/tasks.py'>, 'asyncio.locks': <module 'asyncio.locks' from '/Users/deepak/miniconda3/lib/python3.6/asyncio/locks.py'>, 'asyncio.protocols': <module 'asyncio.protocols' from '/Users/deepak/miniconda3/lib/python3.6/asyncio/protocols.py'>, 'asyncio.queues': <module 'asyncio.queues' from '/Users/deepak/miniconda3/lib/python3.6/asyncio/queues.py'>, 'asyncio.streams': <module 'asyncio.streams' from '/Users/deepak/miniconda3/lib/python3.6/asyncio/streams.py'>, 'asyncio.subprocess': <module 'asyncio.subprocess' from '/Users/deepak/miniconda3/lib/python3.6/asyncio/subprocess.py'>, 'asyncio.transports': <module 'asyncio.transports' from '/Users/deepak/miniconda3/lib/python3.6/asyncio/transports.py'>, 'asyncio.unix_events': <module 'asyncio.unix_events' from '/Users/deepak/miniconda3/lib/python3.6/asyncio/unix_events.py'>, 'asyncio.base_subprocess': <module 'asyncio.base_subprocess' from '/Users/deepak/miniconda3/lib/python3.6/asyncio/base_subprocess.py'>, 'asyncio.constants': <module 'asyncio.constants' from '/Users/deepak/miniconda3/lib/python3.6/asyncio/constants.py'>, 'asyncio.selector_events': <module 'asyncio.selector_events' from '/Users/deepak/miniconda3/lib/python3.6/asyncio/selector_events.py'>, 'ssl': <module 'ssl' from '/Users/deepak/miniconda3/lib/python3.6/ssl.py'>, 'ipaddress': <module 'ipaddress' from '/Users/deepak/miniconda3/lib/python3.6/ipaddress.py'>, '_ssl': <module '_ssl' from '/Users/deepak/miniconda3/lib/python3.6/lib-dynload/_ssl.cpython-36m-darwin.so'>, 'base64': <module 'base64' from '/Users/deepak/miniconda3/lib/python3.6/base64.py'>, 'asyncio.sslproto': <module 'asyncio.sslproto' from '/Users/deepak/miniconda3/lib/python3.6/asyncio/sslproto.py'>, 'jinja2.asyncfilters': <module 'jinja2.asyncfilters' from '/Users/deepak/miniconda3/lib/python3.6/site-packages/jinja2/asyncfilters.py'>, 'jinja2.sandbox': <module 'jinja2.sandbox' from '/Users/deepak/miniconda3/lib/python3.6/site-packages/jinja2/sandbox.py'>, 'sphinx.jinja2glue': <module 'sphinx.jinja2glue' from '/Users/deepak/miniconda3/lib/python3.6/site-packages/sphinx/jinja2glue.py'>, 'sphinx.application': <module 'sphinx.application' from '/Users/deepak/miniconda3/lib/python3.6/site-packages/sphinx/application.py'>, 'docutils': <module 'docutils' from '/Users/deepak/miniconda3/lib/python3.6/site-packages/docutils/__init__.py'>, 'docutils.nodes': <module 'docutils.nodes' from '/Users/deepak/miniconda3/lib/python3.6/site-packages/docutils/nodes.py'>, 'docutils.parsers': <module 'docutils.parsers' from '/Users/deepak/miniconda3/lib/python3.6/site-packages/docutils/parsers/__init__.py'>, 'docutils.parsers.rst': <module 'docutils.parsers.rst' from '/Users/deepak/miniconda3/lib/python3.6/site-packages/docutils/parsers/rst/__init__.py'>, 'docutils.statemachine': <module 'docutils.statemachine' from '/Users/deepak/miniconda3/lib/python3.6/site-packages/docutils/statemachine.py'>, 'docutils.utils': <module 'docutils.utils' from '/Users/deepak/miniconda3/lib/python3.6/site-packages/docutils/utils/__init__.py'>, 'docutils.io': <module 'docutils.io' from '/Users/deepak/miniconda3/lib/python3.6/site-packages/docutils/io.py'>, 'docutils._compat': <module 'docutils._compat' from '/Users/deepak/miniconda3/lib/python3.6/site-packages/docutils/_compat.py'>, 'docutils.utils.error_reporting': <module 'docutils.utils.error_reporting' from '/Users/deepak/miniconda3/lib/python3.6/site-packages/docutils/utils/error_reporting.py'>, 'docutils.parsers.rst.states': <module 'docutils.parsers.rst.states' from '/Users/deepak/miniconda3/lib/python3.6/site-packages/docutils/parsers/rst/states.py'>, 'docutils.parsers.rst.directives': <module 'docutils.parsers.rst.directives' from '/Users/deepak/miniconda3/lib/python3.6/site-packages/docutils/parsers/rst/directives/__init__.py'>, 'docutils.parsers.rst.languages': <module 'docutils.parsers.rst.languages' from '/Users/deepak/miniconda3/lib/python3.6/site-packages/docutils/parsers/rst/languages/__init__.py'>, 'docutils.parsers.rst.languages.en': <module 'docutils.parsers.rst.languages.en' from '/Users/deepak/miniconda3/lib/python3.6/site-packages/docutils/parsers/rst/languages/en.py'>, 'docutils.parsers.rst.tableparser': <module 'docutils.parsers.rst.tableparser' from '/Users/deepak/miniconda3/lib/python3.6/site-packages/docutils/parsers/rst/tableparser.py'>, 'docutils.parsers.rst.roles': <module 'docutils.parsers.rst.roles' from '/Users/deepak/miniconda3/lib/python3.6/site-packages/docutils/parsers/rst/roles.py'>, 'docutils.utils.code_analyzer': <module 'docutils.utils.code_analyzer' from '/Users/deepak/miniconda3/lib/python3.6/site-packages/docutils/utils/code_analyzer.py'>, 'docutils.utils.punctuation_chars': <module 'docutils.utils.punctuation_chars' from '/Users/deepak/miniconda3/lib/python3.6/site-packages/docutils/utils/punctuation_chars.py'>, 'docutils.utils.roman': <module 'docutils.utils.roman' from '/Users/deepak/miniconda3/lib/python3.6/site-packages/docutils/utils/roman.py'>, 'docutils.utils.urischemes': <module 'docutils.utils.urischemes' from '/Users/deepak/miniconda3/lib/python3.6/site-packages/docutils/utils/urischemes.py'>, 'docutils.frontend': <module 'docutils.frontend' from '/Users/deepak/miniconda3/lib/python3.6/site-packages/docutils/frontend.py'>, 'configparser': <module 'configparser' from '/Users/deepak/miniconda3/lib/python3.6/configparser.py'>, 'optparse': <module 'optparse' from '/Users/deepak/miniconda3/lib/python3.6/optparse.py'>, 'docutils.transforms': <module 'docutils.transforms' from '/Users/deepak/miniconda3/lib/python3.6/site-packages/docutils/transforms/__init__.py'>, 'docutils.languages': <module 'docutils.languages' from '/Users/deepak/miniconda3/lib/python3.6/site-packages/docutils/languages/__init__.py'>, 'docutils.transforms.universal': <module 'docutils.transforms.universal' from '/Users/deepak/miniconda3/lib/python3.6/site-packages/docutils/transforms/universal.py'>, 'docutils.utils.smartquotes': <module 'docutils.utils.smartquotes' from '/Users/deepak/miniconda3/lib/python3.6/site-packages/docutils/utils/smartquotes.py'>, 'sphinx.locale': <module 'sphinx.locale' from '/Users/deepak/miniconda3/lib/python3.6/site-packages/sphinx/locale/__init__.py'>, 'sphinx.config': <module 'sphinx.config' from '/Users/deepak/miniconda3/lib/python3.6/site-packages/sphinx/config.py'>, 'sphinx.errors': <module 'sphinx.errors' from '/Users/deepak/miniconda3/lib/python3.6/site-packages/sphinx/errors.py'>, 'sphinx.util': <module 'sphinx.util' from '/Users/deepak/miniconda3/lib/python3.6/site-packages/sphinx/util/__init__.py'>, 'six.moves.urllib': <module 'six.moves.urllib' (<six._SixMetaPathImporter object at 0x1086c49e8>)>, 'six.moves.urllib.parse': <module 'six.moves.urllib.parse' (<six._SixMetaPathImporter object at 0x1086c49e8>)>, 'sphinx.util.logging': <module 'sphinx.util.logging' from '/Users/deepak/miniconda3/lib/python3.6/site-packages/sphinx/util/logging.py'>, 'logging.handlers': <module 'logging.handlers' from '/Users/deepak/miniconda3/lib/python3.6/logging/handlers.py'>, 'sphinx.util.console': <module 'sphinx.util.console' from '/Users/deepak/miniconda3/lib/python3.6/site-packages/sphinx/util/console.py'>, 'sphinx.util.fileutil': <module 'sphinx.util.fileutil' from '/Users/deepak/miniconda3/lib/python3.6/site-packages/sphinx/util/fileutil.py'>, 'sphinx.util.osutil': <module 'sphinx.util.osutil' from '/Users/deepak/miniconda3/lib/python3.6/site-packages/sphinx/util/osutil.py'>, 'filecmp': <module 'filecmp' from '/Users/deepak/miniconda3/lib/python3.6/filecmp.py'>, 'sphinx.util.smartypants': <module 'sphinx.util.smartypants' from '/Users/deepak/miniconda3/lib/python3.6/site-packages/sphinx/util/smartypants.py'>, 'sphinx.util.docutils': <module 'sphinx.util.docutils' from '/Users/deepak/miniconda3/lib/python3.6/site-packages/sphinx/util/docutils.py'>, 'distutils': <module 'distutils' from '/Users/deepak/miniconda3/lib/python3.6/distutils/__init__.py'>, 'distutils.version': <module 'distutils.version' from '/Users/deepak/miniconda3/lib/python3.6/distutils/version.py'>, 'sphinx.util.nodes': <module 'sphinx.util.nodes' from '/Users/deepak/miniconda3/lib/python3.6/site-packages/sphinx/util/nodes.py'>, 'sphinx.addnodes': <module 'sphinx.addnodes' from '/Users/deepak/miniconda3/lib/python3.6/site-packages/sphinx/addnodes.py'>, 'sphinx.util.matching': <module 'sphinx.util.matching' from '/Users/deepak/miniconda3/lib/python3.6/site-packages/sphinx/util/matching.py'>, 'sphinx.util.i18n': <module 'sphinx.util.i18n' from '/Users/deepak/miniconda3/lib/python3.6/site-packages/sphinx/util/i18n.py'>, 'babel': <module 'babel' from '/Users/deepak/miniconda3/lib/python3.6/site-packages/babel/__init__.py'>, 'babel.core': <module 'babel.core' from '/Users/deepak/miniconda3/lib/python3.6/site-packages/babel/core.py'>, 'babel.localedata': <module 'babel.localedata' from '/Users/deepak/miniconda3/lib/python3.6/site-packages/babel/localedata.py'>, 'babel._compat': <module 'babel._compat' from '/Users/deepak/miniconda3/lib/python3.6/site-packages/babel/_compat.py'>, 'babel.plural': <module 'babel.plural' from '/Users/deepak/miniconda3/lib/python3.6/site-packages/babel/plural.py'>, 'babel.dates': <module 'babel.dates' from '/Users/deepak/miniconda3/lib/python3.6/site-packages/babel/dates.py'>, 'pytz': <module 'pytz' from '/Users/deepak/miniconda3/lib/python3.6/site-packages/pytz/__init__.py'>, 'pytz.exceptions': <module 'pytz.exceptions' from '/Users/deepak/miniconda3/lib/python3.6/site-packages/pytz/exceptions.py'>, 'pytz.lazy': <module 'pytz.lazy' from '/Users/deepak/miniconda3/lib/python3.6/site-packages/pytz/lazy.py'>, 'pytz.tzinfo': <module 'pytz.tzinfo' from '/Users/deepak/miniconda3/lib/python3.6/site-packages/pytz/tzinfo.py'>, 'pytz.tzfile': <module 'pytz.tzfile' from '/Users/deepak/miniconda3/lib/python3.6/site-packages/pytz/tzfile.py'>, 'babel.util': <module 'babel.util' from '/Users/deepak/miniconda3/lib/python3.6/site-packages/babel/util.py'>, 'babel.localtime': <module 'babel.localtime' from '/Users/deepak/miniconda3/lib/python3.6/site-packages/babel/localtime/__init__.py'>, 'babel.localtime._unix': <module 'babel.localtime._unix' from '/Users/deepak/miniconda3/lib/python3.6/site-packages/babel/localtime/_unix.py'>, 'babel.messages': <module 'babel.messages' from '/Users/deepak/miniconda3/lib/python3.6/site-packages/babel/messages/__init__.py'>, 'babel.messages.catalog': <module 'babel.messages.catalog' from '/Users/deepak/miniconda3/lib/python3.6/site-packages/babel/messages/catalog.py'>, 'cgi': <module 'cgi' from '/Users/deepak/miniconda3/lib/python3.6/cgi.py'>, 'email': <module 'email' from '/Users/deepak/miniconda3/lib/python3.6/email/__init__.py'>, 'email.parser': <module 'email.parser' from '/Users/deepak/miniconda3/lib/python3.6/email/parser.py'>, 'email.feedparser': <module 'email.feedparser' from '/Users/deepak/miniconda3/lib/python3.6/email/feedparser.py'>, 'email.errors': <module 'email.errors' from '/Users/deepak/miniconda3/lib/python3.6/email/errors.py'>, 'email._policybase': <module 'email._policybase' from '/Users/deepak/miniconda3/lib/python3.6/email/_policybase.py'>, 'email.header': <module 'email.header' from '/Users/deepak/miniconda3/lib/python3.6/email/header.py'>, 'email.quoprimime': <module 'email.quoprimime' from '/Users/deepak/miniconda3/lib/python3.6/email/quoprimime.py'>, 'email.base64mime': <module 'email.base64mime' from '/Users/deepak/miniconda3/lib/python3.6/email/base64mime.py'>, 'email.charset': <module 'email.charset' from '/Users/deepak/miniconda3/lib/python3.6/email/charset.py'>, 'email.encoders': <module 'email.encoders' from '/Users/deepak/miniconda3/lib/python3.6/email/encoders.py'>, 'quopri': <module 'quopri' from '/Users/deepak/miniconda3/lib/python3.6/quopri.py'>, 'email.utils': <module 'email.utils' from '/Users/deepak/miniconda3/lib/python3.6/email/utils.py'>, 'email._parseaddr': <module 'email._parseaddr' from '/Users/deepak/miniconda3/lib/python3.6/email/_parseaddr.py'>, 'calendar': <module 'calendar' from '/Users/deepak/miniconda3/lib/python3.6/calendar.py'>, 'email.message': <module 'email.message' from '/Users/deepak/miniconda3/lib/python3.6/email/message.py'>, 'uu': <module 'uu' from '/Users/deepak/miniconda3/lib/python3.6/uu.py'>, 'email._encoded_words': <module 'email._encoded_words' from '/Users/deepak/miniconda3/lib/python3.6/email/_encoded_words.py'>, 'email.iterators': <module 'email.iterators' from '/Users/deepak/miniconda3/lib/python3.6/email/iterators.py'>, 'html': <module 'html' from '/Users/deepak/miniconda3/lib/python3.6/html/__init__.py'>, 'html.entities': <module 'html.entities' from '/Users/deepak/miniconda3/lib/python3.6/html/entities.py'>, 'babel.messages.plurals': <module 'babel.messages.plurals' from '/Users/deepak/miniconda3/lib/python3.6/site-packages/babel/messages/plurals.py'>, 'babel.messages.pofile': <module 'babel.messages.pofile' from '/Users/deepak/miniconda3/lib/python3.6/site-packages/babel/messages/pofile.py'>, 'babel.messages.mofile': <module 'babel.messages.mofile' from '/Users/deepak/miniconda3/lib/python3.6/site-packages/babel/messages/mofile.py'>, 'sphinx.util.pycompat': <module 'sphinx.util.pycompat' from '/Users/deepak/miniconda3/lib/python3.6/site-packages/sphinx/util/pycompat.py'>, 'sphinx.environment': <module 'sphinx.environment' from '/Users/deepak/miniconda3/lib/python3.6/site-packages/sphinx/environment/__init__.py'>, 'docutils.core': <module 'docutils.core' from '/Users/deepak/miniconda3/lib/python3.6/site-packages/docutils/core.py'>, 'docutils.readers': <module 'docutils.readers' from '/Users/deepak/miniconda3/lib/python3.6/site-packages/docutils/readers/__init__.py'>, 'docutils.writers': <module 'docutils.writers' from '/Users/deepak/miniconda3/lib/python3.6/site-packages/docutils/writers/__init__.py'>, 'docutils.readers.doctree': <module 'docutils.readers.doctree' from '/Users/deepak/miniconda3/lib/python3.6/site-packages/docutils/readers/doctree.py'>, 'sphinx.io': <module 'sphinx.io' from '/Users/deepak/miniconda3/lib/python3.6/site-packages/sphinx/io.py'>, 'docutils.readers.standalone': <module 'docutils.readers.standalone' from '/Users/deepak/miniconda3/lib/python3.6/site-packages/docutils/readers/standalone.py'>, 'docutils.transforms.frontmatter': <module 'docutils.transforms.frontmatter' from '/Users/deepak/miniconda3/lib/python3.6/site-packages/docutils/transforms/frontmatter.py'>, 'docutils.transforms.references': <module 'docutils.transforms.references' from '/Users/deepak/miniconda3/lib/python3.6/site-packages/docutils/transforms/references.py'>, 'docutils.transforms.misc': <module 'docutils.transforms.misc' from '/Users/deepak/miniconda3/lib/python3.6/site-packages/docutils/transforms/misc.py'>, 'sphinx.transforms': <module 'sphinx.transforms' from '/Users/deepak/miniconda3/lib/python3.6/site-packages/sphinx/transforms/__init__.py'>, 'docutils.transforms.parts': <module 'docutils.transforms.parts' from '/Users/deepak/miniconda3/lib/python3.6/site-packages/docutils/transforms/parts.py'>, 'sphinx.transforms.compact_bullet_list': <module 'sphinx.transforms.compact_bullet_list' from '/Users/deepak/miniconda3/lib/python3.6/site-packages/sphinx/transforms/compact_bullet_list.py'>, 'sphinx.transforms.i18n': <module 'sphinx.transforms.i18n' from '/Users/deepak/miniconda3/lib/python3.6/site-packages/sphinx/transforms/i18n.py'>, 'sphinx.domains': <module 'sphinx.domains' from '/Users/deepak/miniconda3/lib/python3.6/site-packages/sphinx/domains/__init__.py'>, 'sphinx.domains.std': <module 'sphinx.domains.std' from '/Users/deepak/miniconda3/lib/python3.6/site-packages/sphinx/domains/std.py'>, 'sphinx.roles': <module 'sphinx.roles' from '/Users/deepak/miniconda3/lib/python3.6/site-packages/sphinx/roles.py'>, 'sphinx.directives': <module 'sphinx.directives' from '/Users/deepak/miniconda3/lib/python3.6/site-packages/sphinx/directives/__init__.py'>, 'sphinx.util.docfields': <module 'sphinx.util.docfields' from '/Users/deepak/miniconda3/lib/python3.6/site-packages/sphinx/util/docfields.py'>, 'sphinx.directives.code': <module 'sphinx.directives.code' from '/Users/deepak/miniconda3/lib/python3.6/site-packages/sphinx/directives/code.py'>, 'sphinx.directives.other': <module 'sphinx.directives.other' from '/Users/deepak/miniconda3/lib/python3.6/site-packages/sphinx/directives/other.py'>, 'docutils.parsers.rst.directives.admonitions': <module 'docutils.parsers.rst.directives.admonitions' from '/Users/deepak/miniconda3/lib/python3.6/site-packages/docutils/parsers/rst/directives/admonitions.py'>, 'docutils.parsers.rst.directives.misc': <module 'docutils.parsers.rst.directives.misc' from '/Users/deepak/miniconda3/lib/python3.6/site-packages/docutils/parsers/rst/directives/misc.py'>, 'docutils.parsers.rst.directives.body': <module 'docutils.parsers.rst.directives.body' from '/Users/deepak/miniconda3/lib/python3.6/site-packages/docutils/parsers/rst/directives/body.py'>, 'sphinx.directives.patches': <module 'sphinx.directives.patches' from '/Users/deepak/miniconda3/lib/python3.6/site-packages/sphinx/directives/patches.py'>, 'docutils.parsers.rst.directives.images': <module 'docutils.parsers.rst.directives.images' from '/Users/deepak/miniconda3/lib/python3.6/site-packages/docutils/parsers/rst/directives/images.py'>, 'urllib.request': <module 'urllib.request' from '/Users/deepak/miniconda3/lib/python3.6/urllib/request.py'>, 'http': <module 'http' from '/Users/deepak/miniconda3/lib/python3.6/http/__init__.py'>, 'http.client': <module 'http.client' from '/Users/deepak/miniconda3/lib/python3.6/http/client.py'>, 'urllib.error': <module 'urllib.error' from '/Users/deepak/miniconda3/lib/python3.6/urllib/error.py'>, 'urllib.response': <module 'urllib.response' from '/Users/deepak/miniconda3/lib/python3.6/urllib/response.py'>, '_scproxy': <module '_scproxy' from '/Users/deepak/miniconda3/lib/python3.6/lib-dynload/_scproxy.cpython-36m-darwin.so'>, 'PIL': <module 'PIL' from '/Users/deepak/miniconda3/lib/python3.6/site-packages/PIL/__init__.py'>, 'PIL.version': <module 'PIL.version' from '/Users/deepak/miniconda3/lib/python3.6/site-packages/PIL/version.py'>, 'PIL.Image': <module 'PIL.Image' from '/Users/deepak/miniconda3/lib/python3.6/site-packages/PIL/Image.py'>, 'PIL._imaging': <module 'PIL._imaging' from '/Users/deepak/miniconda3/lib/python3.6/site-packages/PIL/_imaging.cpython-36m-darwin.so'>, 'PIL.ImageMode': <module 'PIL.ImageMode' from '/Users/deepak/miniconda3/lib/python3.6/site-packages/PIL/ImageMode.py'>, 'PIL._binary': <module 'PIL._binary' from '/Users/deepak/miniconda3/lib/python3.6/site-packages/PIL/_binary.py'>, 'PIL._util': <module 'PIL._util' from '/Users/deepak/miniconda3/lib/python3.6/site-packages/PIL/_util.py'>, 'cffi': <module 'cffi' from '/Users/deepak/miniconda3/lib/python3.6/site-packages/cffi/__init__.py'>, 'cffi.api': <module 'cffi.api' from '/Users/deepak/miniconda3/lib/python3.6/site-packages/cffi/api.py'>, 'cffi.lock': <module 'cffi.lock' from '/Users/deepak/miniconda3/lib/python3.6/site-packages/cffi/lock.py'>, 'cffi.error': <module 'cffi.error' from '/Users/deepak/miniconda3/lib/python3.6/site-packages/cffi/error.py'>, 'cffi.model': <module 'cffi.model' from '/Users/deepak/miniconda3/lib/python3.6/site-packages/cffi/model.py'>, 'docutils.parsers.rst.directives.html': <module 'docutils.parsers.rst.directives.html' from '/Users/deepak/miniconda3/lib/python3.6/site-packages/docutils/parsers/rst/directives/html.py'>, 'docutils.transforms.components': <module 'docutils.transforms.components' from '/Users/deepak/miniconda3/lib/python3.6/site-packages/docutils/transforms/components.py'>, 'docutils.parsers.rst.directives.tables': <module 'docutils.parsers.rst.directives.tables' from '/Users/deepak/miniconda3/lib/python3.6/site-packages/docutils/parsers/rst/directives/tables.py'>, 'csv': <module 'csv' from '/Users/deepak/miniconda3/lib/python3.6/csv.py'>, '_csv': <module '_csv' from '/Users/deepak/miniconda3/lib/python3.6/lib-dynload/_csv.cpython-36m-darwin.so'>, 'sphinx.util.parallel': <module 'sphinx.util.parallel' from '/Users/deepak/miniconda3/lib/python3.6/site-packages/sphinx/util/parallel.py'>, 'sphinx.util.websupport': <module 'sphinx.util.websupport' from '/Users/deepak/miniconda3/lib/python3.6/site-packages/sphinx/util/websupport.py'>, 'sphinxcontrib.websupport': <module 'sphinxcontrib.websupport' from '/Users/deepak/miniconda3/lib/python3.6/site-packages/sphinxcontrib/websupport/__init__.py'>, 'pkg_resources': <module 'pkg_resources' from '/Users/deepak/miniconda3/lib/python3.6/site-packages/pkg_resources/__init__.py'>, 'zipfile': <module 'zipfile' from '/Users/deepak/miniconda3/lib/python3.6/zipfile.py'>, 'plistlib': <module 'plistlib' from '/Users/deepak/miniconda3/lib/python3.6/plistlib.py'>, 'xml': <module 'xml' from '/Users/deepak/miniconda3/lib/python3.6/xml/__init__.py'>, 'xml.parsers': <module 'xml.parsers' from '/Users/deepak/miniconda3/lib/python3.6/xml/parsers/__init__.py'>, 'xml.parsers.expat': <module 'xml.parsers.expat' from '/Users/deepak/miniconda3/lib/python3.6/xml/parsers/expat.py'>, 'pyexpat.errors': <module 'pyexpat.errors'>, 'pyexpat.model': <module 'pyexpat.model'>, 'pyexpat': <module 'pyexpat' from '/Users/deepak/miniconda3/lib/python3.6/lib-dynload/pyexpat.cpython-36m-darwin.so'>, 'xml.parsers.expat.model': <module 'pyexpat.model'>, 'xml.parsers.expat.errors': <module 'pyexpat.errors'>, 'pkg_resources.extern': <module 'pkg_resources.extern' from '/Users/deepak/miniconda3/lib/python3.6/site-packages/pkg_resources/extern/__init__.py'>, 'pkg_resources._vendor': <module 'pkg_resources._vendor' from '/Users/deepak/miniconda3/lib/python3.6/site-packages/pkg_resources/_vendor/__init__.py'>, 'pkg_resources.extern.six': <module 'pkg_resources._vendor.six' from '/Users/deepak/miniconda3/lib/python3.6/site-packages/pkg_resources/_vendor/six.py'>, 'pkg_resources._vendor.six': <module 'pkg_resources._vendor.six' from '/Users/deepak/miniconda3/lib/python3.6/site-packages/pkg_resources/_vendor/six.py'>, 'pkg_resources.extern.six.moves': <module 'pkg_resources._vendor.six.moves' (<pkg_resources._vendor.six._SixMetaPathImporter object at 0x10a214eb8>)>, 'pkg_resources._vendor.six.moves': <module 'pkg_resources._vendor.six.moves' (<pkg_resources._vendor.six._SixMetaPathImporter object at 0x10a214eb8>)>, 'pkg_resources.py31compat': <module 'pkg_resources.py31compat' from '/Users/deepak/miniconda3/lib/python3.6/site-packages/pkg_resources/py31compat.py'>, 'pkg_resources.extern.appdirs': <module 'pkg_resources._vendor.appdirs' from '/Users/deepak/miniconda3/lib/python3.6/site-packages/pkg_resources/_vendor/appdirs.py'>, 'pkg_resources._vendor.packaging.__about__': <module 'pkg_resources._vendor.packaging.__about__' from '/Users/deepak/miniconda3/lib/python3.6/site-packages/pkg_resources/_vendor/packaging/__about__.py'>, 'pkg_resources.extern.packaging': <module 'pkg_resources._vendor.packaging' from '/Users/deepak/miniconda3/lib/python3.6/site-packages/pkg_resources/_vendor/packaging/__init__.py'>, 'pkg_resources.extern.packaging.version': <module 'pkg_resources.extern.packaging.version' from '/Users/deepak/miniconda3/lib/python3.6/site-packages/pkg_resources/_vendor/packaging/version.py'>, 'pkg_resources.extern.packaging._structures': <module 'pkg_resources.extern.packaging._structures' from '/Users/deepak/miniconda3/lib/python3.6/site-packages/pkg_resources/_vendor/packaging/_structures.py'>, 'pkg_resources.extern.packaging.specifiers': <module 'pkg_resources.extern.packaging.specifiers' from '/Users/deepak/miniconda3/lib/python3.6/site-packages/pkg_resources/_vendor/packaging/specifiers.py'>, 'pkg_resources.extern.packaging._compat': <module 'pkg_resources.extern.packaging._compat' from '/Users/deepak/miniconda3/lib/python3.6/site-packages/pkg_resources/_vendor/packaging/_compat.py'>, 'pkg_resources.extern.packaging.requirements': <module 'pkg_resources.extern.packaging.requirements' from '/Users/deepak/miniconda3/lib/python3.6/site-packages/pkg_resources/_vendor/packaging/requirements.py'>, 'pkg_resources.extern.pyparsing': <module 'pkg_resources._vendor.pyparsing' from '/Users/deepak/miniconda3/lib/python3.6/site-packages/pkg_resources/_vendor/pyparsing.py'>, 'pkg_resources.extern.six.moves.urllib': <module 'pkg_resources._vendor.six.moves.urllib' (<pkg_resources._vendor.six._SixMetaPathImporter object at 0x10a214eb8>)>, 'pkg_resources.extern.packaging.markers': <module 'pkg_resources.extern.packaging.markers' from '/Users/deepak/miniconda3/lib/python3.6/site-packages/pkg_resources/_vendor/packaging/markers.py'>, 'sphinxcontrib.websupport.core': <module 'sphinxcontrib.websupport.core' from '/Users/deepak/miniconda3/lib/python3.6/site-packages/sphinxcontrib/websupport/core.py'>, 'sphinx.util.jsonimpl': <module 'sphinx.util.jsonimpl' from '/Users/deepak/miniconda3/lib/python3.6/site-packages/sphinx/util/jsonimpl.py'>, 'sphinxcontrib.websupport.errors': <module 'sphinxcontrib.websupport.errors' from '/Users/deepak/miniconda3/lib/python3.6/site-packages/sphinxcontrib/websupport/errors.py'>, 'sphinxcontrib.websupport.search': <module 'sphinxcontrib.websupport.search' from '/Users/deepak/miniconda3/lib/python3.6/site-packages/sphinxcontrib/websupport/search/__init__.py'>, 'sphinxcontrib.websupport.storage': <module 'sphinxcontrib.websupport.storage' from '/Users/deepak/miniconda3/lib/python3.6/site-packages/sphinxcontrib/websupport/storage/__init__.py'>, 'sphinxcontrib.websupport.version': <module 'sphinxcontrib.websupport.version' from '/Users/deepak/miniconda3/lib/python3.6/site-packages/sphinxcontrib/websupport/version.py'>, 'sphinxcontrib.websupport.utils': <module 'sphinxcontrib.websupport.utils' from '/Users/deepak/miniconda3/lib/python3.6/site-packages/sphinxcontrib/websupport/utils.py'>, 'sphinx.versioning': <module 'sphinx.versioning' from '/Users/deepak/miniconda3/lib/python3.6/site-packages/sphinx/versioning.py'>, 'uuid': <module 'uuid' from '/Users/deepak/miniconda3/lib/python3.6/uuid.py'>, 'ctypes': <module 'ctypes' from '/Users/deepak/miniconda3/lib/python3.6/ctypes/__init__.py'>, '_ctypes': <module '_ctypes' from '/Users/deepak/miniconda3/lib/python3.6/lib-dynload/_ctypes.cpython-36m-darwin.so'>, 'ctypes._endian': <module 'ctypes._endian' from '/Users/deepak/miniconda3/lib/python3.6/ctypes/_endian.py'>, 'ctypes.util': <module 'ctypes.util' from '/Users/deepak/miniconda3/lib/python3.6/ctypes/util.py'>, 'ctypes.macholib': <module 'ctypes.macholib' from '/Users/deepak/miniconda3/lib/python3.6/ctypes/macholib/__init__.py'>, 'ctypes.macholib.dyld': <module 'ctypes.macholib.dyld' from '/Users/deepak/miniconda3/lib/python3.6/ctypes/macholib/dyld.py'>, 'ctypes.macholib.framework': <module 'ctypes.macholib.framework' from '/Users/deepak/miniconda3/lib/python3.6/ctypes/macholib/framework.py'>, 'ctypes.macholib.dylib': <module 'ctypes.macholib.dylib' from '/Users/deepak/miniconda3/lib/python3.6/ctypes/macholib/dylib.py'>, 'sphinx.environment.adapters': <module 'sphinx.environment.adapters' from '/Users/deepak/miniconda3/lib/python3.6/site-packages/sphinx/environment/adapters/__init__.py'>, 'sphinx.environment.adapters.indexentries': <module 'sphinx.environment.adapters.indexentries' from '/Users/deepak/miniconda3/lib/python3.6/site-packages/sphinx/environment/adapters/indexentries.py'>, 'sphinx.environment.adapters.toctree': <module 'sphinx.environment.adapters.toctree' from '/Users/deepak/miniconda3/lib/python3.6/site-packages/sphinx/environment/adapters/toctree.py'>, 'sphinx.events': <module 'sphinx.events' from '/Users/deepak/miniconda3/lib/python3.6/site-packages/sphinx/events.py'>, 'sphinx.extension': <module 'sphinx.extension' from '/Users/deepak/miniconda3/lib/python3.6/site-packages/sphinx/extension.py'>, 'sphinx.registry': <module 'sphinx.registry' from '/Users/deepak/miniconda3/lib/python3.6/site-packages/sphinx/registry.py'>, 'sphinx.util.tags': <module 'sphinx.util.tags' from '/Users/deepak/miniconda3/lib/python3.6/site-packages/sphinx/util/tags.py'>, 'numpydoc.docscrape': <module 'numpydoc.docscrape' from '/Users/deepak/miniconda3/lib/python3.6/site-packages/numpydoc/docscrape.py'>, 'sphinx.domains.c': <module 'sphinx.domains.c' from '/Users/deepak/miniconda3/lib/python3.6/site-packages/sphinx/domains/c.py'>, 'sphinx.domains.python': <module 'sphinx.domains.python' from '/Users/deepak/miniconda3/lib/python3.6/site-packages/sphinx/domains/python.py'>, 'jedi.evaluate.param': <module 'jedi.evaluate.param' from '/Users/deepak/miniconda3/lib/python3.6/site-packages/jedi/evaluate/param.py'>, 'jedi.evaluate.imports': <module 'jedi.evaluate.imports' from '/Users/deepak/miniconda3/lib/python3.6/site-packages/jedi/evaluate/imports.py'>, 'jedi.evaluate.sys_path': <module 'jedi.evaluate.sys_path' from '/Users/deepak/miniconda3/lib/python3.6/site-packages/jedi/evaluate/sys_path.py'>, 'jedi.evaluate.site': <module 'jedi.evaluate.site' from '/Users/deepak/miniconda3/lib/python3.6/site-packages/jedi/evaluate/site.py'>, 'jedi.evaluate.dynamic': <module 'jedi.evaluate.dynamic' from '/Users/deepak/miniconda3/lib/python3.6/site-packages/jedi/evaluate/dynamic.py'>, 'jedi.evaluate.stdlib': <module 'jedi.evaluate.stdlib' from '/Users/deepak/miniconda3/lib/python3.6/site-packages/jedi/evaluate/stdlib.py'>, 'jedi.evaluate.instance': <module 'jedi.evaluate.instance' from '/Users/deepak/miniconda3/lib/python3.6/site-packages/jedi/evaluate/instance.py'>, 'jedi.evaluate.finder': <module 'jedi.evaluate.finder' from '/Users/deepak/miniconda3/lib/python3.6/site-packages/jedi/evaluate/finder.py'>, 'jedi.api.keywords': <module 'jedi.api.keywords' from '/Users/deepak/miniconda3/lib/python3.6/site-packages/jedi/api/keywords.py'>, 'pydoc_data': <module 'pydoc_data' from '/Users/deepak/miniconda3/lib/python3.6/pydoc_data/__init__.py'>, 'pydoc_data.topics': <module 'pydoc_data.topics' from '/Users/deepak/miniconda3/lib/python3.6/pydoc_data/topics.py'>, 'jedi.api.interpreter': <module 'jedi.api.interpreter' from '/Users/deepak/miniconda3/lib/python3.6/site-packages/jedi/api/interpreter.py'>, 'jedi.evaluate.compiled.mixed': <module 'jedi.evaluate.compiled.mixed' from '/Users/deepak/miniconda3/lib/python3.6/site-packages/jedi/evaluate/compiled/mixed.py'>, 'jedi.api.usages': <module 'jedi.api.usages' from '/Users/deepak/miniconda3/lib/python3.6/site-packages/jedi/api/usages.py'>, 'jedi.api.helpers': <module 'jedi.api.helpers' from '/Users/deepak/miniconda3/lib/python3.6/site-packages/jedi/api/helpers.py'>, 'jedi.api.completion': <module 'jedi.api.completion' from '/Users/deepak/miniconda3/lib/python3.6/site-packages/jedi/api/completion.py'>, 'IPython.terminal.ptutils': <module 'IPython.terminal.ptutils' from '/Users/deepak/miniconda3/lib/python3.6/site-packages/IPython/terminal/ptutils.py'>, 'IPython.terminal.shortcuts': <module 'IPython.terminal.shortcuts' from '/Users/deepak/miniconda3/lib/python3.6/site-packages/IPython/terminal/shortcuts.py'>, 'IPython.terminal.magics': <module 'IPython.terminal.magics' from '/Users/deepak/miniconda3/lib/python3.6/site-packages/IPython/terminal/magics.py'>, 'IPython.lib.clipboard': <module 'IPython.lib.clipboard' from '/Users/deepak/miniconda3/lib/python3.6/site-packages/IPython/lib/clipboard.py'>, 'IPython.terminal.pt_inputhooks': <module 'IPython.terminal.pt_inputhooks' from '/Users/deepak/miniconda3/lib/python3.6/site-packages/IPython/terminal/pt_inputhooks/__init__.py'>, 'IPython.terminal.prompts': <module 'IPython.terminal.prompts' from '/Users/deepak/miniconda3/lib/python3.6/site-packages/IPython/terminal/prompts.py'>, 'IPython.terminal.ipapp': <module 'IPython.terminal.ipapp' from '/Users/deepak/miniconda3/lib/python3.6/site-packages/IPython/terminal/ipapp.py'>, 'IPython.core.magics': <module 'IPython.core.magics' from '/Users/deepak/miniconda3/lib/python3.6/site-packages/IPython/core/magics/__init__.py'>, 'IPython.core.magics.auto': <module 'IPython.core.magics.auto' from '/Users/deepak/miniconda3/lib/python3.6/site-packages/IPython/core/magics/auto.py'>, 'IPython.core.magics.basic': <module 'IPython.core.magics.basic' from '/Users/deepak/miniconda3/lib/python3.6/site-packages/IPython/core/magics/basic.py'>, 'IPython.core.magics.code': <module 'IPython.core.magics.code' from '/Users/deepak/miniconda3/lib/python3.6/site-packages/IPython/core/magics/code.py'>, 'IPython.core.magics.config': <module 'IPython.core.magics.config' from '/Users/deepak/miniconda3/lib/python3.6/site-packages/IPython/core/magics/config.py'>, 'IPython.core.magics.display': <module 'IPython.core.magics.display' from '/Users/deepak/miniconda3/lib/python3.6/site-packages/IPython/core/magics/display.py'>, 'IPython.core.magics.execution': <module 'IPython.core.magics.execution' from '/Users/deepak/miniconda3/lib/python3.6/site-packages/IPython/core/magics/execution.py'>, 'timeit': <module 'timeit' from '/Users/deepak/miniconda3/lib/python3.6/timeit.py'>, 'cProfile': <module 'cProfile' from '/Users/deepak/miniconda3/lib/python3.6/cProfile.py'>, '_lsprof': <module '_lsprof' from '/Users/deepak/miniconda3/lib/python3.6/lib-dynload/_lsprof.cpython-36m-darwin.so'>, 'profile': <module 'profile' from '/Users/deepak/miniconda3/lib/python3.6/profile.py'>, 'pstats': <module 'pstats' from '/Users/deepak/miniconda3/lib/python3.6/pstats.py'>, 'IPython.utils.module_paths': <module 'IPython.utils.module_paths' from '/Users/deepak/miniconda3/lib/python3.6/site-packages/IPython/utils/module_paths.py'>, 'IPython.utils.timing': <module 'IPython.utils.timing' from '/Users/deepak/miniconda3/lib/python3.6/site-packages/IPython/utils/timing.py'>, 'IPython.core.magics.extension': <module 'IPython.core.magics.extension' from '/Users/deepak/miniconda3/lib/python3.6/site-packages/IPython/core/magics/extension.py'>, 'IPython.core.magics.history': <module 'IPython.core.magics.history' from '/Users/deepak/miniconda3/lib/python3.6/site-packages/IPython/core/magics/history.py'>, 'IPython.core.magics.logging': <module 'IPython.core.magics.logging' from '/Users/deepak/miniconda3/lib/python3.6/site-packages/IPython/core/magics/logging.py'>, 'IPython.core.magics.namespace': <module 'IPython.core.magics.namespace' from '/Users/deepak/miniconda3/lib/python3.6/site-packages/IPython/core/magics/namespace.py'>, 'IPython.core.magics.osm': <module 'IPython.core.magics.osm' from '/Users/deepak/miniconda3/lib/python3.6/site-packages/IPython/core/magics/osm.py'>, 'IPython.core.magics.pylab': <module 'IPython.core.magics.pylab' from '/Users/deepak/miniconda3/lib/python3.6/site-packages/IPython/core/magics/pylab.py'>, 'IPython.core.pylabtools': <module 'IPython.core.pylabtools' from '/Users/deepak/miniconda3/lib/python3.6/site-packages/IPython/core/pylabtools.py'>, 'IPython.core.magics.script': <module 'IPython.core.magics.script' from '/Users/deepak/miniconda3/lib/python3.6/site-packages/IPython/core/magics/script.py'>, 'IPython.lib.backgroundjobs': <module 'IPython.lib.backgroundjobs' from '/Users/deepak/miniconda3/lib/python3.6/site-packages/IPython/lib/backgroundjobs.py'>, 'IPython.core.shellapp': <module 'IPython.core.shellapp' from '/Users/deepak/miniconda3/lib/python3.6/site-packages/IPython/core/shellapp.py'>, 'IPython.extensions': <module 'IPython.extensions' from '/Users/deepak/miniconda3/lib/python3.6/site-packages/IPython/extensions/__init__.py'>, 'IPython.extensions.storemagic': <module 'IPython.extensions.storemagic' from '/Users/deepak/miniconda3/lib/python3.6/site-packages/IPython/extensions/storemagic.py'>, 'IPython.utils.frame': <module 'IPython.utils.frame' from '/Users/deepak/miniconda3/lib/python3.6/site-packages/IPython/utils/frame.py'>, 'jupyter_client': <module 'jupyter_client' from '/Users/deepak/miniconda3/lib/python3.6/site-packages/jupyter_client/__init__.py'>, 'jupyter_client._version': <module 'jupyter_client._version' from '/Users/deepak/miniconda3/lib/python3.6/site-packages/jupyter_client/_version.py'>, 'jupyter_client.connect': <module 'jupyter_client.connect' from '/Users/deepak/miniconda3/lib/python3.6/site-packages/jupyter_client/connect.py'>, 'zmq': <module 'zmq' from '/Users/deepak/miniconda3/lib/python3.6/site-packages/zmq/__init__.py'>, 'zmq.backend': <module 'zmq.backend' from '/Users/deepak/miniconda3/lib/python3.6/site-packages/zmq/backend/__init__.py'>, 'zmq.backend.select': <module 'zmq.backend.select' from '/Users/deepak/miniconda3/lib/python3.6/site-packages/zmq/backend/select.py'>, 'zmq.backend.cython': <module 'zmq.backend.cython' from '/Users/deepak/miniconda3/lib/python3.6/site-packages/zmq/backend/cython/__init__.py'>, 'zmq.backend.cython.constants': <module 'zmq.backend.cython.constants' from '/Users/deepak/miniconda3/lib/python3.6/site-packages/zmq/backend/cython/constants.cpython-36m-darwin.so'>, '_cython_0_25_1': <module '_cython_0_25_1'>, 'zmq.backend.cython.error': <module 'zmq.backend.cython.error' from '/Users/deepak/miniconda3/lib/python3.6/site-packages/zmq/backend/cython/error.cpython-36m-darwin.so'>, 'zmq.utils': <module 'zmq.utils' from '/Users/deepak/miniconda3/lib/python3.6/site-packages/zmq/utils/__init__.py'>, 'zmq.utils.strtypes': <module 'zmq.utils.strtypes' from '/Users/deepak/miniconda3/lib/python3.6/site-packages/zmq/utils/strtypes.py'>, 'zmq.backend.cython.message': <module 'zmq.backend.cython.message' from '/Users/deepak/miniconda3/lib/python3.6/site-packages/zmq/backend/cython/message.cpython-36m-darwin.so'>, 'zmq.error': <module 'zmq.error' from '/Users/deepak/miniconda3/lib/python3.6/site-packages/zmq/error.py'>, 'zmq.backend.cython.context': <module 'zmq.backend.cython.context' from '/Users/deepak/miniconda3/lib/python3.6/site-packages/zmq/backend/cython/context.cpython-36m-darwin.so'>, 'zmq.backend.cython.socket': <module 'zmq.backend.cython.socket' from '/Users/deepak/miniconda3/lib/python3.6/site-packages/zmq/backend/cython/socket.cpython-36m-darwin.so'>, 'zmq.backend.cython.utils': <module 'zmq.backend.cython.utils' from '/Users/deepak/miniconda3/lib/python3.6/site-packages/zmq/backend/cython/utils.cpython-36m-darwin.so'>, 'zmq.backend.cython._poll': <module 'zmq.backend.cython._poll' from '/Users/deepak/miniconda3/lib/python3.6/site-packages/zmq/backend/cython/_poll.cpython-36m-darwin.so'>, 'zmq.backend.cython._version': <module 'zmq.backend.cython._version' from '/Users/deepak/miniconda3/lib/python3.6/site-packages/zmq/backend/cython/_version.cpython-36m-darwin.so'>, 'zmq.backend.cython._device': <module 'zmq.backend.cython._device' from '/Users/deepak/miniconda3/lib/python3.6/site-packages/zmq/backend/cython/_device.cpython-36m-darwin.so'>, 'zmq.sugar': <module 'zmq.sugar' from '/Users/deepak/miniconda3/lib/python3.6/site-packages/zmq/sugar/__init__.py'>, 'zmq.sugar.constants': <module 'zmq.sugar.constants' from '/Users/deepak/miniconda3/lib/python3.6/site-packages/zmq/sugar/constants.py'>, 'zmq.utils.constant_names': <module 'zmq.utils.constant_names' from '/Users/deepak/miniconda3/lib/python3.6/site-packages/zmq/utils/constant_names.py'>, 'zmq.sugar.context': <module 'zmq.sugar.context' from '/Users/deepak/miniconda3/lib/python3.6/site-packages/zmq/sugar/context.py'>, 'zmq.sugar.attrsettr': <module 'zmq.sugar.attrsettr' from '/Users/deepak/miniconda3/lib/python3.6/site-packages/zmq/sugar/attrsettr.py'>, 'zmq.sugar.socket': <module 'zmq.sugar.socket' from '/Users/deepak/miniconda3/lib/python3.6/site-packages/zmq/sugar/socket.py'>, 'zmq.sugar.poll': <module 'zmq.sugar.poll' from '/Users/deepak/miniconda3/lib/python3.6/site-packages/zmq/sugar/poll.py'>, 'zmq.sugar.frame': <module 'zmq.sugar.frame' from '/Users/deepak/miniconda3/lib/python3.6/site-packages/zmq/sugar/frame.py'>, 'zmq.sugar.tracker': <module 'zmq.sugar.tracker' from '/Users/deepak/miniconda3/lib/python3.6/site-packages/zmq/sugar/tracker.py'>, 'zmq.sugar.version': <module 'zmq.sugar.version' from '/Users/deepak/miniconda3/lib/python3.6/site-packages/zmq/sugar/version.py'>, 'zmq.sugar.stopwatch': <module 'zmq.sugar.stopwatch' from '/Users/deepak/miniconda3/lib/python3.6/site-packages/zmq/sugar/stopwatch.py'>, 'jupyter_client.localinterfaces': <module 'jupyter_client.localinterfaces' from '/Users/deepak/miniconda3/lib/python3.6/site-packages/jupyter_client/localinterfaces.py'>, 'jupyter_core': <module 'jupyter_core' from '/Users/deepak/miniconda3/lib/python3.6/site-packages/jupyter_core/__init__.py'>, 'jupyter_core.version': <module 'jupyter_core.version' from '/Users/deepak/miniconda3/lib/python3.6/site-packages/jupyter_core/version.py'>, 'jupyter_core.paths': <module 'jupyter_core.paths' from '/Users/deepak/miniconda3/lib/python3.6/site-packages/jupyter_core/paths.py'>, 'jupyter_client.launcher': <module 'jupyter_client.launcher' from '/Users/deepak/miniconda3/lib/python3.6/site-packages/jupyter_client/launcher.py'>, 'traitlets.log': <module 'traitlets.log' from '/Users/deepak/miniconda3/lib/python3.6/site-packages/traitlets/log.py'>, 'jupyter_client.client': <module 'jupyter_client.client' from '/Users/deepak/miniconda3/lib/python3.6/site-packages/jupyter_client/client.py'>, 'jupyter_client.channels': <module 'jupyter_client.channels' from '/Users/deepak/miniconda3/lib/python3.6/site-packages/jupyter_client/channels.py'>, 'jupyter_client.channelsabc': <module 'jupyter_client.channelsabc' from '/Users/deepak/miniconda3/lib/python3.6/site-packages/jupyter_client/channelsabc.py'>, 'jupyter_client.clientabc': <module 'jupyter_client.clientabc' from '/Users/deepak/miniconda3/lib/python3.6/site-packages/jupyter_client/clientabc.py'>, 'jupyter_client.manager': <module 'jupyter_client.manager' from '/Users/deepak/miniconda3/lib/python3.6/site-packages/jupyter_client/manager.py'>, 'jupyter_client.kernelspec': <module 'jupyter_client.kernelspec' from '/Users/deepak/miniconda3/lib/python3.6/site-packages/jupyter_client/kernelspec.py'>, 'jupyter_client.session': <module 'jupyter_client.session' from '/Users/deepak/miniconda3/lib/python3.6/site-packages/jupyter_client/session.py'>, 'hmac': <module 'hmac' from '/Users/deepak/miniconda3/lib/python3.6/hmac.py'>, 'zmq.utils.jsonapi': <module 'zmq.utils.jsonapi' from '/Users/deepak/miniconda3/lib/python3.6/site-packages/zmq/utils/jsonapi.py'>, 'zmq.eventloop': <module 'zmq.eventloop' from '/Users/deepak/miniconda3/lib/python3.6/site-packages/zmq/eventloop/__init__.py'>, 'zmq.eventloop.ioloop': <module 'zmq.eventloop.ioloop' from '/Users/deepak/miniconda3/lib/python3.6/site-packages/zmq/eventloop/ioloop.py'>, 'tornado': <module 'tornado' from '/Users/deepak/miniconda3/lib/python3.6/site-packages/tornado/__init__.py'>, 'tornado.ioloop': <module 'tornado.ioloop' from '/Users/deepak/miniconda3/lib/python3.6/site-packages/tornado/ioloop.py'>, 'tornado.concurrent': <module 'tornado.concurrent' from '/Users/deepak/miniconda3/lib/python3.6/site-packages/tornado/concurrent.py'>, 'tornado.log': <module 'tornado.log' from '/Users/deepak/miniconda3/lib/python3.6/site-packages/tornado/log.py'>, 'tornado.escape': <module 'tornado.escape' from '/Users/deepak/miniconda3/lib/python3.6/site-packages/tornado/escape.py'>, 'tornado.util': <module 'tornado.util' from '/Users/deepak/miniconda3/lib/python3.6/site-packages/tornado/util.py'>, 'tornado.speedups': <module 'tornado.speedups' from '/Users/deepak/miniconda3/lib/python3.6/site-packages/tornado/speedups.cpython-36m-darwin.so'>, 'curses': <module 'curses' from '/Users/deepak/miniconda3/lib/python3.6/curses/__init__.py'>, '_curses': <module '_curses' from '/Users/deepak/miniconda3/lib/python3.6/lib-dynload/_curses.cpython-36m-darwin.so'>, 'tornado.stack_context': <module 'tornado.stack_context' from '/Users/deepak/miniconda3/lib/python3.6/site-packages/tornado/stack_context.py'>, 'tornado.platform': <module 'tornado.platform' from '/Users/deepak/miniconda3/lib/python3.6/site-packages/tornado/platform/__init__.py'>, 'tornado.platform.auto': <module 'tornado.platform.auto' from '/Users/deepak/miniconda3/lib/python3.6/site-packages/tornado/platform/auto.py'>, 'tornado.platform.posix': <module 'tornado.platform.posix' from '/Users/deepak/miniconda3/lib/python3.6/site-packages/tornado/platform/posix.py'>, 'tornado.platform.common': <module 'tornado.platform.common' from '/Users/deepak/miniconda3/lib/python3.6/site-packages/tornado/platform/common.py'>, 'tornado.platform.interface': <module 'tornado.platform.interface' from '/Users/deepak/miniconda3/lib/python3.6/site-packages/tornado/platform/interface.py'>, 'zmq.eventloop.zmqstream': <module 'zmq.eventloop.zmqstream' from '/Users/deepak/miniconda3/lib/python3.6/site-packages/zmq/eventloop/zmqstream.py'>, 'jupyter_client.jsonutil': <module 'jupyter_client.jsonutil' from '/Users/deepak/miniconda3/lib/python3.6/site-packages/jupyter_client/jsonutil.py'>, 'dateutil': <module 'dateutil' from '/Users/deepak/miniconda3/lib/python3.6/site-packages/dateutil/__init__.py'>, 'dateutil._version': <module 'dateutil._version' from '/Users/deepak/miniconda3/lib/python3.6/site-packages/dateutil/_version.py'>, 'dateutil.parser': <module 'dateutil.parser' from '/Users/deepak/miniconda3/lib/python3.6/site-packages/dateutil/parser.py'>, 'dateutil.relativedelta': <module 'dateutil.relativedelta' from '/Users/deepak/miniconda3/lib/python3.6/site-packages/dateutil/relativedelta.py'>, 'dateutil._common': <module 'dateutil._common' from '/Users/deepak/miniconda3/lib/python3.6/site-packages/dateutil/_common.py'>, 'dateutil.tz': <module 'dateutil.tz' from '/Users/deepak/miniconda3/lib/python3.6/site-packages/dateutil/tz/__init__.py'>, 'dateutil.tz.tz': <module 'dateutil.tz.tz' from '/Users/deepak/miniconda3/lib/python3.6/site-packages/dateutil/tz/tz.py'>, 'dateutil.tz._common': <module 'dateutil.tz._common' from '/Users/deepak/miniconda3/lib/python3.6/site-packages/dateutil/tz/_common.py'>, '_strptime': <module '_strptime' from '/Users/deepak/miniconda3/lib/python3.6/_strptime.py'>, 'jupyter_client.adapter': <module 'jupyter_client.adapter' from '/Users/deepak/miniconda3/lib/python3.6/site-packages/jupyter_client/adapter.py'>, 'jupyter_client.managerabc': <module 'jupyter_client.managerabc' from '/Users/deepak/miniconda3/lib/python3.6/site-packages/jupyter_client/managerabc.py'>, 'jupyter_client.blocking': <module 'jupyter_client.blocking' from '/Users/deepak/miniconda3/lib/python3.6/site-packages/jupyter_client/blocking/__init__.py'>, 'jupyter_client.blocking.client': <module 'jupyter_client.blocking.client' from '/Users/deepak/miniconda3/lib/python3.6/site-packages/jupyter_client/blocking/client.py'>, 'jupyter_client.blocking.channels': <module 'jupyter_client.blocking.channels' from '/Users/deepak/miniconda3/lib/python3.6/site-packages/jupyter_client/blocking/channels.py'>, 'jupyter_client.multikernelmanager': <module 'jupyter_client.multikernelmanager' from '/Users/deepak/miniconda3/lib/python3.6/site-packages/jupyter_client/multikernelmanager.py'>, 'ipykernel.kernelapp': <module 'ipykernel.kernelapp' from '/Users/deepak/miniconda3/lib/python3.6/site-packages/ipykernel/kernelapp.py'>, 'ipykernel.iostream': <module 'ipykernel.iostream' from '/Users/deepak/miniconda3/lib/python3.6/site-packages/ipykernel/iostream.py'>, 'ipykernel.heartbeat': <module 'ipykernel.heartbeat' from '/Users/deepak/miniconda3/lib/python3.6/site-packages/ipykernel/heartbeat.py'>, 'ipykernel.ipkernel': <module 'ipykernel.ipkernel' from '/Users/deepak/miniconda3/lib/python3.6/site-packages/ipykernel/ipkernel.py'>, 'IPython.utils.tokenutil': <module 'IPython.utils.tokenutil' from '/Users/deepak/miniconda3/lib/python3.6/site-packages/IPython/utils/tokenutil.py'>, 'ipykernel.comm': <module 'ipykernel.comm' from '/Users/deepak/miniconda3/lib/python3.6/site-packages/ipykernel/comm/__init__.py'>, 'ipykernel.comm.manager': <module 'ipykernel.comm.manager' from '/Users/deepak/miniconda3/lib/python3.6/site-packages/ipykernel/comm/manager.py'>, 'ipykernel.comm.comm': <module 'ipykernel.comm.comm' from '/Users/deepak/miniconda3/lib/python3.6/site-packages/ipykernel/comm/comm.py'>, 'ipykernel.kernelbase': <module 'ipykernel.kernelbase' from '/Users/deepak/miniconda3/lib/python3.6/site-packages/ipykernel/kernelbase.py'>, 'ipykernel.jsonutil': <module 'ipykernel.jsonutil' from '/Users/deepak/miniconda3/lib/python3.6/site-packages/ipykernel/jsonutil.py'>, 'ipykernel.zmqshell': <module 'ipykernel.zmqshell' from '/Users/deepak/miniconda3/lib/python3.6/site-packages/ipykernel/zmqshell.py'>, 'IPython.core.payloadpage': <module 'IPython.core.payloadpage' from '/Users/deepak/miniconda3/lib/python3.6/site-packages/IPython/core/payloadpage.py'>, 'ipykernel.displayhook': <module 'ipykernel.displayhook' from '/Users/deepak/miniconda3/lib/python3.6/site-packages/ipykernel/displayhook.py'>, 'ipykernel.parentpoller': <module 'ipykernel.parentpoller' from '/Users/deepak/miniconda3/lib/python3.6/site-packages/ipykernel/parentpoller.py'>, 'faulthandler': <module 'faulthandler' (built-in)>, 'ipykernel.datapub': <module 'ipykernel.datapub' from '/Users/deepak/miniconda3/lib/python3.6/site-packages/ipykernel/datapub.py'>, 'ipykernel.serialize': <module 'ipykernel.serialize' from '/Users/deepak/miniconda3/lib/python3.6/site-packages/ipykernel/serialize.py'>, 'ipykernel.pickleutil': <module 'ipykernel.pickleutil' from '/Users/deepak/miniconda3/lib/python3.6/site-packages/ipykernel/pickleutil.py'>, 'ipykernel.codeutil': <module 'ipykernel.codeutil' from '/Users/deepak/miniconda3/lib/python3.6/site-packages/ipykernel/codeutil.py'>, 'IPython.core.completerlib': <module 'IPython.core.completerlib' from '/Users/deepak/miniconda3/lib/python3.6/site-packages/IPython/core/completerlib.py'>, 'storemagic': <module 'storemagic' from '/Users/deepak/miniconda3/lib/python3.6/site-packages/IPython/extensions/storemagic.py'>, 'ipywidgets': <module 'ipywidgets' from '/Users/deepak/miniconda3/lib/python3.6/site-packages/ipywidgets/__init__.py'>, 'ipywidgets._version': <module 'ipywidgets._version' from '/Users/deepak/miniconda3/lib/python3.6/site-packages/ipywidgets/_version.py'>, 'ipywidgets.widgets': <module 'ipywidgets.widgets' from '/Users/deepak/miniconda3/lib/python3.6/site-packages/ipywidgets/widgets/__init__.py'>, 'ipywidgets.widgets.widget': <module 'ipywidgets.widgets.widget' from '/Users/deepak/miniconda3/lib/python3.6/site-packages/ipywidgets/widgets/widget.py'>, 'ipywidgets.widgets.domwidget': <module 'ipywidgets.widgets.domwidget' from '/Users/deepak/miniconda3/lib/python3.6/site-packages/ipywidgets/widgets/domwidget.py'>, 'ipywidgets.widgets.trait_types': <module 'ipywidgets.widgets.trait_types' from '/Users/deepak/miniconda3/lib/python3.6/site-packages/ipywidgets/widgets/trait_types.py'>, 'ipywidgets.widgets.widget_layout': <module 'ipywidgets.widgets.widget_layout' from '/Users/deepak/miniconda3/lib/python3.6/site-packages/ipywidgets/widgets/widget_layout.py'>, 'ipywidgets.widgets.widget_style': <module 'ipywidgets.widgets.widget_style' from '/Users/deepak/miniconda3/lib/python3.6/site-packages/ipywidgets/widgets/widget_style.py'>, 'ipywidgets.widgets.valuewidget': <module 'ipywidgets.widgets.valuewidget' from '/Users/deepak/miniconda3/lib/python3.6/site-packages/ipywidgets/widgets/valuewidget.py'>, 'ipywidgets.widgets.widget_core': <module 'ipywidgets.widgets.widget_core' from '/Users/deepak/miniconda3/lib/python3.6/site-packages/ipywidgets/widgets/widget_core.py'>, 'ipywidgets.widgets.widget_bool': <module 'ipywidgets.widgets.widget_bool' from '/Users/deepak/miniconda3/lib/python3.6/site-packages/ipywidgets/widgets/widget_bool.py'>, 'ipywidgets.widgets.widget_description': <module 'ipywidgets.widgets.widget_description' from '/Users/deepak/miniconda3/lib/python3.6/site-packages/ipywidgets/widgets/widget_description.py'>, 'ipywidgets.widgets.widget_button': <module 'ipywidgets.widgets.widget_button' from '/Users/deepak/miniconda3/lib/python3.6/site-packages/ipywidgets/widgets/widget_button.py'>, 'ipywidgets.widgets.widget_box': <module 'ipywidgets.widgets.widget_box' from '/Users/deepak/miniconda3/lib/python3.6/site-packages/ipywidgets/widgets/widget_box.py'>, 'ipywidgets.widgets.docutils': <module 'ipywidgets.widgets.docutils' from '/Users/deepak/miniconda3/lib/python3.6/site-packages/ipywidgets/widgets/docutils.py'>, 'ipywidgets.widgets.widget_float': <module 'ipywidgets.widgets.widget_float' from '/Users/deepak/miniconda3/lib/python3.6/site-packages/ipywidgets/widgets/widget_float.py'>, 'ipywidgets.widgets.widget_int': <module 'ipywidgets.widgets.widget_int' from '/Users/deepak/miniconda3/lib/python3.6/site-packages/ipywidgets/widgets/widget_int.py'>, 'ipywidgets.widgets.widget_image': <module 'ipywidgets.widgets.widget_image' from '/Users/deepak/miniconda3/lib/python3.6/site-packages/ipywidgets/widgets/widget_image.py'>, 'ipywidgets.widgets.widget_color': <module 'ipywidgets.widgets.widget_color' from '/Users/deepak/miniconda3/lib/python3.6/site-packages/ipywidgets/widgets/widget_color.py'>, 'ipywidgets.widgets.widget_date': <module 'ipywidgets.widgets.widget_date' from '/Users/deepak/miniconda3/lib/python3.6/site-packages/ipywidgets/widgets/widget_date.py'>, 'ipywidgets.widgets.widget_output': <module 'ipywidgets.widgets.widget_output' from '/Users/deepak/miniconda3/lib/python3.6/site-packages/ipywidgets/widgets/widget_output.py'>, 'ipywidgets.widgets.widget_selection': <module 'ipywidgets.widgets.widget_selection' from '/Users/deepak/miniconda3/lib/python3.6/site-packages/ipywidgets/widgets/widget_selection.py'>, 'ipywidgets.widgets.widget_selectioncontainer': <module 'ipywidgets.widgets.widget_selectioncontainer' from '/Users/deepak/miniconda3/lib/python3.6/site-packages/ipywidgets/widgets/widget_selectioncontainer.py'>, 'ipywidgets.widgets.widget_string': <module 'ipywidgets.widgets.widget_string' from '/Users/deepak/miniconda3/lib/python3.6/site-packages/ipywidgets/widgets/widget_string.py'>, 'ipywidgets.widgets.widget_controller': <module 'ipywidgets.widgets.widget_controller' from '/Users/deepak/miniconda3/lib/python3.6/site-packages/ipywidgets/widgets/widget_controller.py'>, 'ipywidgets.widgets.interaction': <module 'ipywidgets.widgets.interaction' from '/Users/deepak/miniconda3/lib/python3.6/site-packages/ipywidgets/widgets/interaction.py'>, 'ipywidgets.widgets.widget_link': <module 'ipywidgets.widgets.widget_link' from '/Users/deepak/miniconda3/lib/python3.6/site-packages/ipywidgets/widgets/widget_link.py'>, 'networkx': <module 'networkx' from '/Users/deepak/miniconda3/lib/python3.6/site-packages/networkx/__init__.py'>, 'networkx.release': <module 'networkx.release' from '/Users/deepak/miniconda3/lib/python3.6/site-packages/networkx/release.py'>, 'version': <module 'version' from '/Users/deepak/miniconda3/lib/python3.6/site-packages/networkx/version.py'>, 'networkx.exception': <module 'networkx.exception' from '/Users/deepak/miniconda3/lib/python3.6/site-packages/networkx/exception.py'>, 'networkx.external': <module 'networkx.external' from '/Users/deepak/miniconda3/lib/python3.6/site-packages/networkx/external/__init__.py'>, 'networkx.utils': <module 'networkx.utils' from '/Users/deepak/miniconda3/lib/python3.6/site-packages/networkx/utils/__init__.py'>, 'networkx.utils.misc': <module 'networkx.utils.misc' from '/Users/deepak/miniconda3/lib/python3.6/site-packages/networkx/utils/misc.py'>, 'networkx.utils.decorators': <module 'networkx.utils.decorators' from '/Users/deepak/miniconda3/lib/python3.6/site-packages/networkx/utils/decorators.py'>, 'networkx.utils.random_sequence': <module 'networkx.utils.random_sequence' from '/Users/deepak/miniconda3/lib/python3.6/site-packages/networkx/utils/random_sequence.py'>, 'networkx.utils.union_find': <module 'networkx.utils.union_find' from '/Users/deepak/miniconda3/lib/python3.6/site-packages/networkx/utils/union_find.py'>, 'networkx.utils.rcm': <module 'networkx.utils.rcm' from '/Users/deepak/miniconda3/lib/python3.6/site-packages/networkx/utils/rcm.py'>, 'networkx.utils.heaps': <module 'networkx.utils.heaps' from '/Users/deepak/miniconda3/lib/python3.6/site-packages/networkx/utils/heaps.py'>, 'networkx.utils.contextmanagers': <module 'networkx.utils.contextmanagers' from '/Users/deepak/miniconda3/lib/python3.6/site-packages/networkx/utils/contextmanagers.py'>, 'networkx.classes': <module 'networkx.classes' from '/Users/deepak/miniconda3/lib/python3.6/site-packages/networkx/classes/__init__.py'>, 'networkx.classes.graph': <module 'networkx.classes.graph' from '/Users/deepak/miniconda3/lib/python3.6/site-packages/networkx/classes/graph.py'>, 'networkx.convert': <module 'networkx.convert' from '/Users/deepak/miniconda3/lib/python3.6/site-packages/networkx/convert.py'>, 'networkx.classes.digraph': <module 'networkx.classes.digraph' from '/Users/deepak/miniconda3/lib/python3.6/site-packages/networkx/classes/digraph.py'>, 'networkx.classes.multigraph': <module 'networkx.classes.multigraph' from '/Users/deepak/miniconda3/lib/python3.6/site-packages/networkx/classes/multigraph.py'>, 'networkx.classes.multidigraph': <module 'networkx.classes.multidigraph' from '/Users/deepak/miniconda3/lib/python3.6/site-packages/networkx/classes/multidigraph.py'>, 'networkx.classes.ordered': <module 'networkx.classes.ordered' from '/Users/deepak/miniconda3/lib/python3.6/site-packages/networkx/classes/ordered.py'>, 'networkx.classes.function': <module 'networkx.classes.function' from '/Users/deepak/miniconda3/lib/python3.6/site-packages/networkx/classes/function.py'>, 'networkx.convert_matrix': <module 'networkx.convert_matrix' from '/Users/deepak/miniconda3/lib/python3.6/site-packages/networkx/convert_matrix.py'>, 'networkx.relabel': <module 'networkx.relabel' from '/Users/deepak/miniconda3/lib/python3.6/site-packages/networkx/relabel.py'>, 'networkx.generators': <module 'networkx.generators' from '/Users/deepak/miniconda3/lib/python3.6/site-packages/networkx/generators/__init__.py'>, 'networkx.generators.classic': <module 'networkx.generators.classic' from '/Users/deepak/miniconda3/lib/python3.6/site-packages/networkx/generators/classic.py'>, 'networkx.algorithms': <module 'networkx.algorithms' from '/Users/deepak/miniconda3/lib/python3.6/site-packages/networkx/algorithms/__init__.py'>, 'networkx.algorithms.assortativity': <module 'networkx.algorithms.assortativity' from '/Users/deepak/miniconda3/lib/python3.6/site-packages/networkx/algorithms/assortativity/__init__.py'>, 'networkx.algorithms.assortativity.connectivity': <module 'networkx.algorithms.assortativity.connectivity' from '/Users/deepak/miniconda3/lib/python3.6/site-packages/networkx/algorithms/assortativity/connectivity.py'>, 'networkx.algorithms.assortativity.correlation': <module 'networkx.algorithms.assortativity.correlation' from '/Users/deepak/miniconda3/lib/python3.6/site-packages/networkx/algorithms/assortativity/correlation.py'>, 'networkx.algorithms.assortativity.mixing': <module 'networkx.algorithms.assortativity.mixing' from '/Users/deepak/miniconda3/lib/python3.6/site-packages/networkx/algorithms/assortativity/mixing.py'>, 'networkx.algorithms.assortativity.pairs': <module 'networkx.algorithms.assortativity.pairs' from '/Users/deepak/miniconda3/lib/python3.6/site-packages/networkx/algorithms/assortativity/pairs.py'>, 'networkx.algorithms.assortativity.neighbor_degree': <module 'networkx.algorithms.assortativity.neighbor_degree' from '/Users/deepak/miniconda3/lib/python3.6/site-packages/networkx/algorithms/assortativity/neighbor_degree.py'>, 'networkx.algorithms.block': <module 'networkx.algorithms.block' from '/Users/deepak/miniconda3/lib/python3.6/site-packages/networkx/algorithms/block.py'>, 'networkx.algorithms.boundary': <module 'networkx.algorithms.boundary' from '/Users/deepak/miniconda3/lib/python3.6/site-packages/networkx/algorithms/boundary.py'>, 'networkx.algorithms.centrality': <module 'networkx.algorithms.centrality' from '/Users/deepak/miniconda3/lib/python3.6/site-packages/networkx/algorithms/centrality/__init__.py'>, 'networkx.algorithms.centrality.betweenness': <module 'networkx.algorithms.centrality.betweenness' from '/Users/deepak/miniconda3/lib/python3.6/site-packages/networkx/algorithms/centrality/betweenness.py'>, 'networkx.algorithms.centrality.betweenness_subset': <module 'networkx.algorithms.centrality.betweenness_subset' from '/Users/deepak/miniconda3/lib/python3.6/site-packages/networkx/algorithms/centrality/betweenness_subset.py'>, 'networkx.algorithms.centrality.closeness': <module 'networkx.algorithms.centrality.closeness' from '/Users/deepak/miniconda3/lib/python3.6/site-packages/networkx/algorithms/centrality/closeness.py'>, 'networkx.algorithms.centrality.communicability_alg': <module 'networkx.algorithms.centrality.communicability_alg' from '/Users/deepak/miniconda3/lib/python3.6/site-packages/networkx/algorithms/centrality/communicability_alg.py'>, 'networkx.algorithms.centrality.current_flow_closeness': <module 'networkx.algorithms.centrality.current_flow_closeness' from '/Users/deepak/miniconda3/lib/python3.6/site-packages/networkx/algorithms/centrality/current_flow_closeness.py'>, 'networkx.algorithms.centrality.flow_matrix': <module 'networkx.algorithms.centrality.flow_matrix' from '/Users/deepak/miniconda3/lib/python3.6/site-packages/networkx/algorithms/centrality/flow_matrix.py'>, 'networkx.algorithms.centrality.current_flow_betweenness': <module 'networkx.algorithms.centrality.current_flow_betweenness' from '/Users/deepak/miniconda3/lib/python3.6/site-packages/networkx/algorithms/centrality/current_flow_betweenness.py'>, 'networkx.algorithms.centrality.current_flow_betweenness_subset': <module 'networkx.algorithms.centrality.current_flow_betweenness_subset' from '/Users/deepak/miniconda3/lib/python3.6/site-packages/networkx/algorithms/centrality/current_flow_betweenness_subset.py'>, 'networkx.algorithms.centrality.degree_alg': <module 'networkx.algorithms.centrality.degree_alg' from '/Users/deepak/miniconda3/lib/python3.6/site-packages/networkx/algorithms/centrality/degree_alg.py'>, 'networkx.algorithms.centrality.dispersion': <module 'networkx.algorithms.centrality.dispersion' from '/Users/deepak/miniconda3/lib/python3.6/site-packages/networkx/algorithms/centrality/dispersion.py'>, 'networkx.algorithms.centrality.eigenvector': <module 'networkx.algorithms.centrality.eigenvector' from '/Users/deepak/miniconda3/lib/python3.6/site-packages/networkx/algorithms/centrality/eigenvector.py'>, 'networkx.algorithms.centrality.harmonic': <module 'networkx.algorithms.centrality.harmonic' from '/Users/deepak/miniconda3/lib/python3.6/site-packages/networkx/algorithms/centrality/harmonic.py'>, 'networkx.algorithms.centrality.katz': <module 'networkx.algorithms.centrality.katz' from '/Users/deepak/miniconda3/lib/python3.6/site-packages/networkx/algorithms/centrality/katz.py'>, 'networkx.algorithms.centrality.load': <module 'networkx.algorithms.centrality.load' from '/Users/deepak/miniconda3/lib/python3.6/site-packages/networkx/algorithms/centrality/load.py'>, 'networkx.algorithms.cluster': <module 'networkx.algorithms.cluster' from '/Users/deepak/miniconda3/lib/python3.6/site-packages/networkx/algorithms/cluster.py'>, 'networkx.algorithms.clique': <module 'networkx.algorithms.clique' from '/Users/deepak/miniconda3/lib/python3.6/site-packages/networkx/algorithms/clique.py'>, 'networkx.algorithms.community': <module 'networkx.algorithms.community' from '/Users/deepak/miniconda3/lib/python3.6/site-packages/networkx/algorithms/community/__init__.py'>, 'networkx.algorithms.community.kclique': <module 'networkx.algorithms.community.kclique' from '/Users/deepak/miniconda3/lib/python3.6/site-packages/networkx/algorithms/community/kclique.py'>, 'networkx.algorithms.components': <module 'networkx.algorithms.components' from '/Users/deepak/miniconda3/lib/python3.6/site-packages/networkx/algorithms/components/__init__.py'>, 'networkx.algorithms.components.connected': <module 'networkx.algorithms.components.connected' from '/Users/deepak/miniconda3/lib/python3.6/site-packages/networkx/algorithms/components/connected.py'>, 'networkx.algorithms.components.strongly_connected': <module 'networkx.algorithms.components.strongly_connected' from '/Users/deepak/miniconda3/lib/python3.6/site-packages/networkx/algorithms/components/strongly_connected.py'>, 'networkx.algorithms.components.weakly_connected': <module 'networkx.algorithms.components.weakly_connected' from '/Users/deepak/miniconda3/lib/python3.6/site-packages/networkx/algorithms/components/weakly_connected.py'>, 'networkx.algorithms.components.attracting': <module 'networkx.algorithms.components.attracting' from '/Users/deepak/miniconda3/lib/python3.6/site-packages/networkx/algorithms/components/attracting.py'>, 'networkx.algorithms.components.biconnected': <module 'networkx.algorithms.components.biconnected' from '/Users/deepak/miniconda3/lib/python3.6/site-packages/networkx/algorithms/components/biconnected.py'>, 'networkx.algorithms.components.semiconnected': <module 'networkx.algorithms.components.semiconnected' from '/Users/deepak/miniconda3/lib/python3.6/site-packages/networkx/algorithms/components/semiconnected.py'>, 'networkx.algorithms.coloring': <module 'networkx.algorithms.coloring' from '/Users/deepak/miniconda3/lib/python3.6/site-packages/networkx/algorithms/coloring/__init__.py'>, 'networkx.algorithms.coloring.greedy_coloring': <module 'networkx.algorithms.coloring.greedy_coloring' from '/Users/deepak/miniconda3/lib/python3.6/site-packages/networkx/algorithms/coloring/greedy_coloring.py'>, 'networkx.algorithms.coloring.greedy_coloring_with_interchange': <module 'networkx.algorithms.coloring.greedy_coloring_with_interchange' from '/Users/deepak/miniconda3/lib/python3.6/site-packages/networkx/algorithms/coloring/greedy_coloring_with_interchange.py'>, 'networkx.algorithms.core': <module 'networkx.algorithms.core' from '/Users/deepak/miniconda3/lib/python3.6/site-packages/networkx/algorithms/core.py'>, 'networkx.algorithms.cycles': <module 'networkx.algorithms.cycles' from '/Users/deepak/miniconda3/lib/python3.6/site-packages/networkx/algorithms/cycles.py'>, 'networkx.algorithms.traversal': <module 'networkx.algorithms.traversal' from '/Users/deepak/miniconda3/lib/python3.6/site-packages/networkx/algorithms/traversal/__init__.py'>, 'networkx.algorithms.traversal.depth_first_search': <module 'networkx.algorithms.traversal.depth_first_search' from '/Users/deepak/miniconda3/lib/python3.6/site-packages/networkx/algorithms/traversal/depth_first_search.py'>, 'networkx.algorithms.traversal.breadth_first_search': <module 'networkx.algorithms.traversal.breadth_first_search' from '/Users/deepak/miniconda3/lib/python3.6/site-packages/networkx/algorithms/traversal/breadth_first_search.py'>, 'networkx.algorithms.traversal.edgedfs': <module 'networkx.algorithms.traversal.edgedfs' from '/Users/deepak/miniconda3/lib/python3.6/site-packages/networkx/algorithms/traversal/edgedfs.py'>, 'networkx.algorithms.dag': <module 'networkx.algorithms.dag' from '/Users/deepak/miniconda3/lib/python3.6/site-packages/networkx/algorithms/dag.py'>, 'fractions': <module 'fractions' from '/Users/deepak/miniconda3/lib/python3.6/fractions.py'>, 'networkx.algorithms.distance_measures': <module 'networkx.algorithms.distance_measures' from '/Users/deepak/miniconda3/lib/python3.6/site-packages/networkx/algorithms/distance_measures.py'>, 'networkx.algorithms.dominance': <module 'networkx.algorithms.dominance' from '/Users/deepak/miniconda3/lib/python3.6/site-packages/networkx/algorithms/dominance.py'>, 'networkx.algorithms.dominating': <module 'networkx.algorithms.dominating' from '/Users/deepak/miniconda3/lib/python3.6/site-packages/networkx/algorithms/dominating.py'>, 'networkx.algorithms.hierarchy': <module 'networkx.algorithms.hierarchy' from '/Users/deepak/miniconda3/lib/python3.6/site-packages/networkx/algorithms/hierarchy.py'>, 'networkx.algorithms.hybrid': <module 'networkx.algorithms.hybrid' from '/Users/deepak/miniconda3/lib/python3.6/site-packages/networkx/algorithms/hybrid.py'>, 'networkx.algorithms.matching': <module 'networkx.algorithms.matching' from '/Users/deepak/miniconda3/lib/python3.6/site-packages/networkx/algorithms/matching.py'>, 'networkx.algorithms.minors': <module 'networkx.algorithms.minors' from '/Users/deepak/miniconda3/lib/python3.6/site-packages/networkx/algorithms/minors.py'>, 'networkx.algorithms.mis': <module 'networkx.algorithms.mis' from '/Users/deepak/miniconda3/lib/python3.6/site-packages/networkx/algorithms/mis.py'>, 'networkx.algorithms.mst': <module 'networkx.algorithms.mst' from '/Users/deepak/miniconda3/lib/python3.6/site-packages/networkx/algorithms/mst.py'>, 'networkx.algorithms.link_analysis': <module 'networkx.algorithms.link_analysis' from '/Users/deepak/miniconda3/lib/python3.6/site-packages/networkx/algorithms/link_analysis/__init__.py'>, 'networkx.algorithms.link_analysis.pagerank_alg': <module 'networkx.algorithms.link_analysis.pagerank_alg' from '/Users/deepak/miniconda3/lib/python3.6/site-packages/networkx/algorithms/link_analysis/pagerank_alg.py'>, 'networkx.algorithms.link_analysis.hits_alg': <module 'networkx.algorithms.link_analysis.hits_alg' from '/Users/deepak/miniconda3/lib/python3.6/site-packages/networkx/algorithms/link_analysis/hits_alg.py'>, 'networkx.algorithms.link_prediction': <module 'networkx.algorithms.link_prediction' from '/Users/deepak/miniconda3/lib/python3.6/site-packages/networkx/algorithms/link_prediction.py'>, 'networkx.algorithms.operators': <module 'networkx.algorithms.operators' from '/Users/deepak/miniconda3/lib/python3.6/site-packages/networkx/algorithms/operators/__init__.py'>, 'networkx.algorithms.operators.all': <module 'networkx.algorithms.operators.all' from '/Users/deepak/miniconda3/lib/python3.6/site-packages/networkx/algorithms/operators/all.py'>, 'networkx.algorithms.operators.binary': <module 'networkx.algorithms.operators.binary' from '/Users/deepak/miniconda3/lib/python3.6/site-packages/networkx/algorithms/operators/binary.py'>, 'networkx.algorithms.operators.product': <module 'networkx.algorithms.operators.product' from '/Users/deepak/miniconda3/lib/python3.6/site-packages/networkx/algorithms/operators/product.py'>, 'networkx.algorithms.operators.unary': <module 'networkx.algorithms.operators.unary' from '/Users/deepak/miniconda3/lib/python3.6/site-packages/networkx/algorithms/operators/unary.py'>, 'networkx.algorithms.shortest_paths': <module 'networkx.algorithms.shortest_paths' from '/Users/deepak/miniconda3/lib/python3.6/site-packages/networkx/algorithms/shortest_paths/__init__.py'>, 'networkx.algorithms.shortest_paths.generic': <module 'networkx.algorithms.shortest_paths.generic' from '/Users/deepak/miniconda3/lib/python3.6/site-packages/networkx/algorithms/shortest_paths/generic.py'>, 'networkx.algorithms.shortest_paths.unweighted': <module 'networkx.algorithms.shortest_paths.unweighted' from '/Users/deepak/miniconda3/lib/python3.6/site-packages/networkx/algorithms/shortest_paths/unweighted.py'>, 'networkx.algorithms.shortest_paths.weighted': <module 'networkx.algorithms.shortest_paths.weighted' from '/Users/deepak/miniconda3/lib/python3.6/site-packages/networkx/algorithms/shortest_paths/weighted.py'>, 'networkx.algorithms.shortest_paths.astar': <module 'networkx.algorithms.shortest_paths.astar' from '/Users/deepak/miniconda3/lib/python3.6/site-packages/networkx/algorithms/shortest_paths/astar.py'>, 'networkx.algorithms.shortest_paths.dense': <module 'networkx.algorithms.shortest_paths.dense' from '/Users/deepak/miniconda3/lib/python3.6/site-packages/networkx/algorithms/shortest_paths/dense.py'>, 'networkx.algorithms.smetric': <module 'networkx.algorithms.smetric' from '/Users/deepak/miniconda3/lib/python3.6/site-packages/networkx/algorithms/smetric.py'>, 'networkx.algorithms.triads': <module 'networkx.algorithms.triads' from '/Users/deepak/miniconda3/lib/python3.6/site-packages/networkx/algorithms/triads.py'>, 'networkx.algorithms.isolate': <module 'networkx.algorithms.isolate' from '/Users/deepak/miniconda3/lib/python3.6/site-packages/networkx/algorithms/isolate.py'>, 'networkx.algorithms.euler': <module 'networkx.algorithms.euler' from '/Users/deepak/miniconda3/lib/python3.6/site-packages/networkx/algorithms/euler.py'>, 'networkx.algorithms.vitality': <module 'networkx.algorithms.vitality' from '/Users/deepak/miniconda3/lib/python3.6/site-packages/networkx/algorithms/vitality.py'>, 'networkx.algorithms.chordal': <module 'networkx.algorithms.chordal' from '/Users/deepak/miniconda3/lib/python3.6/site-packages/networkx/algorithms/chordal/__init__.py'>, 'networkx.algorithms.chordal.chordal_alg': <module 'networkx.algorithms.chordal.chordal_alg' from '/Users/deepak/miniconda3/lib/python3.6/site-packages/networkx/algorithms/chordal/chordal_alg.py'>, 'networkx.algorithms.richclub': <module 'networkx.algorithms.richclub' from '/Users/deepak/miniconda3/lib/python3.6/site-packages/networkx/algorithms/richclub.py'>, 'networkx.algorithms.distance_regular': <module 'networkx.algorithms.distance_regular' from '/Users/deepak/miniconda3/lib/python3.6/site-packages/networkx/algorithms/distance_regular.py'>, 'networkx.algorithms.swap': <module 'networkx.algorithms.swap' from '/Users/deepak/miniconda3/lib/python3.6/site-packages/networkx/algorithms/swap.py'>, 'networkx.algorithms.graphical': <module 'networkx.algorithms.graphical' from '/Users/deepak/miniconda3/lib/python3.6/site-packages/networkx/algorithms/graphical.py'>, 'networkx.algorithms.simple_paths': <module 'networkx.algorithms.simple_paths' from '/Users/deepak/miniconda3/lib/python3.6/site-packages/networkx/algorithms/simple_paths.py'>, 'networkx.algorithms.bipartite': <module 'networkx.algorithms.bipartite' from '/Users/deepak/miniconda3/lib/python3.6/site-packages/networkx/algorithms/bipartite/__init__.py'>, 'networkx.algorithms.bipartite.basic': <module 'networkx.algorithms.bipartite.basic' from '/Users/deepak/miniconda3/lib/python3.6/site-packages/networkx/algorithms/bipartite/basic.py'>, 'networkx.algorithms.bipartite.centrality': <module 'networkx.algorithms.bipartite.centrality' from '/Users/deepak/miniconda3/lib/python3.6/site-packages/networkx/algorithms/bipartite/centrality.py'>, 'networkx.algorithms.bipartite.cluster': <module 'networkx.algorithms.bipartite.cluster' from '/Users/deepak/miniconda3/lib/python3.6/site-packages/networkx/algorithms/bipartite/cluster.py'>, 'networkx.algorithms.bipartite.edgelist': <module 'networkx.algorithms.bipartite.edgelist' from '/Users/deepak/miniconda3/lib/python3.6/site-packages/networkx/algorithms/bipartite/edgelist.py'>, 'networkx.algorithms.bipartite.matching': <module 'networkx.algorithms.bipartite.matching' from '/Users/deepak/miniconda3/lib/python3.6/site-packages/networkx/algorithms/bipartite/matching.py'>, 'networkx.algorithms.bipartite.matrix': <module 'networkx.algorithms.bipartite.matrix' from '/Users/deepak/miniconda3/lib/python3.6/site-packages/networkx/algorithms/bipartite/matrix.py'>, 'networkx.algorithms.bipartite.projection': <module 'networkx.algorithms.bipartite.projection' from '/Users/deepak/miniconda3/lib/python3.6/site-packages/networkx/algorithms/bipartite/projection.py'>, 'networkx.algorithms.bipartite.redundancy': <module 'networkx.algorithms.bipartite.redundancy' from '/Users/deepak/miniconda3/lib/python3.6/site-packages/networkx/algorithms/bipartite/redundancy.py'>, 'networkx.algorithms.bipartite.spectral': <module 'networkx.algorithms.bipartite.spectral' from '/Users/deepak/miniconda3/lib/python3.6/site-packages/networkx/algorithms/bipartite/spectral.py'>, 'networkx.algorithms.bipartite.generators': <module 'networkx.algorithms.bipartite.generators' from '/Users/deepak/miniconda3/lib/python3.6/site-packages/networkx/algorithms/bipartite/generators.py'>, 'networkx.algorithms.connectivity': <module 'networkx.algorithms.connectivity' from '/Users/deepak/miniconda3/lib/python3.6/site-packages/networkx/algorithms/connectivity/__init__.py'>, 'networkx.algorithms.connectivity.connectivity': <module 'networkx.algorithms.connectivity.connectivity' from '/Users/deepak/miniconda3/lib/python3.6/site-packages/networkx/algorithms/connectivity/connectivity.py'>, 'networkx.algorithms.flow': <module 'networkx.algorithms.flow' from '/Users/deepak/miniconda3/lib/python3.6/site-packages/networkx/algorithms/flow/__init__.py'>, 'networkx.algorithms.flow.maxflow': <module 'networkx.algorithms.flow.maxflow' from '/Users/deepak/miniconda3/lib/python3.6/site-packages/networkx/algorithms/flow/maxflow.py'>, 'networkx.algorithms.flow.edmondskarp': <module 'networkx.algorithms.flow.edmondskarp' from '/Users/deepak/miniconda3/lib/python3.6/site-packages/networkx/algorithms/flow/edmondskarp.py'>, 'networkx.algorithms.flow.utils': <module 'networkx.algorithms.flow.utils' from '/Users/deepak/miniconda3/lib/python3.6/site-packages/networkx/algorithms/flow/utils.py'>, 'networkx.algorithms.flow.preflowpush': <module 'networkx.algorithms.flow.preflowpush' from '/Users/deepak/miniconda3/lib/python3.6/site-packages/networkx/algorithms/flow/preflowpush.py'>, 'networkx.algorithms.flow.shortestaugmentingpath': <module 'networkx.algorithms.flow.shortestaugmentingpath' from '/Users/deepak/miniconda3/lib/python3.6/site-packages/networkx/algorithms/flow/shortestaugmentingpath.py'>, 'networkx.algorithms.flow.mincost': <module 'networkx.algorithms.flow.mincost' from '/Users/deepak/miniconda3/lib/python3.6/site-packages/networkx/algorithms/flow/mincost.py'>, 'networkx.algorithms.flow.capacityscaling': <module 'networkx.algorithms.flow.capacityscaling' from '/Users/deepak/miniconda3/lib/python3.6/site-packages/networkx/algorithms/flow/capacityscaling.py'>, 'networkx.algorithms.flow.networksimplex': <module 'networkx.algorithms.flow.networksimplex' from '/Users/deepak/miniconda3/lib/python3.6/site-packages/networkx/algorithms/flow/networksimplex.py'>, 'networkx.algorithms.connectivity.utils': <module 'networkx.algorithms.connectivity.utils' from '/Users/deepak/miniconda3/lib/python3.6/site-packages/networkx/algorithms/connectivity/utils.py'>, 'networkx.algorithms.connectivity.cuts': <module 'networkx.algorithms.connectivity.cuts' from '/Users/deepak/miniconda3/lib/python3.6/site-packages/networkx/algorithms/connectivity/cuts.py'>, 'networkx.algorithms.connectivity.kcomponents': <module 'networkx.algorithms.connectivity.kcomponents' from '/Users/deepak/miniconda3/lib/python3.6/site-packages/networkx/algorithms/connectivity/kcomponents.py'>, 'networkx.algorithms.connectivity.kcutsets': <module 'networkx.algorithms.connectivity.kcutsets' from '/Users/deepak/miniconda3/lib/python3.6/site-packages/networkx/algorithms/connectivity/kcutsets.py'>, 'networkx.algorithms.connectivity.stoerwagner': <module 'networkx.algorithms.connectivity.stoerwagner' from '/Users/deepak/miniconda3/lib/python3.6/site-packages/networkx/algorithms/connectivity/stoerwagner.py'>, 'networkx.algorithms.isomorphism': <module 'networkx.algorithms.isomorphism' from '/Users/deepak/miniconda3/lib/python3.6/site-packages/networkx/algorithms/isomorphism/__init__.py'>, 'networkx.algorithms.isomorphism.isomorph': <module 'networkx.algorithms.isomorphism.isomorph' from '/Users/deepak/miniconda3/lib/python3.6/site-packages/networkx/algorithms/isomorphism/isomorph.py'>, 'networkx.algorithms.isomorphism.vf2userfunc': <module 'networkx.algorithms.isomorphism.vf2userfunc' from '/Users/deepak/miniconda3/lib/python3.6/site-packages/networkx/algorithms/isomorphism/vf2userfunc.py'>, 'networkx.algorithms.isomorphism.isomorphvf2': <module 'networkx.algorithms.isomorphism.isomorphvf2' from '/Users/deepak/miniconda3/lib/python3.6/site-packages/networkx/algorithms/isomorphism/isomorphvf2.py'>, 'networkx.algorithms.isomorphism.matchhelpers': <module 'networkx.algorithms.isomorphism.matchhelpers' from '/Users/deepak/miniconda3/lib/python3.6/site-packages/networkx/algorithms/isomorphism/matchhelpers.py'>, 'networkx.algorithms.tree': <module 'networkx.algorithms.tree' from '/Users/deepak/miniconda3/lib/python3.6/site-packages/networkx/algorithms/tree/__init__.py'>, 'networkx.algorithms.tree.recognition': <module 'networkx.algorithms.tree.recognition' from '/Users/deepak/miniconda3/lib/python3.6/site-packages/networkx/algorithms/tree/recognition.py'>, 'networkx.algorithms.tree.branchings': <module 'networkx.algorithms.tree.branchings' from '/Users/deepak/miniconda3/lib/python3.6/site-packages/networkx/algorithms/tree/branchings.py'>, 'networkx.generators.degree_seq': <module 'networkx.generators.degree_seq' from '/Users/deepak/miniconda3/lib/python3.6/site-packages/networkx/generators/degree_seq.py'>, 'networkx.generators.directed': <module 'networkx.generators.directed' from '/Users/deepak/miniconda3/lib/python3.6/site-packages/networkx/generators/directed.py'>, 'networkx.generators.ego': <module 'networkx.generators.ego' from '/Users/deepak/miniconda3/lib/python3.6/site-packages/networkx/generators/ego.py'>, 'networkx.generators.expanders': <module 'networkx.generators.expanders' from '/Users/deepak/miniconda3/lib/python3.6/site-packages/networkx/generators/expanders.py'>, 'networkx.generators.geometric': <module 'networkx.generators.geometric' from '/Users/deepak/miniconda3/lib/python3.6/site-packages/networkx/generators/geometric.py'>, 'networkx.generators.line': <module 'networkx.generators.line' from '/Users/deepak/miniconda3/lib/python3.6/site-packages/networkx/generators/line.py'>, 'networkx.generators.random_graphs': <module 'networkx.generators.random_graphs' from '/Users/deepak/miniconda3/lib/python3.6/site-packages/networkx/generators/random_graphs.py'>, 'networkx.generators.small': <module 'networkx.generators.small' from '/Users/deepak/miniconda3/lib/python3.6/site-packages/networkx/generators/small.py'>, 'networkx.generators.stochastic': <module 'networkx.generators.stochastic' from '/Users/deepak/miniconda3/lib/python3.6/site-packages/networkx/generators/stochastic.py'>, 'networkx.generators.social': <module 'networkx.generators.social' from '/Users/deepak/miniconda3/lib/python3.6/site-packages/networkx/generators/social.py'>, 'networkx.generators.threshold': <module 'networkx.generators.threshold' from '/Users/deepak/miniconda3/lib/python3.6/site-packages/networkx/generators/threshold.py'>, 'networkx.generators.intersection': <module 'networkx.generators.intersection' from '/Users/deepak/miniconda3/lib/python3.6/site-packages/networkx/generators/intersection.py'>, 'networkx.generators.random_clustered': <module 'networkx.generators.random_clustered' from '/Users/deepak/miniconda3/lib/python3.6/site-packages/networkx/generators/random_clustered.py'>, 'networkx.generators.community': <module 'networkx.generators.community' from '/Users/deepak/miniconda3/lib/python3.6/site-packages/networkx/generators/community.py'>, 'networkx.generators.nonisomorphic_trees': <module 'networkx.generators.nonisomorphic_trees' from '/Users/deepak/miniconda3/lib/python3.6/site-packages/networkx/generators/nonisomorphic_trees.py'>, 'networkx.readwrite': <module 'networkx.readwrite' from '/Users/deepak/miniconda3/lib/python3.6/site-packages/networkx/readwrite/__init__.py'>, 'networkx.readwrite.adjlist': <module 'networkx.readwrite.adjlist' from '/Users/deepak/miniconda3/lib/python3.6/site-packages/networkx/readwrite/adjlist.py'>, 'networkx.readwrite.multiline_adjlist': <module 'networkx.readwrite.multiline_adjlist' from '/Users/deepak/miniconda3/lib/python3.6/site-packages/networkx/readwrite/multiline_adjlist.py'>, 'networkx.readwrite.edgelist': <module 'networkx.readwrite.edgelist' from '/Users/deepak/miniconda3/lib/python3.6/site-packages/networkx/readwrite/edgelist.py'>, 'networkx.readwrite.gpickle': <module 'networkx.readwrite.gpickle' from '/Users/deepak/miniconda3/lib/python3.6/site-packages/networkx/readwrite/gpickle.py'>, 'networkx.readwrite.pajek': <module 'networkx.readwrite.pajek' from '/Users/deepak/miniconda3/lib/python3.6/site-packages/networkx/readwrite/pajek.py'>, 'networkx.readwrite.leda': <module 'networkx.readwrite.leda' from '/Users/deepak/miniconda3/lib/python3.6/site-packages/networkx/readwrite/leda.py'>, 'networkx.readwrite.sparse6': <module 'networkx.readwrite.sparse6' from '/Users/deepak/miniconda3/lib/python3.6/site-packages/networkx/readwrite/sparse6.py'>, 'networkx.readwrite.graph6': <module 'networkx.readwrite.graph6' from '/Users/deepak/miniconda3/lib/python3.6/site-packages/networkx/readwrite/graph6.py'>, 'networkx.readwrite.nx_yaml': <module 'networkx.readwrite.nx_yaml' from '/Users/deepak/miniconda3/lib/python3.6/site-packages/networkx/readwrite/nx_yaml.py'>, 'networkx.readwrite.gml': <module 'networkx.readwrite.gml' from '/Users/deepak/miniconda3/lib/python3.6/site-packages/networkx/readwrite/gml.py'>, 'lib2to3': <module 'lib2to3' from '/Users/deepak/miniconda3/lib/python3.6/lib2to3/__init__.py'>, 'lib2to3.pgen2': <module 'lib2to3.pgen2' from '/Users/deepak/miniconda3/lib/python3.6/lib2to3/pgen2/__init__.py'>, 'lib2to3.pgen2.parse': <module 'lib2to3.pgen2.parse' from '/Users/deepak/miniconda3/lib/python3.6/lib2to3/pgen2/parse.py'>, 'lib2to3.pgen2.token': <module 'lib2to3.pgen2.token' from '/Users/deepak/miniconda3/lib/python3.6/lib2to3/pgen2/token.py'>, 'lib2to3.pgen2.tokenize': <module 'lib2to3.pgen2.tokenize' from '/Users/deepak/miniconda3/lib/python3.6/lib2to3/pgen2/tokenize.py'>, 'lib2to3.refactor': <module 'lib2to3.refactor' from '/Users/deepak/miniconda3/lib/python3.6/lib2to3/refactor.py'>, 'lib2to3.pgen2.driver': <module 'lib2to3.pgen2.driver' from '/Users/deepak/miniconda3/lib/python3.6/lib2to3/pgen2/driver.py'>, 'lib2to3.pgen2.grammar': <module 'lib2to3.pgen2.grammar' from '/Users/deepak/miniconda3/lib/python3.6/lib2to3/pgen2/grammar.py'>, 'lib2to3.pgen2.pgen': <module 'lib2to3.pgen2.pgen' from '/Users/deepak/miniconda3/lib/python3.6/lib2to3/pgen2/pgen.py'>, 'lib2to3.fixer_util': <module 'lib2to3.fixer_util' from '/Users/deepak/miniconda3/lib/python3.6/lib2to3/fixer_util.py'>, 'lib2to3.pytree': <module 'lib2to3.pytree' from '/Users/deepak/miniconda3/lib/python3.6/lib2to3/pytree.py'>, 'lib2to3.pygram': <module 'lib2to3.pygram' from '/Users/deepak/miniconda3/lib/python3.6/lib2to3/pygram.py'>, 'lib2to3.patcomp': <module 'lib2to3.patcomp' from '/Users/deepak/miniconda3/lib/python3.6/lib2to3/patcomp.py'>, 'lib2to3.pgen2.literals': <module 'lib2to3.pgen2.literals' from '/Users/deepak/miniconda3/lib/python3.6/lib2to3/pgen2/literals.py'>, 'lib2to3.btm_matcher': <module 'lib2to3.btm_matcher' from '/Users/deepak/miniconda3/lib/python3.6/lib2to3/btm_matcher.py'>, 'lib2to3.btm_utils': <module 'lib2to3.btm_utils' from '/Users/deepak/miniconda3/lib/python3.6/lib2to3/btm_utils.py'>, 'networkx.readwrite.graphml': <module 'networkx.readwrite.graphml' from '/Users/deepak/miniconda3/lib/python3.6/site-packages/networkx/readwrite/graphml.py'>, 'xml.etree': <module 'xml.etree' from '/Users/deepak/miniconda3/lib/python3.6/xml/etree/__init__.py'>, 'xml.etree.cElementTree': <module 'xml.etree.cElementTree' from '/Users/deepak/miniconda3/lib/python3.6/xml/etree/cElementTree.py'>, 'xml.etree.ElementTree': <module 'xml.etree.ElementTree' from '/Users/deepak/miniconda3/lib/python3.6/xml/etree/ElementTree.py'>, 'xml.etree.ElementPath': <module 'xml.etree.ElementPath' from '/Users/deepak/miniconda3/lib/python3.6/xml/etree/ElementPath.py'>, '_elementtree': <module '_elementtree' from '/Users/deepak/miniconda3/lib/python3.6/lib-dynload/_elementtree.cpython-36m-darwin.so'>, 'networkx.readwrite.gexf': <module 'networkx.readwrite.gexf' from '/Users/deepak/miniconda3/lib/python3.6/site-packages/networkx/readwrite/gexf.py'>, 'networkx.readwrite.nx_shp': <module 'networkx.readwrite.nx_shp' from '/Users/deepak/miniconda3/lib/python3.6/site-packages/networkx/readwrite/nx_shp.py'>, 'networkx.linalg': <module 'networkx.linalg' from '/Users/deepak/miniconda3/lib/python3.6/site-packages/networkx/linalg/__init__.py'>, 'networkx.linalg.attrmatrix': <module 'networkx.linalg.attrmatrix' from '/Users/deepak/miniconda3/lib/python3.6/site-packages/networkx/linalg/attrmatrix.py'>, 'networkx.linalg.spectrum': <module 'networkx.linalg.spectrum' from '/Users/deepak/miniconda3/lib/python3.6/site-packages/networkx/linalg/spectrum.py'>, 'networkx.linalg.graphmatrix': <module 'networkx.linalg.graphmatrix' from '/Users/deepak/miniconda3/lib/python3.6/site-packages/networkx/linalg/graphmatrix.py'>, 'networkx.linalg.laplacianmatrix': <module 'networkx.linalg.laplacianmatrix' from '/Users/deepak/miniconda3/lib/python3.6/site-packages/networkx/linalg/laplacianmatrix.py'>, 'networkx.linalg.algebraicconnectivity': <module 'networkx.linalg.algebraicconnectivity' from '/Users/deepak/miniconda3/lib/python3.6/site-packages/networkx/linalg/algebraicconnectivity.py'>, 'numpy': <module 'numpy' from '/Users/deepak/miniconda3/lib/python3.6/site-packages/numpy/__init__.py'>, 'numpy._globals': <module 'numpy._globals' from '/Users/deepak/miniconda3/lib/python3.6/site-packages/numpy/_globals.py'>, 'numpy.__config__': <module 'numpy.__config__' from '/Users/deepak/miniconda3/lib/python3.6/site-packages/numpy/__config__.py'>, 'numpy.version': <module 'numpy.version' from '/Users/deepak/miniconda3/lib/python3.6/site-packages/numpy/version.py'>, 'numpy._import_tools': <module 'numpy._import_tools' from '/Users/deepak/miniconda3/lib/python3.6/site-packages/numpy/_import_tools.py'>, 'numpy.add_newdocs': <module 'numpy.add_newdocs' from '/Users/deepak/miniconda3/lib/python3.6/site-packages/numpy/add_newdocs.py'>, 'numpy.lib': <module 'numpy.lib' from '/Users/deepak/miniconda3/lib/python3.6/site-packages/numpy/lib/__init__.py'>, 'numpy.lib.info': <module 'numpy.lib.info' from '/Users/deepak/miniconda3/lib/python3.6/site-packages/numpy/lib/info.py'>, 'numpy.lib.type_check': <module 'numpy.lib.type_check' from '/Users/deepak/miniconda3/lib/python3.6/site-packages/numpy/lib/type_check.py'>, 'numpy.core': <module 'numpy.core' from '/Users/deepak/miniconda3/lib/python3.6/site-packages/numpy/core/__init__.py'>, 'numpy.core.info': <module 'numpy.core.info' from '/Users/deepak/miniconda3/lib/python3.6/site-packages/numpy/core/info.py'>, 'numpy.core.multiarray': <module 'numpy.core.multiarray' from '/Users/deepak/miniconda3/lib/python3.6/site-packages/numpy/core/multiarray.cpython-36m-darwin.so'>, 'numpy.core.umath': <module 'numpy.core.umath' from '/Users/deepak/miniconda3/lib/python3.6/site-packages/numpy/core/umath.cpython-36m-darwin.so'>, 'numpy.core._internal': <module 'numpy.core._internal' from '/Users/deepak/miniconda3/lib/python3.6/site-packages/numpy/core/_internal.py'>, 'numpy.compat': <module 'numpy.compat' from '/Users/deepak/miniconda3/lib/python3.6/site-packages/numpy/compat/__init__.py'>, 'numpy.compat._inspect': <module 'numpy.compat._inspect' from '/Users/deepak/miniconda3/lib/python3.6/site-packages/numpy/compat/_inspect.py'>, 'numpy.compat.py3k': <module 'numpy.compat.py3k' from '/Users/deepak/miniconda3/lib/python3.6/site-packages/numpy/compat/py3k.py'>, 'numpy.core.numerictypes': <module 'numpy.core.numerictypes' from '/Users/deepak/miniconda3/lib/python3.6/site-packages/numpy/core/numerictypes.py'>, 'numpy.core.numeric': <module 'numpy.core.numeric' from '/Users/deepak/miniconda3/lib/python3.6/site-packages/numpy/core/numeric.py'>, 'numpy.core.arrayprint': <module 'numpy.core.arrayprint' from '/Users/deepak/miniconda3/lib/python3.6/site-packages/numpy/core/arrayprint.py'>, 'numpy.core.fromnumeric': <module 'numpy.core.fromnumeric' from '/Users/deepak/miniconda3/lib/python3.6/site-packages/numpy/core/fromnumeric.py'>, 'numpy.core._methods': <module 'numpy.core._methods' from '/Users/deepak/miniconda3/lib/python3.6/site-packages/numpy/core/_methods.py'>, 'numpy.core.defchararray': <module 'numpy.core.defchararray' from '/Users/deepak/miniconda3/lib/python3.6/site-packages/numpy/core/defchararray.py'>, 'numpy.core.records': <module 'numpy.core.records' from '/Users/deepak/miniconda3/lib/python3.6/site-packages/numpy/core/records.py'>, 'numpy.core.memmap': <module 'numpy.core.memmap' from '/Users/deepak/miniconda3/lib/python3.6/site-packages/numpy/core/memmap.py'>, 'numpy.core.function_base': <module 'numpy.core.function_base' from '/Users/deepak/miniconda3/lib/python3.6/site-packages/numpy/core/function_base.py'>, 'numpy.core.machar': <module 'numpy.core.machar' from '/Users/deepak/miniconda3/lib/python3.6/site-packages/numpy/core/machar.py'>, 'numpy.core.getlimits': <module 'numpy.core.getlimits' from '/Users/deepak/miniconda3/lib/python3.6/site-packages/numpy/core/getlimits.py'>, 'numpy.core.shape_base': <module 'numpy.core.shape_base' from '/Users/deepak/miniconda3/lib/python3.6/site-packages/numpy/core/shape_base.py'>, 'numpy.core.einsumfunc': <module 'numpy.core.einsumfunc' from '/Users/deepak/miniconda3/lib/python3.6/site-packages/numpy/core/einsumfunc.py'>, 'numpy.testing': <module 'numpy.testing' from '/Users/deepak/miniconda3/lib/python3.6/site-packages/numpy/testing/__init__.py'>, 'unittest': <module 'unittest' from '/Users/deepak/miniconda3/lib/python3.6/unittest/__init__.py'>, 'unittest.result': <module 'unittest.result' from '/Users/deepak/miniconda3/lib/python3.6/unittest/result.py'>, 'unittest.util': <module 'unittest.util' from '/Users/deepak/miniconda3/lib/python3.6/unittest/util.py'>, 'unittest.case': <module 'unittest.case' from '/Users/deepak/miniconda3/lib/python3.6/unittest/case.py'>, 'unittest.suite': <module 'unittest.suite' from '/Users/deepak/miniconda3/lib/python3.6/unittest/suite.py'>, 'unittest.loader': <module 'unittest.loader' from '/Users/deepak/miniconda3/lib/python3.6/unittest/loader.py'>, 'unittest.main': <module 'unittest.main' from '/Users/deepak/miniconda3/lib/python3.6/unittest/main.py'>, 'unittest.runner': <module 'unittest.runner' from '/Users/deepak/miniconda3/lib/python3.6/unittest/runner.py'>, 'unittest.signals': <module 'unittest.signals' from '/Users/deepak/miniconda3/lib/python3.6/unittest/signals.py'>, 'numpy.testing.decorators': <module 'numpy.testing.decorators' from '/Users/deepak/miniconda3/lib/python3.6/site-packages/numpy/testing/decorators.py'>, 'numpy.testing.utils': <module 'numpy.testing.utils' from '/Users/deepak/miniconda3/lib/python3.6/site-packages/numpy/testing/utils.py'>, 'numpy.lib.utils': <module 'numpy.lib.utils' from '/Users/deepak/miniconda3/lib/python3.6/site-packages/numpy/lib/utils.py'>, 'numpy.testing.nosetester': <module 'numpy.testing.nosetester' from '/Users/deepak/miniconda3/lib/python3.6/site-packages/numpy/testing/nosetester.py'>, 'numpy.lib.ufunclike': <module 'numpy.lib.ufunclike' from '/Users/deepak/miniconda3/lib/python3.6/site-packages/numpy/lib/ufunclike.py'>, 'numpy.lib.index_tricks': <module 'numpy.lib.index_tricks' from '/Users/deepak/miniconda3/lib/python3.6/site-packages/numpy/lib/index_tricks.py'>, 'numpy.lib.function_base': <module 'numpy.lib.function_base' from '/Users/deepak/miniconda3/lib/python3.6/site-packages/numpy/lib/function_base.py'>, 'numpy.lib.twodim_base': <module 'numpy.lib.twodim_base' from '/Users/deepak/miniconda3/lib/python3.6/site-packages/numpy/lib/twodim_base.py'>, 'numpy.matrixlib': <module 'numpy.matrixlib' from '/Users/deepak/miniconda3/lib/python3.6/site-packages/numpy/matrixlib/__init__.py'>, 'numpy.matrixlib.defmatrix': <module 'numpy.matrixlib.defmatrix' from '/Users/deepak/miniconda3/lib/python3.6/site-packages/numpy/matrixlib/defmatrix.py'>, 'numpy.lib.stride_tricks': <module 'numpy.lib.stride_tricks' from '/Users/deepak/miniconda3/lib/python3.6/site-packages/numpy/lib/stride_tricks.py'>, 'numpy.lib.mixins': <module 'numpy.lib.mixins' from '/Users/deepak/miniconda3/lib/python3.6/site-packages/numpy/lib/mixins.py'>, 'numpy.lib.nanfunctions': <module 'numpy.lib.nanfunctions' from '/Users/deepak/miniconda3/lib/python3.6/site-packages/numpy/lib/nanfunctions.py'>, 'numpy.lib.shape_base': <module 'numpy.lib.shape_base' from '/Users/deepak/miniconda3/lib/python3.6/site-packages/numpy/lib/shape_base.py'>, 'numpy.lib.scimath': <module 'numpy.lib.scimath' from '/Users/deepak/miniconda3/lib/python3.6/site-packages/numpy/lib/scimath.py'>, 'numpy.lib.polynomial': <module 'numpy.lib.polynomial' from '/Users/deepak/miniconda3/lib/python3.6/site-packages/numpy/lib/polynomial.py'>, 'numpy.linalg': <module 'numpy.linalg' from '/Users/deepak/miniconda3/lib/python3.6/site-packages/numpy/linalg/__init__.py'>, 'numpy.linalg.info': <module 'numpy.linalg.info' from '/Users/deepak/miniconda3/lib/python3.6/site-packages/numpy/linalg/info.py'>, 'numpy.linalg.linalg': <module 'numpy.linalg.linalg' from '/Users/deepak/miniconda3/lib/python3.6/site-packages/numpy/linalg/linalg.py'>, 'numpy.linalg.lapack_lite': <module 'numpy.linalg.lapack_lite' from '/Users/deepak/miniconda3/lib/python3.6/site-packages/numpy/linalg/lapack_lite.cpython-36m-darwin.so'>, 'numpy.linalg._umath_linalg': <module 'numpy.linalg._umath_linalg' from '/Users/deepak/miniconda3/lib/python3.6/site-packages/numpy/linalg/_umath_linalg.cpython-36m-darwin.so'>, 'numpy.lib.arraysetops': <module 'numpy.lib.arraysetops' from '/Users/deepak/miniconda3/lib/python3.6/site-packages/numpy/lib/arraysetops.py'>, 'numpy.lib.npyio': <module 'numpy.lib.npyio' from '/Users/deepak/miniconda3/lib/python3.6/site-packages/numpy/lib/npyio.py'>, 'numpy.lib.format': <module 'numpy.lib.format' from '/Users/deepak/miniconda3/lib/python3.6/site-packages/numpy/lib/format.py'>, 'numpy.lib._datasource': <module 'numpy.lib._datasource' from '/Users/deepak/miniconda3/lib/python3.6/site-packages/numpy/lib/_datasource.py'>, 'numpy.lib._iotools': <module 'numpy.lib._iotools' from '/Users/deepak/miniconda3/lib/python3.6/site-packages/numpy/lib/_iotools.py'>, 'numpy.lib.financial': <module 'numpy.lib.financial' from '/Users/deepak/miniconda3/lib/python3.6/site-packages/numpy/lib/financial.py'>, 'numpy.lib.arrayterator': <module 'numpy.lib.arrayterator' from '/Users/deepak/miniconda3/lib/python3.6/site-packages/numpy/lib/arrayterator.py'>, 'numpy.lib.arraypad': <module 'numpy.lib.arraypad' from '/Users/deepak/miniconda3/lib/python3.6/site-packages/numpy/lib/arraypad.py'>, 'numpy.lib._version': <module 'numpy.lib._version' from '/Users/deepak/miniconda3/lib/python3.6/site-packages/numpy/lib/_version.py'>, 'numpy._distributor_init': <module 'numpy._distributor_init' from '/Users/deepak/miniconda3/lib/python3.6/site-packages/numpy/_distributor_init.py'>, 'numpy.fft': <module 'numpy.fft' from '/Users/deepak/miniconda3/lib/python3.6/site-packages/numpy/fft/__init__.py'>, 'numpy.fft.info': <module 'numpy.fft.info' from '/Users/deepak/miniconda3/lib/python3.6/site-packages/numpy/fft/info.py'>, 'numpy.fft.fftpack': <module 'numpy.fft.fftpack' from '/Users/deepak/miniconda3/lib/python3.6/site-packages/numpy/fft/fftpack.py'>, 'numpy.fft.fftpack_lite': <module 'numpy.fft.fftpack_lite' from '/Users/deepak/miniconda3/lib/python3.6/site-packages/numpy/fft/fftpack_lite.cpython-36m-darwin.so'>, 'numpy.fft.helper': <module 'numpy.fft.helper' from '/Users/deepak/miniconda3/lib/python3.6/site-packages/numpy/fft/helper.py'>, 'numpy.polynomial': <module 'numpy.polynomial' from '/Users/deepak/miniconda3/lib/python3.6/site-packages/numpy/polynomial/__init__.py'>, 'numpy.polynomial.polynomial': <module 'numpy.polynomial.polynomial' from '/Users/deepak/miniconda3/lib/python3.6/site-packages/numpy/polynomial/polynomial.py'>, 'numpy.polynomial.polyutils': <module 'numpy.polynomial.polyutils' from '/Users/deepak/miniconda3/lib/python3.6/site-packages/numpy/polynomial/polyutils.py'>, 'numpy.polynomial._polybase': <module 'numpy.polynomial._polybase' from '/Users/deepak/miniconda3/lib/python3.6/site-packages/numpy/polynomial/_polybase.py'>, 'numpy.polynomial.chebyshev': <module 'numpy.polynomial.chebyshev' from '/Users/deepak/miniconda3/lib/python3.6/site-packages/numpy/polynomial/chebyshev.py'>, 'numpy.polynomial.legendre': <module 'numpy.polynomial.legendre' from '/Users/deepak/miniconda3/lib/python3.6/site-packages/numpy/polynomial/legendre.py'>, 'numpy.polynomial.hermite': <module 'numpy.polynomial.hermite' from '/Users/deepak/miniconda3/lib/python3.6/site-packages/numpy/polynomial/hermite.py'>, 'numpy.polynomial.hermite_e': <module 'numpy.polynomial.hermite_e' from '/Users/deepak/miniconda3/lib/python3.6/site-packages/numpy/polynomial/hermite_e.py'>, 'numpy.polynomial.laguerre': <module 'numpy.polynomial.laguerre' from '/Users/deepak/miniconda3/lib/python3.6/site-packages/numpy/polynomial/laguerre.py'>, 'numpy.random': <module 'numpy.random' from '/Users/deepak/miniconda3/lib/python3.6/site-packages/numpy/random/__init__.py'>, 'numpy.random.info': <module 'numpy.random.info' from '/Users/deepak/miniconda3/lib/python3.6/site-packages/numpy/random/info.py'>, 'cython_runtime': <module 'cython_runtime'>, 'mtrand': <module 'numpy.random.mtrand' from '/Users/deepak/miniconda3/lib/python3.6/site-packages/numpy/random/mtrand.cpython-36m-darwin.so'>, 'numpy.random.mtrand': <module 'numpy.random.mtrand' from '/Users/deepak/miniconda3/lib/python3.6/site-packages/numpy/random/mtrand.cpython-36m-darwin.so'>, 'numpy.ctypeslib': <module 'numpy.ctypeslib' from '/Users/deepak/miniconda3/lib/python3.6/site-packages/numpy/ctypeslib.py'>, 'numpy.ma': <module 'numpy.ma' from '/Users/deepak/miniconda3/lib/python3.6/site-packages/numpy/ma/__init__.py'>, 'numpy.ma.core': <module 'numpy.ma.core' from '/Users/deepak/miniconda3/lib/python3.6/site-packages/numpy/ma/core.py'>, 'numpy.ma.extras': <module 'numpy.ma.extras' from '/Users/deepak/miniconda3/lib/python3.6/site-packages/numpy/ma/extras.py'>, 'scipy': <module 'scipy' from '/Users/deepak/miniconda3/lib/python3.6/site-packages/scipy/__init__.py'>, 'scipy.__config__': <module 'scipy.__config__' from '/Users/deepak/miniconda3/lib/python3.6/site-packages/scipy/__config__.py'>, 'scipy.version': <module 'scipy.version' from '/Users/deepak/miniconda3/lib/python3.6/site-packages/scipy/version.py'>, 'scipy._lib': <module 'scipy._lib' from '/Users/deepak/miniconda3/lib/python3.6/site-packages/scipy/_lib/__init__.py'>, 'scipy._lib._version': <module 'scipy._lib._version' from '/Users/deepak/miniconda3/lib/python3.6/site-packages/scipy/_lib/_version.py'>, 'scipy._lib.six': <module 'scipy._lib.six' from '/Users/deepak/miniconda3/lib/python3.6/site-packages/scipy/_lib/six.py'>, 'scipy._lib._ccallback': <module 'scipy._lib._ccallback' from '/Users/deepak/miniconda3/lib/python3.6/site-packages/scipy/_lib/_ccallback.py'>, 'scipy._lib._ccallback_c': <module 'scipy._lib._ccallback_c' from '/Users/deepak/miniconda3/lib/python3.6/site-packages/scipy/_lib/_ccallback_c.cpython-36m-darwin.so'>, 'scipy.linalg': <module 'scipy.linalg' from '/Users/deepak/miniconda3/lib/python3.6/site-packages/scipy/linalg/__init__.py'>, 'scipy.linalg.linalg_version': <module 'scipy.linalg.linalg_version' from '/Users/deepak/miniconda3/lib/python3.6/site-packages/scipy/linalg/linalg_version.py'>, 'scipy.linalg.misc': <module 'scipy.linalg.misc' from '/Users/deepak/miniconda3/lib/python3.6/site-packages/scipy/linalg/misc.py'>, 'scipy.linalg.blas': <module 'scipy.linalg.blas' from '/Users/deepak/miniconda3/lib/python3.6/site-packages/scipy/linalg/blas.py'>, 'scipy.linalg._fblas': <module 'scipy.linalg._fblas' from '/Users/deepak/miniconda3/lib/python3.6/site-packages/scipy/linalg/_fblas.cpython-36m-darwin.so'>, 'scipy.linalg.lapack': <module 'scipy.linalg.lapack' from '/Users/deepak/miniconda3/lib/python3.6/site-packages/scipy/linalg/lapack.py'>, 'scipy.linalg._flapack': <module 'scipy.linalg._flapack' from '/Users/deepak/miniconda3/lib/python3.6/site-packages/scipy/linalg/_flapack.cpython-36m-darwin.so'>, 'scipy._lib._util': <module 'scipy._lib._util' from '/Users/deepak/miniconda3/lib/python3.6/site-packages/scipy/_lib/_util.py'>, 'scipy.linalg.basic': <module 'scipy.linalg.basic' from '/Users/deepak/miniconda3/lib/python3.6/site-packages/scipy/linalg/basic.py'>, 'scipy.linalg.flinalg': <module 'scipy.linalg.flinalg' from '/Users/deepak/miniconda3/lib/python3.6/site-packages/scipy/linalg/flinalg.py'>, 'scipy.linalg._flinalg': <module 'scipy.linalg._flinalg' from '/Users/deepak/miniconda3/lib/python3.6/site-packages/scipy/linalg/_flinalg.cpython-36m-darwin.so'>, 'scipy.linalg.decomp': <module 'scipy.linalg.decomp' from '/Users/deepak/miniconda3/lib/python3.6/site-packages/scipy/linalg/decomp.py'>, 'scipy.linalg.decomp_svd': <module 'scipy.linalg.decomp_svd' from '/Users/deepak/miniconda3/lib/python3.6/site-packages/scipy/linalg/decomp_svd.py'>, '_cython_0_26': <module '_cython_0_26'>, 'scipy.linalg._solve_toeplitz': <module 'scipy.linalg._solve_toeplitz' from '/Users/deepak/miniconda3/lib/python3.6/site-packages/scipy/linalg/_solve_toeplitz.cpython-36m-darwin.so'>, 'scipy.linalg.decomp_lu': <module 'scipy.linalg.decomp_lu' from '/Users/deepak/miniconda3/lib/python3.6/site-packages/scipy/linalg/decomp_lu.py'>, 'scipy.linalg.decomp_cholesky': <module 'scipy.linalg.decomp_cholesky' from '/Users/deepak/miniconda3/lib/python3.6/site-packages/scipy/linalg/decomp_cholesky.py'>, 'scipy.linalg.decomp_qr': <module 'scipy.linalg.decomp_qr' from '/Users/deepak/miniconda3/lib/python3.6/site-packages/scipy/linalg/decomp_qr.py'>, 'scipy.linalg._decomp_qz': <module 'scipy.linalg._decomp_qz' from '/Users/deepak/miniconda3/lib/python3.6/site-packages/scipy/linalg/_decomp_qz.py'>, 'scipy.linalg.decomp_schur': <module 'scipy.linalg.decomp_schur' from '/Users/deepak/miniconda3/lib/python3.6/site-packages/scipy/linalg/decomp_schur.py'>, 'scipy.linalg._decomp_polar': <module 'scipy.linalg._decomp_polar' from '/Users/deepak/miniconda3/lib/python3.6/site-packages/scipy/linalg/_decomp_polar.py'>, 'scipy.linalg.matfuncs': <module 'scipy.linalg.matfuncs' from '/Users/deepak/miniconda3/lib/python3.6/site-packages/scipy/linalg/matfuncs.py'>, 'scipy.linalg.special_matrices': <module 'scipy.linalg.special_matrices' from '/Users/deepak/miniconda3/lib/python3.6/site-packages/scipy/linalg/special_matrices.py'>, 'scipy.linalg._expm_frechet': <module 'scipy.linalg._expm_frechet' from '/Users/deepak/miniconda3/lib/python3.6/site-packages/scipy/linalg/_expm_frechet.py'>, 'scipy.linalg._matfuncs_sqrtm': <module 'scipy.linalg._matfuncs_sqrtm' from '/Users/deepak/miniconda3/lib/python3.6/site-packages/scipy/linalg/_matfuncs_sqrtm.py'>, 'scipy.linalg._solvers': <module 'scipy.linalg._solvers' from '/Users/deepak/miniconda3/lib/python3.6/site-packages/scipy/linalg/_solvers.py'>, 'scipy.linalg._procrustes': <module 'scipy.linalg._procrustes' from '/Users/deepak/miniconda3/lib/python3.6/site-packages/scipy/linalg/_procrustes.py'>, 'scipy.linalg._decomp_update': <module 'scipy.linalg._decomp_update' from '/Users/deepak/miniconda3/lib/python3.6/site-packages/scipy/linalg/_decomp_update.cpython-36m-darwin.so'>, 'scipy.linalg.cython_blas': <module 'scipy.linalg.cython_blas' from '/Users/deepak/miniconda3/lib/python3.6/site-packages/scipy/linalg/cython_blas.cpython-36m-darwin.so'>, 'scipy.linalg.cython_lapack': <module 'scipy.linalg.cython_lapack' from '/Users/deepak/miniconda3/lib/python3.6/site-packages/scipy/linalg/cython_lapack.cpython-36m-darwin.so'>, 'numpy.dual': <module 'numpy.dual' from '/Users/deepak/miniconda3/lib/python3.6/site-packages/numpy/dual.py'>, 'scipy.sparse': <module 'scipy.sparse' from '/Users/deepak/miniconda3/lib/python3.6/site-packages/scipy/sparse/__init__.py'>, 'scipy.sparse.base': <module 'scipy.sparse.base' from '/Users/deepak/miniconda3/lib/python3.6/site-packages/scipy/sparse/base.py'>, 'scipy.sparse.sputils': <module 'scipy.sparse.sputils' from '/Users/deepak/miniconda3/lib/python3.6/site-packages/scipy/sparse/sputils.py'>, 'scipy.sparse.csr': <module 'scipy.sparse.csr' from '/Users/deepak/miniconda3/lib/python3.6/site-packages/scipy/sparse/csr.py'>, 'scipy.sparse._sparsetools': <module 'scipy.sparse._sparsetools' from '/Users/deepak/miniconda3/lib/python3.6/site-packages/scipy/sparse/_sparsetools.cpython-36m-darwin.so'>, 'scipy.sparse.compressed': <module 'scipy.sparse.compressed' from '/Users/deepak/miniconda3/lib/python3.6/site-packages/scipy/sparse/compressed.py'>, 'scipy.sparse.data': <module 'scipy.sparse.data' from '/Users/deepak/miniconda3/lib/python3.6/site-packages/scipy/sparse/data.py'>, 'scipy.sparse.dia': <module 'scipy.sparse.dia' from '/Users/deepak/miniconda3/lib/python3.6/site-packages/scipy/sparse/dia.py'>, 'scipy.sparse.csc': <module 'scipy.sparse.csc' from '/Users/deepak/miniconda3/lib/python3.6/site-packages/scipy/sparse/csc.py'>, 'scipy.sparse.lil': <module 'scipy.sparse.lil' from '/Users/deepak/miniconda3/lib/python3.6/site-packages/scipy/sparse/lil.py'>, 'scipy.sparse._csparsetools': <module 'scipy.sparse._csparsetools' from '/Users/deepak/miniconda3/lib/python3.6/site-packages/scipy/sparse/_csparsetools.cpython-36m-darwin.so'>, 'scipy.sparse.dok': <module 'scipy.sparse.dok' from '/Users/deepak/miniconda3/lib/python3.6/site-packages/scipy/sparse/dok.py'>, 'scipy.sparse.coo': <module 'scipy.sparse.coo' from '/Users/deepak/miniconda3/lib/python3.6/site-packages/scipy/sparse/coo.py'>, 'scipy.sparse.bsr': <module 'scipy.sparse.bsr' from '/Users/deepak/miniconda3/lib/python3.6/site-packages/scipy/sparse/bsr.py'>, 'scipy.sparse.construct': <module 'scipy.sparse.construct' from '/Users/deepak/miniconda3/lib/python3.6/site-packages/scipy/sparse/construct.py'>, 'scipy.sparse.extract': <module 'scipy.sparse.extract' from '/Users/deepak/miniconda3/lib/python3.6/site-packages/scipy/sparse/extract.py'>, 'scipy.sparse._matrix_io': <module 'scipy.sparse._matrix_io' from '/Users/deepak/miniconda3/lib/python3.6/site-packages/scipy/sparse/_matrix_io.py'>, 'scipy.sparse.csgraph': <module 'scipy.sparse.csgraph' from '/Users/deepak/miniconda3/lib/python3.6/site-packages/scipy/sparse/csgraph/__init__.py'>, 'scipy.sparse.csgraph._components': <module 'scipy.sparse.csgraph._components' from '/Users/deepak/miniconda3/lib/python3.6/site-packages/scipy/sparse/csgraph/_components.py'>, 'scipy.sparse.csgraph._laplacian': <module 'scipy.sparse.csgraph._laplacian' from '/Users/deepak/miniconda3/lib/python3.6/site-packages/scipy/sparse/csgraph/_laplacian.py'>, 'scipy.sparse.csgraph._shortest_path': <module 'scipy.sparse.csgraph._shortest_path' from '/Users/deepak/miniconda3/lib/python3.6/site-packages/scipy/sparse/csgraph/_shortest_path.cpython-36m-darwin.so'>, 'scipy.sparse.csgraph._validation': <module 'scipy.sparse.csgraph._validation' from '/Users/deepak/miniconda3/lib/python3.6/site-packages/scipy/sparse/csgraph/_validation.py'>, 'scipy.sparse.csgraph._tools': <module 'scipy.sparse.csgraph._tools' from '/Users/deepak/miniconda3/lib/python3.6/site-packages/scipy/sparse/csgraph/_tools.cpython-36m-darwin.so'>, 'scipy.sparse.csgraph._traversal': <module 'scipy.sparse.csgraph._traversal' from '/Users/deepak/miniconda3/lib/python3.6/site-packages/scipy/sparse/csgraph/_traversal.cpython-36m-darwin.so'>, 'scipy.sparse.csgraph._min_spanning_tree': <module 'scipy.sparse.csgraph._min_spanning_tree' from '/Users/deepak/miniconda3/lib/python3.6/site-packages/scipy/sparse/csgraph/_min_spanning_tree.cpython-36m-darwin.so'>, 'scipy.sparse.csgraph._reordering': <module 'scipy.sparse.csgraph._reordering' from '/Users/deepak/miniconda3/lib/python3.6/site-packages/scipy/sparse/csgraph/_reordering.cpython-36m-darwin.so'>, 'scipy.sparse.linalg': <module 'scipy.sparse.linalg' from '/Users/deepak/miniconda3/lib/python3.6/site-packages/scipy/sparse/linalg/__init__.py'>, 'scipy.sparse.linalg.isolve': <module 'scipy.sparse.linalg.isolve' from '/Users/deepak/miniconda3/lib/python3.6/site-packages/scipy/sparse/linalg/isolve/__init__.py'>, 'scipy.sparse.linalg.isolve.iterative': <module 'scipy.sparse.linalg.isolve.iterative' from '/Users/deepak/miniconda3/lib/python3.6/site-packages/scipy/sparse/linalg/isolve/iterative.py'>, 'scipy.sparse.linalg.isolve._iterative': <module 'scipy.sparse.linalg.isolve._iterative' from '/Users/deepak/miniconda3/lib/python3.6/site-packages/scipy/sparse/linalg/isolve/_iterative.cpython-36m-darwin.so'>, 'scipy.sparse.linalg.interface': <module 'scipy.sparse.linalg.interface' from '/Users/deepak/miniconda3/lib/python3.6/site-packages/scipy/sparse/linalg/interface.py'>, 'scipy._lib.decorator': <module 'scipy._lib.decorator' from '/Users/deepak/miniconda3/lib/python3.6/site-packages/scipy/_lib/decorator.py'>, 'scipy.sparse.linalg.isolve.utils': <module 'scipy.sparse.linalg.isolve.utils' from '/Users/deepak/miniconda3/lib/python3.6/site-packages/scipy/sparse/linalg/isolve/utils.py'>, 'scipy._lib._threadsafety': <module 'scipy._lib._threadsafety' from '/Users/deepak/miniconda3/lib/python3.6/site-packages/scipy/_lib/_threadsafety.py'>, 'scipy.sparse.linalg.isolve.minres': <module 'scipy.sparse.linalg.isolve.minres' from '/Users/deepak/miniconda3/lib/python3.6/site-packages/scipy/sparse/linalg/isolve/minres.py'>, 'scipy.sparse.linalg.isolve.lgmres': <module 'scipy.sparse.linalg.isolve.lgmres' from '/Users/deepak/miniconda3/lib/python3.6/site-packages/scipy/sparse/linalg/isolve/lgmres.py'>, 'scipy.sparse.linalg.isolve.lsqr': <module 'scipy.sparse.linalg.isolve.lsqr' from '/Users/deepak/miniconda3/lib/python3.6/site-packages/scipy/sparse/linalg/isolve/lsqr.py'>, 'scipy.sparse.linalg.isolve.lsmr': <module 'scipy.sparse.linalg.isolve.lsmr' from '/Users/deepak/miniconda3/lib/python3.6/site-packages/scipy/sparse/linalg/isolve/lsmr.py'>, 'scipy.sparse.linalg.dsolve': <module 'scipy.sparse.linalg.dsolve' from '/Users/deepak/miniconda3/lib/python3.6/site-packages/scipy/sparse/linalg/dsolve/__init__.py'>, 'scipy.sparse.linalg.dsolve.linsolve': <module 'scipy.sparse.linalg.dsolve.linsolve' from '/Users/deepak/miniconda3/lib/python3.6/site-packages/scipy/sparse/linalg/dsolve/linsolve.py'>, 'scipy.sparse.linalg.dsolve._superlu': <module 'scipy.sparse.linalg.dsolve._superlu' from '/Users/deepak/miniconda3/lib/python3.6/site-packages/scipy/sparse/linalg/dsolve/_superlu.cpython-36m-darwin.so'>, 'scipy.sparse.linalg.dsolve._add_newdocs': <module 'scipy.sparse.linalg.dsolve._add_newdocs' from '/Users/deepak/miniconda3/lib/python3.6/site-packages/scipy/sparse/linalg/dsolve/_add_newdocs.py'>, 'scipy.sparse.linalg.eigen': <module 'scipy.sparse.linalg.eigen' from '/Users/deepak/miniconda3/lib/python3.6/site-packages/scipy/sparse/linalg/eigen/__init__.py'>, 'scipy.sparse.linalg.eigen.arpack': <module 'scipy.sparse.linalg.eigen.arpack' from '/Users/deepak/miniconda3/lib/python3.6/site-packages/scipy/sparse/linalg/eigen/arpack/__init__.py'>, 'scipy.sparse.linalg.eigen.arpack.arpack': <module 'scipy.sparse.linalg.eigen.arpack.arpack' from '/Users/deepak/miniconda3/lib/python3.6/site-packages/scipy/sparse/linalg/eigen/arpack/arpack.py'>, 'scipy.sparse.linalg.eigen.arpack._arpack': <module 'scipy.sparse.linalg.eigen.arpack._arpack' from '/Users/deepak/miniconda3/lib/python3.6/site-packages/scipy/sparse/linalg/eigen/arpack/_arpack.cpython-36m-darwin.so'>, 'scipy.sparse.linalg.eigen.lobpcg': <module 'scipy.sparse.linalg.eigen.lobpcg' from '/Users/deepak/miniconda3/lib/python3.6/site-packages/scipy/sparse/linalg/eigen/lobpcg/__init__.py'>, 'scipy.sparse.linalg.eigen.lobpcg.lobpcg': <module 'scipy.sparse.linalg.eigen.lobpcg.lobpcg' from '/Users/deepak/miniconda3/lib/python3.6/site-packages/scipy/sparse/linalg/eigen/lobpcg/lobpcg.py'>, 'scipy.sparse.linalg.matfuncs': <module 'scipy.sparse.linalg.matfuncs' from '/Users/deepak/miniconda3/lib/python3.6/site-packages/scipy/sparse/linalg/matfuncs.py'>, 'scipy.special': <module 'scipy.special' from '/Users/deepak/miniconda3/lib/python3.6/site-packages/scipy/special/__init__.py'>, 'scipy.special.sf_error': <module 'scipy.special.sf_error' from '/Users/deepak/miniconda3/lib/python3.6/site-packages/scipy/special/sf_error.py'>, 'scipy.special._ufuncs': <module 'scipy.special._ufuncs' from '/Users/deepak/miniconda3/lib/python3.6/site-packages/scipy/special/_ufuncs.cpython-36m-darwin.so'>, 'scipy.special._ufuncs_cxx': <module 'scipy.special._ufuncs_cxx' from '/Users/deepak/miniconda3/lib/python3.6/site-packages/scipy/special/_ufuncs_cxx.cpython-36m-darwin.so'>, 'scipy.special.basic': <module 'scipy.special.basic' from '/Users/deepak/miniconda3/lib/python3.6/site-packages/scipy/special/basic.py'>, 'scipy.special.specfun': <module 'scipy.special.specfun' from '/Users/deepak/miniconda3/lib/python3.6/site-packages/scipy/special/specfun.cpython-36m-darwin.so'>, 'scipy.special.orthogonal': <module 'scipy.special.orthogonal' from '/Users/deepak/miniconda3/lib/python3.6/site-packages/scipy/special/orthogonal.py'>, 'scipy.special._comb': <module 'scipy.special._comb' from '/Users/deepak/miniconda3/lib/python3.6/site-packages/scipy/special/_comb.cpython-36m-darwin.so'>, 'scipy.special._logsumexp': <module 'scipy.special._logsumexp' from '/Users/deepak/miniconda3/lib/python3.6/site-packages/scipy/special/_logsumexp.py'>, 'scipy.special.spfun_stats': <module 'scipy.special.spfun_stats' from '/Users/deepak/miniconda3/lib/python3.6/site-packages/scipy/special/spfun_stats.py'>, 'scipy.special._ellip_harm': <module 'scipy.special._ellip_harm' from '/Users/deepak/miniconda3/lib/python3.6/site-packages/scipy/special/_ellip_harm.py'>, 'scipy.special._ellip_harm_2': <module 'scipy.special._ellip_harm_2' from '/Users/deepak/miniconda3/lib/python3.6/site-packages/scipy/special/_ellip_harm_2.cpython-36m-darwin.so'>, 'scipy.integrate': <module 'scipy.integrate' from '/Users/deepak/miniconda3/lib/python3.6/site-packages/scipy/integrate/__init__.py'>, 'scipy.integrate.quadrature': <module 'scipy.integrate.quadrature' from '/Users/deepak/miniconda3/lib/python3.6/site-packages/scipy/integrate/quadrature.py'>, 'scipy.integrate.odepack': <module 'scipy.integrate.odepack' from '/Users/deepak/miniconda3/lib/python3.6/site-packages/scipy/integrate/odepack.py'>, 'scipy.integrate._odepack': <module 'scipy.integrate._odepack' from '/Users/deepak/miniconda3/lib/python3.6/site-packages/scipy/integrate/_odepack.cpython-36m-darwin.so'>, 'scipy.integrate.quadpack': <module 'scipy.integrate.quadpack' from '/Users/deepak/miniconda3/lib/python3.6/site-packages/scipy/integrate/quadpack.py'>, 'scipy.integrate._quadpack': <module 'scipy.integrate._quadpack' from '/Users/deepak/miniconda3/lib/python3.6/site-packages/scipy/integrate/_quadpack.cpython-36m-darwin.so'>, 'scipy.integrate._ode': <module 'scipy.integrate._ode' from '/Users/deepak/miniconda3/lib/python3.6/site-packages/scipy/integrate/_ode.py'>, 'scipy.integrate.vode': <module 'scipy.integrate.vode' from '/Users/deepak/miniconda3/lib/python3.6/site-packages/scipy/integrate/vode.cpython-36m-darwin.so'>, 'scipy.integrate._dop': <module 'scipy.integrate._dop' from '/Users/deepak/miniconda3/lib/python3.6/site-packages/scipy/integrate/_dop.cpython-36m-darwin.so'>, 'scipy.integrate.lsoda': <module 'scipy.integrate.lsoda' from '/Users/deepak/miniconda3/lib/python3.6/site-packages/scipy/integrate/lsoda.cpython-36m-darwin.so'>, 'scipy.integrate._bvp': <module 'scipy.integrate._bvp' from '/Users/deepak/miniconda3/lib/python3.6/site-packages/scipy/integrate/_bvp.py'>, 'scipy.optimize': <module 'scipy.optimize' from '/Users/deepak/miniconda3/lib/python3.6/site-packages/scipy/optimize/__init__.py'>, 'scipy.optimize.optimize': <module 'scipy.optimize.optimize' from '/Users/deepak/miniconda3/lib/python3.6/site-packages/scipy/optimize/optimize.py'>, 'scipy.optimize.linesearch': <module 'scipy.optimize.linesearch' from '/Users/deepak/miniconda3/lib/python3.6/site-packages/scipy/optimize/linesearch.py'>, 'scipy.optimize.minpack2': <module 'scipy.optimize.minpack2' from '/Users/deepak/miniconda3/lib/python3.6/site-packages/scipy/optimize/minpack2.cpython-36m-darwin.so'>, 'scipy.optimize._minimize': <module 'scipy.optimize._minimize' from '/Users/deepak/miniconda3/lib/python3.6/site-packages/scipy/optimize/_minimize.py'>, 'scipy.optimize._trustregion_dogleg': <module 'scipy.optimize._trustregion_dogleg' from '/Users/deepak/miniconda3/lib/python3.6/site-packages/scipy/optimize/_trustregion_dogleg.py'>, 'scipy.optimize._trustregion': <module 'scipy.optimize._trustregion' from '/Users/deepak/miniconda3/lib/python3.6/site-packages/scipy/optimize/_trustregion.py'>, 'scipy.optimize._trustregion_ncg': <module 'scipy.optimize._trustregion_ncg' from '/Users/deepak/miniconda3/lib/python3.6/site-packages/scipy/optimize/_trustregion_ncg.py'>, 'scipy.optimize.lbfgsb': <module 'scipy.optimize.lbfgsb' from '/Users/deepak/miniconda3/lib/python3.6/site-packages/scipy/optimize/lbfgsb.py'>, 'scipy.optimize._lbfgsb': <module 'scipy.optimize._lbfgsb' from '/Users/deepak/miniconda3/lib/python3.6/site-packages/scipy/optimize/_lbfgsb.cpython-36m-darwin.so'>, 'scipy.optimize.tnc': <module 'scipy.optimize.tnc' from '/Users/deepak/miniconda3/lib/python3.6/site-packages/scipy/optimize/tnc.py'>, 'scipy.optimize.moduleTNC': <module 'scipy.optimize.moduleTNC' from '/Users/deepak/miniconda3/lib/python3.6/site-packages/scipy/optimize/moduleTNC.cpython-36m-darwin.so'>, 'scipy.optimize.cobyla': <module 'scipy.optimize.cobyla' from '/Users/deepak/miniconda3/lib/python3.6/site-packages/scipy/optimize/cobyla.py'>, 'scipy.optimize._cobyla': <module 'scipy.optimize._cobyla' from '/Users/deepak/miniconda3/lib/python3.6/site-packages/scipy/optimize/_cobyla.cpython-36m-darwin.so'>, 'scipy.optimize.slsqp': <module 'scipy.optimize.slsqp' from '/Users/deepak/miniconda3/lib/python3.6/site-packages/scipy/optimize/slsqp.py'>, 'scipy.optimize._slsqp': <module 'scipy.optimize._slsqp' from '/Users/deepak/miniconda3/lib/python3.6/site-packages/scipy/optimize/_slsqp.cpython-36m-darwin.so'>, 'scipy.optimize._root': <module 'scipy.optimize._root' from '/Users/deepak/miniconda3/lib/python3.6/site-packages/scipy/optimize/_root.py'>, 'scipy.optimize.minpack': <module 'scipy.optimize.minpack' from '/Users/deepak/miniconda3/lib/python3.6/site-packages/scipy/optimize/minpack.py'>, 'scipy.optimize._minpack': <module 'scipy.optimize._minpack' from '/Users/deepak/miniconda3/lib/python3.6/site-packages/scipy/optimize/_minpack.cpython-36m-darwin.so'>, 'scipy.optimize._lsq': <module 'scipy.optimize._lsq' from '/Users/deepak/miniconda3/lib/python3.6/site-packages/scipy/optimize/_lsq/__init__.py'>, 'scipy.optimize._lsq.least_squares': <module 'scipy.optimize._lsq.least_squares' from '/Users/deepak/miniconda3/lib/python3.6/site-packages/scipy/optimize/_lsq/least_squares.py'>, 'scipy.optimize._numdiff': <module 'scipy.optimize._numdiff' from '/Users/deepak/miniconda3/lib/python3.6/site-packages/scipy/optimize/_numdiff.py'>, 'scipy.optimize._group_columns': <module 'scipy.optimize._group_columns' from '/Users/deepak/miniconda3/lib/python3.6/site-packages/scipy/optimize/_group_columns.cpython-36m-darwin.so'>, 'scipy.optimize._lsq.trf': <module 'scipy.optimize._lsq.trf' from '/Users/deepak/miniconda3/lib/python3.6/site-packages/scipy/optimize/_lsq/trf.py'>, 'scipy.optimize._lsq.common': <module 'scipy.optimize._lsq.common' from '/Users/deepak/miniconda3/lib/python3.6/site-packages/scipy/optimize/_lsq/common.py'>, 'scipy.optimize._lsq.dogbox': <module 'scipy.optimize._lsq.dogbox' from '/Users/deepak/miniconda3/lib/python3.6/site-packages/scipy/optimize/_lsq/dogbox.py'>, 'scipy.optimize._lsq.lsq_linear': <module 'scipy.optimize._lsq.lsq_linear' from '/Users/deepak/miniconda3/lib/python3.6/site-packages/scipy/optimize/_lsq/lsq_linear.py'>, 'scipy.optimize._lsq.trf_linear': <module 'scipy.optimize._lsq.trf_linear' from '/Users/deepak/miniconda3/lib/python3.6/site-packages/scipy/optimize/_lsq/trf_linear.py'>, 'scipy.optimize._lsq.givens_elimination': <module 'scipy.optimize._lsq.givens_elimination' from '/Users/deepak/miniconda3/lib/python3.6/site-packages/scipy/optimize/_lsq/givens_elimination.cpython-36m-darwin.so'>, 'scipy.optimize._lsq.bvls': <module 'scipy.optimize._lsq.bvls' from '/Users/deepak/miniconda3/lib/python3.6/site-packages/scipy/optimize/_lsq/bvls.py'>, 'scipy.optimize._spectral': <module 'scipy.optimize._spectral' from '/Users/deepak/miniconda3/lib/python3.6/site-packages/scipy/optimize/_spectral.py'>, 'scipy.optimize.nonlin': <module 'scipy.optimize.nonlin' from '/Users/deepak/miniconda3/lib/python3.6/site-packages/scipy/optimize/nonlin.py'>, 'scipy.optimize.zeros': <module 'scipy.optimize.zeros' from '/Users/deepak/miniconda3/lib/python3.6/site-packages/scipy/optimize/zeros.py'>, 'scipy.optimize._zeros': <module 'scipy.optimize._zeros' from '/Users/deepak/miniconda3/lib/python3.6/site-packages/scipy/optimize/_zeros.cpython-36m-darwin.so'>, 'scipy.optimize.nnls': <module 'scipy.optimize.nnls' from '/Users/deepak/miniconda3/lib/python3.6/site-packages/scipy/optimize/nnls.py'>, 'scipy.optimize._nnls': <module 'scipy.optimize._nnls' from '/Users/deepak/miniconda3/lib/python3.6/site-packages/scipy/optimize/_nnls.cpython-36m-darwin.so'>, 'scipy.optimize._basinhopping': <module 'scipy.optimize._basinhopping' from '/Users/deepak/miniconda3/lib/python3.6/site-packages/scipy/optimize/_basinhopping.py'>, 'scipy.optimize._linprog': <module 'scipy.optimize._linprog' from '/Users/deepak/miniconda3/lib/python3.6/site-packages/scipy/optimize/_linprog.py'>, 'scipy.optimize._hungarian': <module 'scipy.optimize._hungarian' from '/Users/deepak/miniconda3/lib/python3.6/site-packages/scipy/optimize/_hungarian.py'>, 'scipy.optimize._differentialevolution': <module 'scipy.optimize._differentialevolution' from '/Users/deepak/miniconda3/lib/python3.6/site-packages/scipy/optimize/_differentialevolution.py'>, 'scipy.special.lambertw': <module 'scipy.special.lambertw' from '/Users/deepak/miniconda3/lib/python3.6/site-packages/scipy/special/lambertw.py'>, 'scipy.special._spherical_bessel': <module 'scipy.special._spherical_bessel' from '/Users/deepak/miniconda3/lib/python3.6/site-packages/scipy/special/_spherical_bessel.py'>, 'scipy.sparse.linalg._onenormest': <module 'scipy.sparse.linalg._onenormest' from '/Users/deepak/miniconda3/lib/python3.6/site-packages/scipy/sparse/linalg/_onenormest.py'>, 'scipy.sparse.linalg._norm': <module 'scipy.sparse.linalg._norm' from '/Users/deepak/miniconda3/lib/python3.6/site-packages/scipy/sparse/linalg/_norm.py'>, 'scipy.sparse.linalg._expm_multiply': <module 'scipy.sparse.linalg._expm_multiply' from '/Users/deepak/miniconda3/lib/python3.6/site-packages/scipy/sparse/linalg/_expm_multiply.py'>, 'networkx.linalg.modularitymatrix': <module 'networkx.linalg.modularitymatrix' from '/Users/deepak/miniconda3/lib/python3.6/site-packages/networkx/linalg/modularitymatrix.py'>, 'networkx.tests': <module 'networkx.tests' from '/Users/deepak/miniconda3/lib/python3.6/site-packages/networkx/tests/__init__.py'>, 'networkx.tests.test': <module 'networkx.tests.test' from '/Users/deepak/miniconda3/lib/python3.6/site-packages/networkx/tests/test.py'>, 'networkx.drawing': <module 'networkx.drawing' from '/Users/deepak/miniconda3/lib/python3.6/site-packages/networkx/drawing/__init__.py'>, 'networkx.drawing.layout': <module 'networkx.drawing.layout' from '/Users/deepak/miniconda3/lib/python3.6/site-packages/networkx/drawing/layout.py'>, 'networkx.drawing.nx_pylab': <module 'networkx.drawing.nx_pylab' from '/Users/deepak/miniconda3/lib/python3.6/site-packages/networkx/drawing/nx_pylab.py'>, 'networkx.drawing.nx_agraph': <module 'networkx.drawing.nx_agraph' from '/Users/deepak/miniconda3/lib/python3.6/site-packages/networkx/drawing/nx_agraph.py'>, 'networkx.drawing.nx_pydot': <module 'networkx.drawing.nx_pydot' from '/Users/deepak/miniconda3/lib/python3.6/site-packages/networkx/drawing/nx_pydot.py'>, 'matplotlib': <module 'matplotlib' from '/Users/deepak/miniconda3/lib/python3.6/site-packages/matplotlib/__init__.py'>, 'distutils.sysconfig': <module 'distutils.sysconfig' from '/Users/deepak/miniconda3/lib/python3.6/distutils/sysconfig.py'>, 'distutils.errors': <module 'distutils.errors' from '/Users/deepak/miniconda3/lib/python3.6/distutils/errors.py'>, 'matplotlib.cbook': <module 'matplotlib.cbook' from '/Users/deepak/miniconda3/lib/python3.6/site-packages/matplotlib/cbook/__init__.py'>, 'gzip': <module 'gzip' from '/Users/deepak/miniconda3/lib/python3.6/gzip.py'>, 'matplotlib.cbook.deprecation': <module 'matplotlib.cbook.deprecation' from '/Users/deepak/miniconda3/lib/python3.6/site-packages/matplotlib/cbook/deprecation.py'>, 'matplotlib.cbook._backports': <module 'matplotlib.cbook._backports' from '/Users/deepak/miniconda3/lib/python3.6/site-packages/matplotlib/cbook/_backports.py'>, 'matplotlib.compat': <module 'matplotlib.compat' from '/Users/deepak/miniconda3/lib/python3.6/site-packages/matplotlib/compat/__init__.py'>, 'matplotlib.compat.subprocess': <module 'matplotlib.compat.subprocess' from '/Users/deepak/miniconda3/lib/python3.6/site-packages/matplotlib/compat/subprocess.py'>, 'matplotlib.rcsetup': <module 'matplotlib.rcsetup' from '/Users/deepak/miniconda3/lib/python3.6/site-packages/matplotlib/rcsetup.py'>, 'matplotlib.fontconfig_pattern': <module 'matplotlib.fontconfig_pattern' from '/Users/deepak/miniconda3/lib/python3.6/site-packages/matplotlib/fontconfig_pattern.py'>, 'pyparsing': <module 'pyparsing' from '/Users/deepak/miniconda3/lib/python3.6/site-packages/pyparsing.py'>, 'matplotlib.colors': <module 'matplotlib.colors' from '/Users/deepak/miniconda3/lib/python3.6/site-packages/matplotlib/colors.py'>, 'matplotlib._color_data': <module 'matplotlib._color_data' from '/Users/deepak/miniconda3/lib/python3.6/site-packages/matplotlib/_color_data.py'>, 'cycler': <module 'cycler' from '/Users/deepak/miniconda3/lib/python3.6/site-packages/cycler-0.10.0-py3.6.egg/cycler.py'>, 'six.moves.urllib.request': <module 'six.moves.urllib.request' (<six._SixMetaPathImporter object at 0x1086c49e8>)>, 'matplotlib._version': <module 'matplotlib._version' from '/Users/deepak/miniconda3/lib/python3.6/site-packages/matplotlib/_version.py'>, 'matplotlib.pyplot': <module 'matplotlib.pyplot' from '/Users/deepak/miniconda3/lib/python3.6/site-packages/matplotlib/pyplot.py'>, 'matplotlib.colorbar': <module 'matplotlib.colorbar' from '/Users/deepak/miniconda3/lib/python3.6/site-packages/matplotlib/colorbar.py'>, 'matplotlib.artist': <module 'matplotlib.artist' from '/Users/deepak/miniconda3/lib/python3.6/site-packages/matplotlib/artist.py'>, 'matplotlib.docstring': <module 'matplotlib.docstring' from '/Users/deepak/miniconda3/lib/python3.6/site-packages/matplotlib/docstring.py'>, 'matplotlib.path': <module 'matplotlib.path' from '/Users/deepak/miniconda3/lib/python3.6/site-packages/matplotlib/path.py'>, 'matplotlib._path': <module 'matplotlib._path' from '/Users/deepak/miniconda3/lib/python3.6/site-packages/matplotlib/_path.cpython-36m-darwin.so'>, 'matplotlib.transforms': <module 'matplotlib.transforms' from '/Users/deepak/miniconda3/lib/python3.6/site-packages/matplotlib/transforms.py'>, 'matplotlib.collections': <module 'matplotlib.collections' from '/Users/deepak/miniconda3/lib/python3.6/site-packages/matplotlib/collections.py'>, 'matplotlib.cm': <module 'matplotlib.cm' from '/Users/deepak/miniconda3/lib/python3.6/site-packages/matplotlib/cm.py'>, 'matplotlib._cm': <module 'matplotlib._cm' from '/Users/deepak/miniconda3/lib/python3.6/site-packages/matplotlib/_cm.py'>, 'matplotlib._cm_listed': <module 'matplotlib._cm_listed' from '/Users/deepak/miniconda3/lib/python3.6/site-packages/matplotlib/_cm_listed.py'>, 'matplotlib.mlab': <module 'matplotlib.mlab' from '/Users/deepak/miniconda3/lib/python3.6/site-packages/matplotlib/mlab.py'>, 'matplotlib.lines': <module 'matplotlib.lines' from '/Users/deepak/miniconda3/lib/python3.6/site-packages/matplotlib/lines.py'>, 'matplotlib.markers': <module 'matplotlib.markers' from '/Users/deepak/miniconda3/lib/python3.6/site-packages/matplotlib/markers.py'>, 'matplotlib.contour': <module 'matplotlib.contour' from '/Users/deepak/miniconda3/lib/python3.6/site-packages/matplotlib/contour.py'>, 'matplotlib._cntr': <module 'matplotlib._cntr' from '/Users/deepak/miniconda3/lib/python3.6/site-packages/matplotlib/_cntr.cpython-36m-darwin.so'>, 'matplotlib._contour': <module 'matplotlib._contour' from '/Users/deepak/miniconda3/lib/python3.6/site-packages/matplotlib/_contour.cpython-36m-darwin.so'>, 'matplotlib.ticker': <module 'matplotlib.ticker' from '/Users/deepak/miniconda3/lib/python3.6/site-packages/matplotlib/ticker.py'>, 'matplotlib.font_manager': <module 'matplotlib.font_manager' from '/Users/deepak/miniconda3/lib/python3.6/site-packages/matplotlib/font_manager.py'>, 'matplotlib.afm': <module 'matplotlib.afm' from '/Users/deepak/miniconda3/lib/python3.6/site-packages/matplotlib/afm.py'>, 'matplotlib._mathtext_data': <module 'matplotlib._mathtext_data' from '/Users/deepak/miniconda3/lib/python3.6/site-packages/matplotlib/_mathtext_data.py'>, 'matplotlib.ft2font': <module 'matplotlib.ft2font' from '/Users/deepak/miniconda3/lib/python3.6/site-packages/matplotlib/ft2font.cpython-36m-darwin.so'>, 'matplotlib.text': <module 'matplotlib.text' from '/Users/deepak/miniconda3/lib/python3.6/site-packages/matplotlib/text.py'>, 'matplotlib.patches': <module 'matplotlib.patches' from '/Users/deepak/miniconda3/lib/python3.6/site-packages/matplotlib/patches.py'>, 'matplotlib.bezier': <module 'matplotlib.bezier' from '/Users/deepak/miniconda3/lib/python3.6/site-packages/matplotlib/bezier.py'>, 'matplotlib.textpath': <module 'matplotlib.textpath' from '/Users/deepak/miniconda3/lib/python3.6/site-packages/matplotlib/textpath.py'>, 'matplotlib.mathtext': <module 'matplotlib.mathtext' from '/Users/deepak/miniconda3/lib/python3.6/site-packages/matplotlib/mathtext.py'>, 'matplotlib._png': <module 'matplotlib._png' from '/Users/deepak/miniconda3/lib/python3.6/site-packages/matplotlib/_png.cpython-36m-darwin.so'>, 'matplotlib.dviread': <module 'matplotlib.dviread' from '/Users/deepak/miniconda3/lib/python3.6/site-packages/matplotlib/dviread.py'>, 'matplotlib.texmanager': <module 'matplotlib.texmanager' from '/Users/deepak/miniconda3/lib/python3.6/site-packages/matplotlib/texmanager.py'>, 'matplotlib.blocking_input': <module 'matplotlib.blocking_input' from '/Users/deepak/miniconda3/lib/python3.6/site-packages/matplotlib/blocking_input.py'>, 'matplotlib.gridspec': <module 'matplotlib.gridspec' from '/Users/deepak/miniconda3/lib/python3.6/site-packages/matplotlib/gridspec.py'>, 'matplotlib.style': <module 'matplotlib.style' from '/Users/deepak/miniconda3/lib/python3.6/site-packages/matplotlib/style/__init__.py'>, 'matplotlib.style.core': <module 'matplotlib.style.core' from '/Users/deepak/miniconda3/lib/python3.6/site-packages/matplotlib/style/core.py'>, 'matplotlib._pylab_helpers': <module 'matplotlib._pylab_helpers' from '/Users/deepak/miniconda3/lib/python3.6/site-packages/matplotlib/_pylab_helpers.py'>, 'matplotlib.backend_bases': <module 'matplotlib.backend_bases' from '/Users/deepak/miniconda3/lib/python3.6/site-packages/matplotlib/backend_bases.py'>, 'matplotlib.widgets': <module 'matplotlib.widgets' from '/Users/deepak/miniconda3/lib/python3.6/site-packages/matplotlib/widgets.py'>, 'matplotlib.tight_bbox': <module 'matplotlib.tight_bbox' from '/Users/deepak/miniconda3/lib/python3.6/site-packages/matplotlib/tight_bbox.py'>, 'matplotlib.backend_tools': <module 'matplotlib.backend_tools' from '/Users/deepak/miniconda3/lib/python3.6/site-packages/matplotlib/backend_tools.py'>, 'matplotlib.figure': <module 'matplotlib.figure' from '/Users/deepak/miniconda3/lib/python3.6/site-packages/matplotlib/figure.py'>, 'matplotlib.image': <module 'matplotlib.image' from '/Users/deepak/miniconda3/lib/python3.6/site-packages/matplotlib/image.py'>, 'matplotlib._image': <module 'matplotlib._image' from '/Users/deepak/miniconda3/lib/python3.6/site-packages/matplotlib/_image.cpython-36m-darwin.so'>, 'matplotlib.axes': <module 'matplotlib.axes' from '/Users/deepak/miniconda3/lib/python3.6/site-packages/matplotlib/axes/__init__.py'>, 'matplotlib.axes._subplots': <module 'matplotlib.axes._subplots' from '/Users/deepak/miniconda3/lib/python3.6/site-packages/matplotlib/axes/_subplots.py'>, 'matplotlib.axes._axes': <module 'matplotlib.axes._axes' from '/Users/deepak/miniconda3/lib/python3.6/site-packages/matplotlib/axes/_axes.py'>, 'matplotlib.category': <module 'matplotlib.category' from '/Users/deepak/miniconda3/lib/python3.6/site-packages/matplotlib/category.py'>, 'matplotlib.units': <module 'matplotlib.units' from '/Users/deepak/miniconda3/lib/python3.6/site-packages/matplotlib/units.py'>, 'matplotlib.dates': <module 'matplotlib.dates' from '/Users/deepak/miniconda3/lib/python3.6/site-packages/matplotlib/dates.py'>, 'dateutil.rrule': <module 'dateutil.rrule' from '/Users/deepak/miniconda3/lib/python3.6/site-packages/dateutil/rrule.py'>, 'matplotlib.legend': <module 'matplotlib.legend' from '/Users/deepak/miniconda3/lib/python3.6/site-packages/matplotlib/legend.py'>, 'matplotlib.offsetbox': <module 'matplotlib.offsetbox' from '/Users/deepak/miniconda3/lib/python3.6/site-packages/matplotlib/offsetbox.py'>, 'matplotlib.container': <module 'matplotlib.container' from '/Users/deepak/miniconda3/lib/python3.6/site-packages/matplotlib/container.py'>, 'matplotlib.legend_handler': <module 'matplotlib.legend_handler' from '/Users/deepak/miniconda3/lib/python3.6/site-packages/matplotlib/legend_handler.py'>, 'matplotlib.quiver': <module 'matplotlib.quiver' from '/Users/deepak/miniconda3/lib/python3.6/site-packages/matplotlib/quiver.py'>, 'matplotlib.stackplot': <module 'matplotlib.stackplot' from '/Users/deepak/miniconda3/lib/python3.6/site-packages/matplotlib/stackplot.py'>, 'matplotlib.streamplot': <module 'matplotlib.streamplot' from '/Users/deepak/miniconda3/lib/python3.6/site-packages/matplotlib/streamplot.py'>, 'matplotlib.table': <module 'matplotlib.table' from '/Users/deepak/miniconda3/lib/python3.6/site-packages/matplotlib/table.py'>, 'matplotlib.tri': <module 'matplotlib.tri' from '/Users/deepak/miniconda3/lib/python3.6/site-packages/matplotlib/tri/__init__.py'>, 'matplotlib.tri.triangulation': <module 'matplotlib.tri.triangulation' from '/Users/deepak/miniconda3/lib/python3.6/site-packages/matplotlib/tri/triangulation.py'>, 'matplotlib._tri': <module 'matplotlib._tri' from '/Users/deepak/miniconda3/lib/python3.6/site-packages/matplotlib/_tri.cpython-36m-darwin.so'>, 'matplotlib._qhull': <module 'matplotlib._qhull' from '/Users/deepak/miniconda3/lib/python3.6/site-packages/matplotlib/_qhull.cpython-36m-darwin.so'>, 'matplotlib.tri.tricontour': <module 'matplotlib.tri.tricontour' from '/Users/deepak/miniconda3/lib/python3.6/site-packages/matplotlib/tri/tricontour.py'>, 'matplotlib.tri.tritools': <module 'matplotlib.tri.tritools' from '/Users/deepak/miniconda3/lib/python3.6/site-packages/matplotlib/tri/tritools.py'>, 'matplotlib.tri.trifinder': <module 'matplotlib.tri.trifinder' from '/Users/deepak/miniconda3/lib/python3.6/site-packages/matplotlib/tri/trifinder.py'>, 'matplotlib.tri.triinterpolate': <module 'matplotlib.tri.triinterpolate' from '/Users/deepak/miniconda3/lib/python3.6/site-packages/matplotlib/tri/triinterpolate.py'>, 'matplotlib.tri.trirefine': <module 'matplotlib.tri.trirefine' from '/Users/deepak/miniconda3/lib/python3.6/site-packages/matplotlib/tri/trirefine.py'>, 'matplotlib.tri.tripcolor': <module 'matplotlib.tri.tripcolor' from '/Users/deepak/miniconda3/lib/python3.6/site-packages/matplotlib/tri/tripcolor.py'>, 'matplotlib.tri.triplot': <module 'matplotlib.tri.triplot' from '/Users/deepak/miniconda3/lib/python3.6/site-packages/matplotlib/tri/triplot.py'>, 'matplotlib.axes._base': <module 'matplotlib.axes._base' from '/Users/deepak/miniconda3/lib/python3.6/site-packages/matplotlib/axes/_base.py'>, 'matplotlib.axis': <module 'matplotlib.axis' from '/Users/deepak/miniconda3/lib/python3.6/site-packages/matplotlib/axis.py'>, 'matplotlib.scale': <module 'matplotlib.scale' from '/Users/deepak/miniconda3/lib/python3.6/site-packages/matplotlib/scale.py'>, 'matplotlib.spines': <module 'matplotlib.spines' from '/Users/deepak/miniconda3/lib/python3.6/site-packages/matplotlib/spines.py'>, 'matplotlib.projections': <module 'matplotlib.projections' from '/Users/deepak/miniconda3/lib/python3.6/site-packages/matplotlib/projections/__init__.py'>, 'matplotlib.projections.geo': <module 'matplotlib.projections.geo' from '/Users/deepak/miniconda3/lib/python3.6/site-packages/matplotlib/projections/geo.py'>, 'matplotlib.projections.polar': <module 'matplotlib.projections.polar' from '/Users/deepak/miniconda3/lib/python3.6/site-packages/matplotlib/projections/polar.py'>, 'matplotlib.backends': <module 'matplotlib.backends' from '/Users/deepak/miniconda3/lib/python3.6/site-packages/matplotlib/backends/__init__.py'>, 'ipykernel.pylab': <module 'ipykernel.pylab' from '/Users/deepak/miniconda3/lib/python3.6/site-packages/ipykernel/pylab/__init__.py'>, 'ipykernel.pylab.backend_inline': <module 'ipykernel.pylab.backend_inline' from '/Users/deepak/miniconda3/lib/python3.6/site-packages/ipykernel/pylab/backend_inline.py'>, 'matplotlib.backends.backend_agg': <module 'matplotlib.backends.backend_agg' from '/Users/deepak/miniconda3/lib/python3.6/site-packages/matplotlib/backends/backend_agg.py'>, 'matplotlib.backends._backend_agg': <module 'matplotlib.backends._backend_agg' from '/Users/deepak/miniconda3/lib/python3.6/site-packages/matplotlib/backends/_backend_agg.cpython-36m-darwin.so'>, 'ipykernel.pylab.config': <module 'ipykernel.pylab.config' from '/Users/deepak/miniconda3/lib/python3.6/site-packages/ipykernel/pylab/config.py'>, 'ipykernel.eventloops': <module 'ipykernel.eventloops' from '/Users/deepak/miniconda3/lib/python3.6/site-packages/ipykernel/eventloops.py'>, 'igraph': <module 'igraph' from '/Users/deepak/downloads/python-igraph/build/lib.macosx-10.9-x86_64-3.6/igraph/__init__.py'>, 'igraph._igraph': <module 'igraph._igraph' from '/Users/deepak/downloads/python-igraph/build/lib.macosx-10.9-x86_64-3.6/igraph/_igraph.cpython-36m-darwin.so'>, 'igraph.clustering': <module 'igraph.clustering' from '/Users/deepak/downloads/python-igraph/build/lib.macosx-10.9-x86_64-3.6/igraph/clustering.py'>, 'igraph.compat': <module 'igraph.compat' from '/Users/deepak/downloads/python-igraph/build/lib.macosx-10.9-x86_64-3.6/igraph/compat.py'>, 'igraph.configuration': <module 'igraph.configuration' from '/Users/deepak/downloads/python-igraph/build/lib.macosx-10.9-x86_64-3.6/igraph/configuration.py'>, 'igraph.datatypes': <module 'igraph.datatypes' from '/Users/deepak/downloads/python-igraph/build/lib.macosx-10.9-x86_64-3.6/igraph/datatypes.py'>, 'igraph.drawing': <module 'igraph.drawing' from '/Users/deepak/downloads/python-igraph/build/lib.macosx-10.9-x86_64-3.6/igraph/drawing/__init__.py'>, 'igraph.drawing.colors': <module 'igraph.drawing.colors' from '/Users/deepak/downloads/python-igraph/build/lib.macosx-10.9-x86_64-3.6/igraph/drawing/colors.py'>, 'igraph.utils': <module 'igraph.utils' from '/Users/deepak/downloads/python-igraph/build/lib.macosx-10.9-x86_64-3.6/igraph/utils.py'>, 'igraph.drawing.graph': <module 'igraph.drawing.graph' from '/Users/deepak/downloads/python-igraph/build/lib.macosx-10.9-x86_64-3.6/igraph/drawing/graph.py'>, 'igraph.drawing.baseclasses': <module 'igraph.drawing.baseclasses' from '/Users/deepak/downloads/python-igraph/build/lib.macosx-10.9-x86_64-3.6/igraph/drawing/baseclasses.py'>, 'igraph.drawing.utils': <module 'igraph.drawing.utils' from '/Users/deepak/downloads/python-igraph/build/lib.macosx-10.9-x86_64-3.6/igraph/drawing/utils.py'>, 'igraph.drawing.edge': <module 'igraph.drawing.edge' from '/Users/deepak/downloads/python-igraph/build/lib.macosx-10.9-x86_64-3.6/igraph/drawing/edge.py'>, 'igraph.drawing.metamagic': <module 'igraph.drawing.metamagic' from '/Users/deepak/downloads/python-igraph/build/lib.macosx-10.9-x86_64-3.6/igraph/drawing/metamagic.py'>, 'igraph.drawing.text': <module 'igraph.drawing.text' from '/Users/deepak/downloads/python-igraph/build/lib.macosx-10.9-x86_64-3.6/igraph/drawing/text.py'>, 'cairo': <module 'cairo' from '/Users/deepak/miniconda3/lib/python3.6/site-packages/cairo/__init__.py'>, 'cairo._cairo': <module 'cairo._cairo' from '/Users/deepak/miniconda3/lib/python3.6/site-packages/cairo/_cairo.cpython-36m-darwin.so'>, 'igraph.drawing.shapes': <module 'igraph.drawing.shapes' from '/Users/deepak/downloads/python-igraph/build/lib.macosx-10.9-x86_64-3.6/igraph/drawing/shapes.py'>, 'igraph.drawing.vertex': <module 'igraph.drawing.vertex' from '/Users/deepak/downloads/python-igraph/build/lib.macosx-10.9-x86_64-3.6/igraph/drawing/vertex.py'>, 'igraph.layout': <module 'igraph.layout' from '/Users/deepak/downloads/python-igraph/build/lib.macosx-10.9-x86_64-3.6/igraph/layout.py'>, 'igraph.statistics': <module 'igraph.statistics' from '/Users/deepak/downloads/python-igraph/build/lib.macosx-10.9-x86_64-3.6/igraph/statistics.py'>, 'igraph.summary': <module 'igraph.summary' from '/Users/deepak/downloads/python-igraph/build/lib.macosx-10.9-x86_64-3.6/igraph/summary.py'>, 'igraph.vendor': <module 'igraph.vendor' from '/Users/deepak/downloads/python-igraph/build/lib.macosx-10.9-x86_64-3.6/igraph/vendor/__init__.py'>, 'igraph.vendor.texttable': <module 'igraph.vendor.texttable' from '/Users/deepak/downloads/python-igraph/build/lib.macosx-10.9-x86_64-3.6/igraph/vendor/texttable.py'>, 'igraph.cut': <module 'igraph.cut' from '/Users/deepak/downloads/python-igraph/build/lib.macosx-10.9-x86_64-3.6/igraph/cut.py'>, 'igraph.formula': <module 'igraph.formula' from '/Users/deepak/downloads/python-igraph/build/lib.macosx-10.9-x86_64-3.6/igraph/formula.py'>, 'igraph.matching': <module 'igraph.matching' from '/Users/deepak/downloads/python-igraph/build/lib.macosx-10.9-x86_64-3.6/igraph/matching.py'>, 'igraph.remote': <module 'igraph.remote' from '/Users/deepak/downloads/python-igraph/build/lib.macosx-10.9-x86_64-3.6/igraph/remote/__init__.py'>, 'igraph.remote.nexus': <module 'igraph.remote.nexus' from '/Users/deepak/downloads/python-igraph/build/lib.macosx-10.9-x86_64-3.6/igraph/remote/nexus.py'>, 'xml.dom': <module 'xml.dom' from '/Users/deepak/miniconda3/lib/python3.6/xml/dom/__init__.py'>, 'xml.dom.domreg': <module 'xml.dom.domreg' from '/Users/deepak/miniconda3/lib/python3.6/xml/dom/domreg.py'>, 'xml.dom.minidom': <module 'xml.dom.minidom' from '/Users/deepak/miniconda3/lib/python3.6/xml/dom/minidom.py'>, 'xml.dom.minicompat': <module 'xml.dom.minicompat' from '/Users/deepak/miniconda3/lib/python3.6/xml/dom/minicompat.py'>, 'xml.dom.xmlbuilder': <module 'xml.dom.xmlbuilder' from '/Users/deepak/miniconda3/lib/python3.6/xml/dom/xmlbuilder.py'>, 'xml.dom.NodeFilter': <module 'xml.dom.NodeFilter' from '/Users/deepak/miniconda3/lib/python3.6/xml/dom/NodeFilter.py'>, 'xml.dom.expatbuilder': <module 'xml.dom.expatbuilder' from '/Users/deepak/miniconda3/lib/python3.6/xml/dom/expatbuilder.py'>}\n"
     ]
    }
   ],
   "source": [
    "print(sys.modules)"
   ]
  },
  {
   "cell_type": "code",
   "execution_count": 58,
   "metadata": {},
   "outputs": [
    {
     "name": "stdout",
     "output_type": "stream",
     "text": [
      "dict_keys(['builtins', 'sys', '_frozen_importlib', '_imp', '_warnings', '_thread', '_weakref', '_frozen_importlib_external', '_io', 'marshal', 'posix', 'zipimport', 'encodings', 'codecs', '_codecs', 'encodings.aliases', 'encodings.utf_8', '_signal', '__main__', 'encodings.latin_1', 'io', 'abc', '_weakrefset', '_bootlocale', '_locale', 'site', 'os', 'errno', 'stat', '_stat', 'posixpath', 'genericpath', 'os.path', '_collections_abc', '_sitebuiltins', 'sysconfig', '_sysconfigdata_m_darwin_darwin', '_osx_support', 're', 'enum', 'types', 'functools', '_functools', 'collections', 'operator', '_operator', 'keyword', 'heapq', '_heapq', 'itertools', 'reprlib', '_collections', 'weakref', 'collections.abc', 'sre_compile', '_sre', 'sre_parse', 'sre_constants', 'copyreg', 'importlib', 'importlib._bootstrap', 'importlib._bootstrap_external', 'warnings', 'importlib.util', 'importlib.abc', 'importlib.machinery', 'contextlib', 'mpl_toolkits', 'google', 'sphinxcontrib', 'encodings.cp437', 'runpy', 'pkgutil', 'ipykernel', 'ipykernel._version', 'ipykernel.connect', '__future__', 'json', 'json.decoder', 'json.scanner', '_json', 'json.encoder', 'subprocess', 'time', 'signal', '_posixsubprocess', 'select', 'selectors', 'math', 'threading', 'traceback', 'linecache', 'tokenize', 'token', 'IPython', 'IPython.core', 'IPython.core.getipython', 'IPython.core.release', 'IPython.core.application', 'atexit', 'copy', 'glob', 'fnmatch', 'logging', 'string', '_string', 'shutil', 'zlib', 'bz2', '_compression', '_bz2', 'lzma', '_lzma', 'pwd', 'grp', 'traitlets', 'traitlets.traitlets', 'inspect', 'ast', '_ast', 'dis', 'opcode', '_opcode', 'six', 'struct', '_struct', 'traitlets.utils', 'traitlets.utils.getargspec', 'traitlets.utils.importstring', 'ipython_genutils', 'ipython_genutils._version', 'ipython_genutils.py3compat', 'ipython_genutils.encoding', 'locale', 'platform', 'traitlets.utils.sentinel', 'traitlets.utils.bunch', 'traitlets._version', 'traitlets.config', 'traitlets.config.application', 'decorator', 'traitlets.config.configurable', 'traitlets.config.loader', 'argparse', 'textwrap', 'gettext', 'ipython_genutils.path', 'random', 'hashlib', '_hashlib', '_blake2', '_sha3', 'bisect', '_bisect', '_random', 'ipython_genutils.text', 'ipython_genutils.importstring', 'IPython.core.crashhandler', 'pprint', 'IPython.core.ultratb', 'pydoc', 'urllib', 'urllib.parse', 'IPython.core.debugger', 'bdb', 'IPython.utils', 'IPython.utils.PyColorize', 'IPython.utils.coloransi', 'IPython.utils.ipstruct', 'IPython.utils.colorable', 'pygments', 'pygments.util', 'IPython.utils.py3compat', 'IPython.utils.encoding', 'IPython.core.excolors', 'IPython.testing', 'IPython.testing.skipdoctest', 'pdb', 'cmd', 'code', 'codeop', 'IPython.core.display_trap', 'IPython.utils.openpy', 'IPython.utils.path', 'IPython.utils.process', 'IPython.utils._process_posix', 'pexpect', 'pexpect.exceptions', 'pexpect.utils', 'pexpect.expect', 'pexpect.pty_spawn', 'pty', 'tty', 'termios', 'ptyprocess', 'ptyprocess.ptyprocess', 'fcntl', 'resource', 'ptyprocess.util', 'pexpect.spawnbase', 'pexpect.run', 'IPython.utils._process_common', 'shlex', 'IPython.utils.decorators', 'IPython.utils.data', 'IPython.utils.terminal', 'IPython.utils.sysinfo', 'IPython.utils._sysinfo', 'IPython.core.profiledir', 'IPython.paths', 'tempfile', 'IPython.utils.importstring', 'IPython.terminal', 'IPython.terminal.embed', 'IPython.core.compilerop', 'IPython.core.magic_arguments', 'IPython.core.error', 'IPython.utils.text', 'pathlib', 'ntpath', 'IPython.core.magic', 'getopt', 'IPython.core.oinspect', 'IPython.core.page', 'IPython.core.display', 'binascii', 'mimetypes', 'IPython.lib', 'IPython.lib.security', 'getpass', 'IPython.lib.pretty', 'datetime', '_datetime', 'IPython.utils.dir2', 'IPython.utils.wildcard', 'pygments.lexers', 'pygments.lexers._mapping', 'pygments.modeline', 'pygments.plugin', 'pygments.lexers.python', 'pygments.lexer', 'pygments.filter', 'pygments.filters', 'pygments.token', 'pygments.regexopt', 'pygments.unistring', 'pygments.formatters', 'pygments.formatters._mapping', 'pygments.formatters.html', 'pygments.formatter', 'pygments.styles', 'IPython.core.inputsplitter', 'IPython.core.inputtransformer', 'IPython.core.splitinput', 'IPython.utils.tokenize2', 'IPython.core.interactiveshell', 'pickleshare', 'pickle', '_compat_pickle', '_pickle', 'IPython.core.prefilter', 'IPython.core.autocall', 'IPython.core.macro', 'IPython.core.alias', 'IPython.core.builtin_trap', 'IPython.core.events', 'IPython.core.displayhook', 'IPython.core.displaypub', 'IPython.core.extensions', 'IPython.core.formatters', 'IPython.utils.sentinel', 'IPython.core.history', 'sqlite3', 'sqlite3.dbapi2', '_sqlite3', 'IPython.core.logger', 'IPython.core.payload', 'IPython.core.usage', 'IPython.display', 'IPython.lib.display', 'IPython.utils.io', 'IPython.utils.capture', 'IPython.utils.strdispatch', 'IPython.core.hooks', 'IPython.utils.syspathcontext', 'IPython.utils.tempdir', 'typing', 'typing.io', 'typing.re', 'IPython.utils.contexts', 'IPython.terminal.interactiveshell', 'prompt_toolkit', 'prompt_toolkit.interface', 'prompt_toolkit.application', 'prompt_toolkit.buffer', 'prompt_toolkit.auto_suggest', 'prompt_toolkit.filters', 'prompt_toolkit.filters.base', 'prompt_toolkit.utils', 'wcwidth', 'wcwidth.wcwidth', 'wcwidth.table_wide', 'wcwidth.table_zero', 'six.moves', 'prompt_toolkit.filters.cli', 'prompt_toolkit.enums', 'prompt_toolkit.key_binding', 'prompt_toolkit.key_binding.vi_state', 'prompt_toolkit.cache', 'prompt_toolkit.filters.types', 'prompt_toolkit.filters.utils', 'prompt_toolkit.clipboard', 'prompt_toolkit.clipboard.base', 'prompt_toolkit.selection', 'prompt_toolkit.clipboard.in_memory', 'prompt_toolkit.completion', 'prompt_toolkit.document', 'prompt_toolkit.history', 'prompt_toolkit.search_state', 'prompt_toolkit.validation', 'prompt_toolkit.buffer_mapping', 'prompt_toolkit.key_binding.bindings', 'prompt_toolkit.key_binding.bindings.basic', 'prompt_toolkit.keys', 'prompt_toolkit.layout', 'prompt_toolkit.layout.containers', 'prompt_toolkit.layout.controls', 'prompt_toolkit.mouse_events', 'prompt_toolkit.token', 'prompt_toolkit.layout.lexers', 'prompt_toolkit.layout.utils', 'prompt_toolkit.layout.processors', 'prompt_toolkit.reactive', 'prompt_toolkit.layout.screen', 'prompt_toolkit.layout.dimension', 'prompt_toolkit.layout.margins', 'prompt_toolkit.renderer', 'prompt_toolkit.layout.mouse_handlers', 'prompt_toolkit.output', 'prompt_toolkit.styles', 'prompt_toolkit.styles.base', 'prompt_toolkit.styles.defaults', 'prompt_toolkit.styles.from_dict', 'prompt_toolkit.styles.utils', 'prompt_toolkit.styles.from_pygments', 'pygments.style', 'pygments.styles.default', 'prompt_toolkit.key_binding.bindings.named_commands', 'prompt_toolkit.key_binding.bindings.completion', 'prompt_toolkit.key_binding.registry', 'prompt_toolkit.key_binding.input_processor', 'prompt_toolkit.key_binding.bindings.emacs', 'prompt_toolkit.key_binding.bindings.scroll', 'prompt_toolkit.key_binding.bindings.vi', 'prompt_toolkit.key_binding.digraphs', 'prompt_toolkit.key_binding.defaults', 'prompt_toolkit.eventloop', 'prompt_toolkit.eventloop.base', 'prompt_toolkit.eventloop.callbacks', 'prompt_toolkit.input', 'prompt_toolkit.terminal', 'prompt_toolkit.terminal.vt100_input', 'prompt_toolkit.shortcuts', 'prompt_toolkit.layout.menus', 'prompt_toolkit.layout.prompt', 'prompt_toolkit.layout.toolbars', 'prompt_toolkit.terminal.vt100_output', 'array', 'prompt_toolkit.key_binding.manager', 'IPython.terminal.debugger', 'IPython.core.completer', 'unicodedata', 'IPython.core.latex_symbols', 'IPython.utils.generics', 'simplegeneric', 'jedi', 'jedi.api', 'jedi.parser', 'jedi.parser.parser', 'jedi.parser.tree', 'jedi._compatibility', 'imp', 'jedi.parser.pgen2', 'jedi.parser.pgen2.parse', 'jedi.parser.tokenize', 'jedi.parser.token', 'jedi.common', 'jedi.settings', 'jedi.parser.pgen2.pgen', 'jedi.parser.pgen2.grammar', 'jedi.parser.python', 'jedi.parser.python.parser', 'jedi.parser.python.tree', 'jedi.parser.python.diff', 'difflib', 'jedi.debug', 'jedi.parser.cache', 'gc', 'jedi.cache', 'jedi.api.classes', 'jedi.evaluate', 'jedi.evaluate.representation', 'jedi.evaluate.cache', 'jedi.evaluate.compiled', 'jedi.evaluate.helpers', 'jedi.evaluate.filters', 'jedi.evaluate.flow_analysis', 'jedi.evaluate.context', 'jedi.evaluate.compiled.fake', 'jedi.evaluate.recursion', 'jedi.evaluate.iterable', 'jedi.evaluate.analysis', 'jedi.evaluate.pep0484', 'jedi.evaluate.precedence', 'jedi.evaluate.docstrings', 'numpydoc', 'numpydoc.numpydoc', 'sphinx', 'sphinx.deprecation', 'numpydoc.docscrape_sphinx', 'jinja2', 'jinja2.environment', 'jinja2.nodes', 'jinja2.utils', 'jinja2._compat', 'markupsafe', 'markupsafe._compat', 'markupsafe._speedups', 'jinja2.defaults', 'jinja2.filters', 'jinja2.runtime', 'jinja2.exceptions', 'jinja2.tests', 'decimal', 'numbers', '_decimal', 'jinja2.lexer', 'jinja2.parser', 'jinja2.compiler', 'jinja2.visitor', 'jinja2.optimizer', 'jinja2.idtracking', 'jinja2.loaders', 'jinja2.bccache', 'jinja2.asyncsupport', 'asyncio', 'asyncio.base_events', 'concurrent', 'concurrent.futures', 'concurrent.futures._base', 'concurrent.futures.process', 'queue', 'multiprocessing', 'multiprocessing.context', 'multiprocessing.process', 'multiprocessing.reduction', 'socket', '_socket', '__mp_main__', 'multiprocessing.connection', '_multiprocessing', 'multiprocessing.util', 'concurrent.futures.thread', 'asyncio.compat', 'asyncio.coroutines', 'asyncio.events', 'asyncio.base_futures', 'asyncio.log', 'asyncio.futures', 'asyncio.base_tasks', '_asyncio', 'asyncio.tasks', 'asyncio.locks', 'asyncio.protocols', 'asyncio.queues', 'asyncio.streams', 'asyncio.subprocess', 'asyncio.transports', 'asyncio.unix_events', 'asyncio.base_subprocess', 'asyncio.constants', 'asyncio.selector_events', 'ssl', 'ipaddress', '_ssl', 'base64', 'asyncio.sslproto', 'jinja2.asyncfilters', 'jinja2.sandbox', 'sphinx.jinja2glue', 'sphinx.application', 'docutils', 'docutils.nodes', 'docutils.parsers', 'docutils.parsers.rst', 'docutils.statemachine', 'docutils.utils', 'docutils.io', 'docutils._compat', 'docutils.utils.error_reporting', 'docutils.parsers.rst.states', 'docutils.parsers.rst.directives', 'docutils.parsers.rst.languages', 'docutils.parsers.rst.languages.en', 'docutils.parsers.rst.tableparser', 'docutils.parsers.rst.roles', 'docutils.utils.code_analyzer', 'docutils.utils.punctuation_chars', 'docutils.utils.roman', 'docutils.utils.urischemes', 'docutils.frontend', 'configparser', 'optparse', 'docutils.transforms', 'docutils.languages', 'docutils.transforms.universal', 'docutils.utils.smartquotes', 'sphinx.locale', 'sphinx.config', 'sphinx.errors', 'sphinx.util', 'six.moves.urllib', 'six.moves.urllib.parse', 'sphinx.util.logging', 'logging.handlers', 'sphinx.util.console', 'sphinx.util.fileutil', 'sphinx.util.osutil', 'filecmp', 'sphinx.util.smartypants', 'sphinx.util.docutils', 'distutils', 'distutils.version', 'sphinx.util.nodes', 'sphinx.addnodes', 'sphinx.util.matching', 'sphinx.util.i18n', 'babel', 'babel.core', 'babel.localedata', 'babel._compat', 'babel.plural', 'babel.dates', 'pytz', 'pytz.exceptions', 'pytz.lazy', 'pytz.tzinfo', 'pytz.tzfile', 'babel.util', 'babel.localtime', 'babel.localtime._unix', 'babel.messages', 'babel.messages.catalog', 'cgi', 'email', 'email.parser', 'email.feedparser', 'email.errors', 'email._policybase', 'email.header', 'email.quoprimime', 'email.base64mime', 'email.charset', 'email.encoders', 'quopri', 'email.utils', 'email._parseaddr', 'calendar', 'email.message', 'uu', 'email._encoded_words', 'email.iterators', 'html', 'html.entities', 'babel.messages.plurals', 'babel.messages.pofile', 'babel.messages.mofile', 'sphinx.util.pycompat', 'sphinx.environment', 'docutils.core', 'docutils.readers', 'docutils.writers', 'docutils.readers.doctree', 'sphinx.io', 'docutils.readers.standalone', 'docutils.transforms.frontmatter', 'docutils.transforms.references', 'docutils.transforms.misc', 'sphinx.transforms', 'docutils.transforms.parts', 'sphinx.transforms.compact_bullet_list', 'sphinx.transforms.i18n', 'sphinx.domains', 'sphinx.domains.std', 'sphinx.roles', 'sphinx.directives', 'sphinx.util.docfields', 'sphinx.directives.code', 'sphinx.directives.other', 'docutils.parsers.rst.directives.admonitions', 'docutils.parsers.rst.directives.misc', 'docutils.parsers.rst.directives.body', 'sphinx.directives.patches', 'docutils.parsers.rst.directives.images', 'urllib.request', 'http', 'http.client', 'urllib.error', 'urllib.response', '_scproxy', 'PIL', 'PIL.version', 'PIL.Image', 'PIL._imaging', 'PIL.ImageMode', 'PIL._binary', 'PIL._util', 'cffi', 'cffi.api', 'cffi.lock', 'cffi.error', 'cffi.model', 'docutils.parsers.rst.directives.html', 'docutils.transforms.components', 'docutils.parsers.rst.directives.tables', 'csv', '_csv', 'sphinx.util.parallel', 'sphinx.util.websupport', 'sphinxcontrib.websupport', 'pkg_resources', 'zipfile', 'plistlib', 'xml', 'xml.parsers', 'xml.parsers.expat', 'pyexpat.errors', 'pyexpat.model', 'pyexpat', 'xml.parsers.expat.model', 'xml.parsers.expat.errors', 'pkg_resources.extern', 'pkg_resources._vendor', 'pkg_resources.extern.six', 'pkg_resources._vendor.six', 'pkg_resources.extern.six.moves', 'pkg_resources._vendor.six.moves', 'pkg_resources.py31compat', 'pkg_resources.extern.appdirs', 'pkg_resources._vendor.packaging.__about__', 'pkg_resources.extern.packaging', 'pkg_resources.extern.packaging.version', 'pkg_resources.extern.packaging._structures', 'pkg_resources.extern.packaging.specifiers', 'pkg_resources.extern.packaging._compat', 'pkg_resources.extern.packaging.requirements', 'pkg_resources.extern.pyparsing', 'pkg_resources.extern.six.moves.urllib', 'pkg_resources.extern.packaging.markers', 'sphinxcontrib.websupport.core', 'sphinx.util.jsonimpl', 'sphinxcontrib.websupport.errors', 'sphinxcontrib.websupport.search', 'sphinxcontrib.websupport.storage', 'sphinxcontrib.websupport.version', 'sphinxcontrib.websupport.utils', 'sphinx.versioning', 'uuid', 'ctypes', '_ctypes', 'ctypes._endian', 'ctypes.util', 'ctypes.macholib', 'ctypes.macholib.dyld', 'ctypes.macholib.framework', 'ctypes.macholib.dylib', 'sphinx.environment.adapters', 'sphinx.environment.adapters.indexentries', 'sphinx.environment.adapters.toctree', 'sphinx.events', 'sphinx.extension', 'sphinx.registry', 'sphinx.util.tags', 'numpydoc.docscrape', 'sphinx.domains.c', 'sphinx.domains.python', 'jedi.evaluate.param', 'jedi.evaluate.imports', 'jedi.evaluate.sys_path', 'jedi.evaluate.site', 'jedi.evaluate.dynamic', 'jedi.evaluate.stdlib', 'jedi.evaluate.instance', 'jedi.evaluate.finder', 'jedi.api.keywords', 'pydoc_data', 'pydoc_data.topics', 'jedi.api.interpreter', 'jedi.evaluate.compiled.mixed', 'jedi.api.usages', 'jedi.api.helpers', 'jedi.api.completion', 'IPython.terminal.ptutils', 'IPython.terminal.shortcuts', 'IPython.terminal.magics', 'IPython.lib.clipboard', 'IPython.terminal.pt_inputhooks', 'IPython.terminal.prompts', 'IPython.terminal.ipapp', 'IPython.core.magics', 'IPython.core.magics.auto', 'IPython.core.magics.basic', 'IPython.core.magics.code', 'IPython.core.magics.config', 'IPython.core.magics.display', 'IPython.core.magics.execution', 'timeit', 'cProfile', '_lsprof', 'profile', 'pstats', 'IPython.utils.module_paths', 'IPython.utils.timing', 'IPython.core.magics.extension', 'IPython.core.magics.history', 'IPython.core.magics.logging', 'IPython.core.magics.namespace', 'IPython.core.magics.osm', 'IPython.core.magics.pylab', 'IPython.core.pylabtools', 'IPython.core.magics.script', 'IPython.lib.backgroundjobs', 'IPython.core.shellapp', 'IPython.extensions', 'IPython.extensions.storemagic', 'IPython.utils.frame', 'jupyter_client', 'jupyter_client._version', 'jupyter_client.connect', 'zmq', 'zmq.backend', 'zmq.backend.select', 'zmq.backend.cython', 'zmq.backend.cython.constants', '_cython_0_25_1', 'zmq.backend.cython.error', 'zmq.utils', 'zmq.utils.strtypes', 'zmq.backend.cython.message', 'zmq.error', 'zmq.backend.cython.context', 'zmq.backend.cython.socket', 'zmq.backend.cython.utils', 'zmq.backend.cython._poll', 'zmq.backend.cython._version', 'zmq.backend.cython._device', 'zmq.sugar', 'zmq.sugar.constants', 'zmq.utils.constant_names', 'zmq.sugar.context', 'zmq.sugar.attrsettr', 'zmq.sugar.socket', 'zmq.sugar.poll', 'zmq.sugar.frame', 'zmq.sugar.tracker', 'zmq.sugar.version', 'zmq.sugar.stopwatch', 'jupyter_client.localinterfaces', 'jupyter_core', 'jupyter_core.version', 'jupyter_core.paths', 'jupyter_client.launcher', 'traitlets.log', 'jupyter_client.client', 'jupyter_client.channels', 'jupyter_client.channelsabc', 'jupyter_client.clientabc', 'jupyter_client.manager', 'jupyter_client.kernelspec', 'jupyter_client.session', 'hmac', 'zmq.utils.jsonapi', 'zmq.eventloop', 'zmq.eventloop.ioloop', 'tornado', 'tornado.ioloop', 'tornado.concurrent', 'tornado.log', 'tornado.escape', 'tornado.util', 'tornado.speedups', 'curses', '_curses', 'tornado.stack_context', 'tornado.platform', 'tornado.platform.auto', 'tornado.platform.posix', 'tornado.platform.common', 'tornado.platform.interface', 'zmq.eventloop.zmqstream', 'jupyter_client.jsonutil', 'dateutil', 'dateutil._version', 'dateutil.parser', 'dateutil.relativedelta', 'dateutil._common', 'dateutil.tz', 'dateutil.tz.tz', 'dateutil.tz._common', '_strptime', 'jupyter_client.adapter', 'jupyter_client.managerabc', 'jupyter_client.blocking', 'jupyter_client.blocking.client', 'jupyter_client.blocking.channels', 'jupyter_client.multikernelmanager', 'ipykernel.kernelapp', 'ipykernel.iostream', 'ipykernel.heartbeat', 'ipykernel.ipkernel', 'IPython.utils.tokenutil', 'ipykernel.comm', 'ipykernel.comm.manager', 'ipykernel.comm.comm', 'ipykernel.kernelbase', 'ipykernel.jsonutil', 'ipykernel.zmqshell', 'IPython.core.payloadpage', 'ipykernel.displayhook', 'ipykernel.parentpoller', 'faulthandler', 'ipykernel.datapub', 'ipykernel.serialize', 'ipykernel.pickleutil', 'ipykernel.codeutil', 'IPython.core.completerlib', 'storemagic', 'ipywidgets', 'ipywidgets._version', 'ipywidgets.widgets', 'ipywidgets.widgets.widget', 'ipywidgets.widgets.domwidget', 'ipywidgets.widgets.trait_types', 'ipywidgets.widgets.widget_layout', 'ipywidgets.widgets.widget_style', 'ipywidgets.widgets.valuewidget', 'ipywidgets.widgets.widget_core', 'ipywidgets.widgets.widget_bool', 'ipywidgets.widgets.widget_description', 'ipywidgets.widgets.widget_button', 'ipywidgets.widgets.widget_box', 'ipywidgets.widgets.docutils', 'ipywidgets.widgets.widget_float', 'ipywidgets.widgets.widget_int', 'ipywidgets.widgets.widget_image', 'ipywidgets.widgets.widget_color', 'ipywidgets.widgets.widget_date', 'ipywidgets.widgets.widget_output', 'ipywidgets.widgets.widget_selection', 'ipywidgets.widgets.widget_selectioncontainer', 'ipywidgets.widgets.widget_string', 'ipywidgets.widgets.widget_controller', 'ipywidgets.widgets.interaction', 'ipywidgets.widgets.widget_link', 'networkx', 'networkx.release', 'version', 'networkx.exception', 'networkx.external', 'networkx.utils', 'networkx.utils.misc', 'networkx.utils.decorators', 'networkx.utils.random_sequence', 'networkx.utils.union_find', 'networkx.utils.rcm', 'networkx.utils.heaps', 'networkx.utils.contextmanagers', 'networkx.classes', 'networkx.classes.graph', 'networkx.convert', 'networkx.classes.digraph', 'networkx.classes.multigraph', 'networkx.classes.multidigraph', 'networkx.classes.ordered', 'networkx.classes.function', 'networkx.convert_matrix', 'networkx.relabel', 'networkx.generators', 'networkx.generators.classic', 'networkx.algorithms', 'networkx.algorithms.assortativity', 'networkx.algorithms.assortativity.connectivity', 'networkx.algorithms.assortativity.correlation', 'networkx.algorithms.assortativity.mixing', 'networkx.algorithms.assortativity.pairs', 'networkx.algorithms.assortativity.neighbor_degree', 'networkx.algorithms.block', 'networkx.algorithms.boundary', 'networkx.algorithms.centrality', 'networkx.algorithms.centrality.betweenness', 'networkx.algorithms.centrality.betweenness_subset', 'networkx.algorithms.centrality.closeness', 'networkx.algorithms.centrality.communicability_alg', 'networkx.algorithms.centrality.current_flow_closeness', 'networkx.algorithms.centrality.flow_matrix', 'networkx.algorithms.centrality.current_flow_betweenness', 'networkx.algorithms.centrality.current_flow_betweenness_subset', 'networkx.algorithms.centrality.degree_alg', 'networkx.algorithms.centrality.dispersion', 'networkx.algorithms.centrality.eigenvector', 'networkx.algorithms.centrality.harmonic', 'networkx.algorithms.centrality.katz', 'networkx.algorithms.centrality.load', 'networkx.algorithms.cluster', 'networkx.algorithms.clique', 'networkx.algorithms.community', 'networkx.algorithms.community.kclique', 'networkx.algorithms.components', 'networkx.algorithms.components.connected', 'networkx.algorithms.components.strongly_connected', 'networkx.algorithms.components.weakly_connected', 'networkx.algorithms.components.attracting', 'networkx.algorithms.components.biconnected', 'networkx.algorithms.components.semiconnected', 'networkx.algorithms.coloring', 'networkx.algorithms.coloring.greedy_coloring', 'networkx.algorithms.coloring.greedy_coloring_with_interchange', 'networkx.algorithms.core', 'networkx.algorithms.cycles', 'networkx.algorithms.traversal', 'networkx.algorithms.traversal.depth_first_search', 'networkx.algorithms.traversal.breadth_first_search', 'networkx.algorithms.traversal.edgedfs', 'networkx.algorithms.dag', 'fractions', 'networkx.algorithms.distance_measures', 'networkx.algorithms.dominance', 'networkx.algorithms.dominating', 'networkx.algorithms.hierarchy', 'networkx.algorithms.hybrid', 'networkx.algorithms.matching', 'networkx.algorithms.minors', 'networkx.algorithms.mis', 'networkx.algorithms.mst', 'networkx.algorithms.link_analysis', 'networkx.algorithms.link_analysis.pagerank_alg', 'networkx.algorithms.link_analysis.hits_alg', 'networkx.algorithms.link_prediction', 'networkx.algorithms.operators', 'networkx.algorithms.operators.all', 'networkx.algorithms.operators.binary', 'networkx.algorithms.operators.product', 'networkx.algorithms.operators.unary', 'networkx.algorithms.shortest_paths', 'networkx.algorithms.shortest_paths.generic', 'networkx.algorithms.shortest_paths.unweighted', 'networkx.algorithms.shortest_paths.weighted', 'networkx.algorithms.shortest_paths.astar', 'networkx.algorithms.shortest_paths.dense', 'networkx.algorithms.smetric', 'networkx.algorithms.triads', 'networkx.algorithms.isolate', 'networkx.algorithms.euler', 'networkx.algorithms.vitality', 'networkx.algorithms.chordal', 'networkx.algorithms.chordal.chordal_alg', 'networkx.algorithms.richclub', 'networkx.algorithms.distance_regular', 'networkx.algorithms.swap', 'networkx.algorithms.graphical', 'networkx.algorithms.simple_paths', 'networkx.algorithms.bipartite', 'networkx.algorithms.bipartite.basic', 'networkx.algorithms.bipartite.centrality', 'networkx.algorithms.bipartite.cluster', 'networkx.algorithms.bipartite.edgelist', 'networkx.algorithms.bipartite.matching', 'networkx.algorithms.bipartite.matrix', 'networkx.algorithms.bipartite.projection', 'networkx.algorithms.bipartite.redundancy', 'networkx.algorithms.bipartite.spectral', 'networkx.algorithms.bipartite.generators', 'networkx.algorithms.connectivity', 'networkx.algorithms.connectivity.connectivity', 'networkx.algorithms.flow', 'networkx.algorithms.flow.maxflow', 'networkx.algorithms.flow.edmondskarp', 'networkx.algorithms.flow.utils', 'networkx.algorithms.flow.preflowpush', 'networkx.algorithms.flow.shortestaugmentingpath', 'networkx.algorithms.flow.mincost', 'networkx.algorithms.flow.capacityscaling', 'networkx.algorithms.flow.networksimplex', 'networkx.algorithms.connectivity.utils', 'networkx.algorithms.connectivity.cuts', 'networkx.algorithms.connectivity.kcomponents', 'networkx.algorithms.connectivity.kcutsets', 'networkx.algorithms.connectivity.stoerwagner', 'networkx.algorithms.isomorphism', 'networkx.algorithms.isomorphism.isomorph', 'networkx.algorithms.isomorphism.vf2userfunc', 'networkx.algorithms.isomorphism.isomorphvf2', 'networkx.algorithms.isomorphism.matchhelpers', 'networkx.algorithms.tree', 'networkx.algorithms.tree.recognition', 'networkx.algorithms.tree.branchings', 'networkx.generators.degree_seq', 'networkx.generators.directed', 'networkx.generators.ego', 'networkx.generators.expanders', 'networkx.generators.geometric', 'networkx.generators.line', 'networkx.generators.random_graphs', 'networkx.generators.small', 'networkx.generators.stochastic', 'networkx.generators.social', 'networkx.generators.threshold', 'networkx.generators.intersection', 'networkx.generators.random_clustered', 'networkx.generators.community', 'networkx.generators.nonisomorphic_trees', 'networkx.readwrite', 'networkx.readwrite.adjlist', 'networkx.readwrite.multiline_adjlist', 'networkx.readwrite.edgelist', 'networkx.readwrite.gpickle', 'networkx.readwrite.pajek', 'networkx.readwrite.leda', 'networkx.readwrite.sparse6', 'networkx.readwrite.graph6', 'networkx.readwrite.nx_yaml', 'networkx.readwrite.gml', 'lib2to3', 'lib2to3.pgen2', 'lib2to3.pgen2.parse', 'lib2to3.pgen2.token', 'lib2to3.pgen2.tokenize', 'lib2to3.refactor', 'lib2to3.pgen2.driver', 'lib2to3.pgen2.grammar', 'lib2to3.pgen2.pgen', 'lib2to3.fixer_util', 'lib2to3.pytree', 'lib2to3.pygram', 'lib2to3.patcomp', 'lib2to3.pgen2.literals', 'lib2to3.btm_matcher', 'lib2to3.btm_utils', 'networkx.readwrite.graphml', 'xml.etree', 'xml.etree.cElementTree', 'xml.etree.ElementTree', 'xml.etree.ElementPath', '_elementtree', 'networkx.readwrite.gexf', 'networkx.readwrite.nx_shp', 'networkx.linalg', 'networkx.linalg.attrmatrix', 'networkx.linalg.spectrum', 'networkx.linalg.graphmatrix', 'networkx.linalg.laplacianmatrix', 'networkx.linalg.algebraicconnectivity', 'numpy', 'numpy._globals', 'numpy.__config__', 'numpy.version', 'numpy._import_tools', 'numpy.add_newdocs', 'numpy.lib', 'numpy.lib.info', 'numpy.lib.type_check', 'numpy.core', 'numpy.core.info', 'numpy.core.multiarray', 'numpy.core.umath', 'numpy.core._internal', 'numpy.compat', 'numpy.compat._inspect', 'numpy.compat.py3k', 'numpy.core.numerictypes', 'numpy.core.numeric', 'numpy.core.arrayprint', 'numpy.core.fromnumeric', 'numpy.core._methods', 'numpy.core.defchararray', 'numpy.core.records', 'numpy.core.memmap', 'numpy.core.function_base', 'numpy.core.machar', 'numpy.core.getlimits', 'numpy.core.shape_base', 'numpy.core.einsumfunc', 'numpy.testing', 'unittest', 'unittest.result', 'unittest.util', 'unittest.case', 'unittest.suite', 'unittest.loader', 'unittest.main', 'unittest.runner', 'unittest.signals', 'numpy.testing.decorators', 'numpy.testing.utils', 'numpy.lib.utils', 'numpy.testing.nosetester', 'numpy.lib.ufunclike', 'numpy.lib.index_tricks', 'numpy.lib.function_base', 'numpy.lib.twodim_base', 'numpy.matrixlib', 'numpy.matrixlib.defmatrix', 'numpy.lib.stride_tricks', 'numpy.lib.mixins', 'numpy.lib.nanfunctions', 'numpy.lib.shape_base', 'numpy.lib.scimath', 'numpy.lib.polynomial', 'numpy.linalg', 'numpy.linalg.info', 'numpy.linalg.linalg', 'numpy.linalg.lapack_lite', 'numpy.linalg._umath_linalg', 'numpy.lib.arraysetops', 'numpy.lib.npyio', 'numpy.lib.format', 'numpy.lib._datasource', 'numpy.lib._iotools', 'numpy.lib.financial', 'numpy.lib.arrayterator', 'numpy.lib.arraypad', 'numpy.lib._version', 'numpy._distributor_init', 'numpy.fft', 'numpy.fft.info', 'numpy.fft.fftpack', 'numpy.fft.fftpack_lite', 'numpy.fft.helper', 'numpy.polynomial', 'numpy.polynomial.polynomial', 'numpy.polynomial.polyutils', 'numpy.polynomial._polybase', 'numpy.polynomial.chebyshev', 'numpy.polynomial.legendre', 'numpy.polynomial.hermite', 'numpy.polynomial.hermite_e', 'numpy.polynomial.laguerre', 'numpy.random', 'numpy.random.info', 'cython_runtime', 'mtrand', 'numpy.random.mtrand', 'numpy.ctypeslib', 'numpy.ma', 'numpy.ma.core', 'numpy.ma.extras', 'scipy', 'scipy.__config__', 'scipy.version', 'scipy._lib', 'scipy._lib._version', 'scipy._lib.six', 'scipy._lib._ccallback', 'scipy._lib._ccallback_c', 'scipy.linalg', 'scipy.linalg.linalg_version', 'scipy.linalg.misc', 'scipy.linalg.blas', 'scipy.linalg._fblas', 'scipy.linalg.lapack', 'scipy.linalg._flapack', 'scipy._lib._util', 'scipy.linalg.basic', 'scipy.linalg.flinalg', 'scipy.linalg._flinalg', 'scipy.linalg.decomp', 'scipy.linalg.decomp_svd', '_cython_0_26', 'scipy.linalg._solve_toeplitz', 'scipy.linalg.decomp_lu', 'scipy.linalg.decomp_cholesky', 'scipy.linalg.decomp_qr', 'scipy.linalg._decomp_qz', 'scipy.linalg.decomp_schur', 'scipy.linalg._decomp_polar', 'scipy.linalg.matfuncs', 'scipy.linalg.special_matrices', 'scipy.linalg._expm_frechet', 'scipy.linalg._matfuncs_sqrtm', 'scipy.linalg._solvers', 'scipy.linalg._procrustes', 'scipy.linalg._decomp_update', 'scipy.linalg.cython_blas', 'scipy.linalg.cython_lapack', 'numpy.dual', 'scipy.sparse', 'scipy.sparse.base', 'scipy.sparse.sputils', 'scipy.sparse.csr', 'scipy.sparse._sparsetools', 'scipy.sparse.compressed', 'scipy.sparse.data', 'scipy.sparse.dia', 'scipy.sparse.csc', 'scipy.sparse.lil', 'scipy.sparse._csparsetools', 'scipy.sparse.dok', 'scipy.sparse.coo', 'scipy.sparse.bsr', 'scipy.sparse.construct', 'scipy.sparse.extract', 'scipy.sparse._matrix_io', 'scipy.sparse.csgraph', 'scipy.sparse.csgraph._components', 'scipy.sparse.csgraph._laplacian', 'scipy.sparse.csgraph._shortest_path', 'scipy.sparse.csgraph._validation', 'scipy.sparse.csgraph._tools', 'scipy.sparse.csgraph._traversal', 'scipy.sparse.csgraph._min_spanning_tree', 'scipy.sparse.csgraph._reordering', 'scipy.sparse.linalg', 'scipy.sparse.linalg.isolve', 'scipy.sparse.linalg.isolve.iterative', 'scipy.sparse.linalg.isolve._iterative', 'scipy.sparse.linalg.interface', 'scipy._lib.decorator', 'scipy.sparse.linalg.isolve.utils', 'scipy._lib._threadsafety', 'scipy.sparse.linalg.isolve.minres', 'scipy.sparse.linalg.isolve.lgmres', 'scipy.sparse.linalg.isolve.lsqr', 'scipy.sparse.linalg.isolve.lsmr', 'scipy.sparse.linalg.dsolve', 'scipy.sparse.linalg.dsolve.linsolve', 'scipy.sparse.linalg.dsolve._superlu', 'scipy.sparse.linalg.dsolve._add_newdocs', 'scipy.sparse.linalg.eigen', 'scipy.sparse.linalg.eigen.arpack', 'scipy.sparse.linalg.eigen.arpack.arpack', 'scipy.sparse.linalg.eigen.arpack._arpack', 'scipy.sparse.linalg.eigen.lobpcg', 'scipy.sparse.linalg.eigen.lobpcg.lobpcg', 'scipy.sparse.linalg.matfuncs', 'scipy.special', 'scipy.special.sf_error', 'scipy.special._ufuncs', 'scipy.special._ufuncs_cxx', 'scipy.special.basic', 'scipy.special.specfun', 'scipy.special.orthogonal', 'scipy.special._comb', 'scipy.special._logsumexp', 'scipy.special.spfun_stats', 'scipy.special._ellip_harm', 'scipy.special._ellip_harm_2', 'scipy.integrate', 'scipy.integrate.quadrature', 'scipy.integrate.odepack', 'scipy.integrate._odepack', 'scipy.integrate.quadpack', 'scipy.integrate._quadpack', 'scipy.integrate._ode', 'scipy.integrate.vode', 'scipy.integrate._dop', 'scipy.integrate.lsoda', 'scipy.integrate._bvp', 'scipy.optimize', 'scipy.optimize.optimize', 'scipy.optimize.linesearch', 'scipy.optimize.minpack2', 'scipy.optimize._minimize', 'scipy.optimize._trustregion_dogleg', 'scipy.optimize._trustregion', 'scipy.optimize._trustregion_ncg', 'scipy.optimize.lbfgsb', 'scipy.optimize._lbfgsb', 'scipy.optimize.tnc', 'scipy.optimize.moduleTNC', 'scipy.optimize.cobyla', 'scipy.optimize._cobyla', 'scipy.optimize.slsqp', 'scipy.optimize._slsqp', 'scipy.optimize._root', 'scipy.optimize.minpack', 'scipy.optimize._minpack', 'scipy.optimize._lsq', 'scipy.optimize._lsq.least_squares', 'scipy.optimize._numdiff', 'scipy.optimize._group_columns', 'scipy.optimize._lsq.trf', 'scipy.optimize._lsq.common', 'scipy.optimize._lsq.dogbox', 'scipy.optimize._lsq.lsq_linear', 'scipy.optimize._lsq.trf_linear', 'scipy.optimize._lsq.givens_elimination', 'scipy.optimize._lsq.bvls', 'scipy.optimize._spectral', 'scipy.optimize.nonlin', 'scipy.optimize.zeros', 'scipy.optimize._zeros', 'scipy.optimize.nnls', 'scipy.optimize._nnls', 'scipy.optimize._basinhopping', 'scipy.optimize._linprog', 'scipy.optimize._hungarian', 'scipy.optimize._differentialevolution', 'scipy.special.lambertw', 'scipy.special._spherical_bessel', 'scipy.sparse.linalg._onenormest', 'scipy.sparse.linalg._norm', 'scipy.sparse.linalg._expm_multiply', 'networkx.linalg.modularitymatrix', 'networkx.tests', 'networkx.tests.test', 'networkx.drawing', 'networkx.drawing.layout', 'networkx.drawing.nx_pylab', 'networkx.drawing.nx_agraph', 'networkx.drawing.nx_pydot', 'matplotlib', 'distutils.sysconfig', 'distutils.errors', 'matplotlib.cbook', 'gzip', 'matplotlib.cbook.deprecation', 'matplotlib.cbook._backports', 'matplotlib.compat', 'matplotlib.compat.subprocess', 'matplotlib.rcsetup', 'matplotlib.fontconfig_pattern', 'pyparsing', 'matplotlib.colors', 'matplotlib._color_data', 'cycler', 'six.moves.urllib.request', 'matplotlib._version', 'matplotlib.pyplot', 'matplotlib.colorbar', 'matplotlib.artist', 'matplotlib.docstring', 'matplotlib.path', 'matplotlib._path', 'matplotlib.transforms', 'matplotlib.collections', 'matplotlib.cm', 'matplotlib._cm', 'matplotlib._cm_listed', 'matplotlib.mlab', 'matplotlib.lines', 'matplotlib.markers', 'matplotlib.contour', 'matplotlib._cntr', 'matplotlib._contour', 'matplotlib.ticker', 'matplotlib.font_manager', 'matplotlib.afm', 'matplotlib._mathtext_data', 'matplotlib.ft2font', 'matplotlib.text', 'matplotlib.patches', 'matplotlib.bezier', 'matplotlib.textpath', 'matplotlib.mathtext', 'matplotlib._png', 'matplotlib.dviread', 'matplotlib.texmanager', 'matplotlib.blocking_input', 'matplotlib.gridspec', 'matplotlib.style', 'matplotlib.style.core', 'matplotlib._pylab_helpers', 'matplotlib.backend_bases', 'matplotlib.widgets', 'matplotlib.tight_bbox', 'matplotlib.backend_tools', 'matplotlib.figure', 'matplotlib.image', 'matplotlib._image', 'matplotlib.axes', 'matplotlib.axes._subplots', 'matplotlib.axes._axes', 'matplotlib.category', 'matplotlib.units', 'matplotlib.dates', 'dateutil.rrule', 'matplotlib.legend', 'matplotlib.offsetbox', 'matplotlib.container', 'matplotlib.legend_handler', 'matplotlib.quiver', 'matplotlib.stackplot', 'matplotlib.streamplot', 'matplotlib.table', 'matplotlib.tri', 'matplotlib.tri.triangulation', 'matplotlib._tri', 'matplotlib._qhull', 'matplotlib.tri.tricontour', 'matplotlib.tri.tritools', 'matplotlib.tri.trifinder', 'matplotlib.tri.triinterpolate', 'matplotlib.tri.trirefine', 'matplotlib.tri.tripcolor', 'matplotlib.tri.triplot', 'matplotlib.axes._base', 'matplotlib.axis', 'matplotlib.scale', 'matplotlib.spines', 'matplotlib.projections', 'matplotlib.projections.geo', 'matplotlib.projections.polar', 'matplotlib.backends', 'ipykernel.pylab', 'ipykernel.pylab.backend_inline', 'matplotlib.backends.backend_agg', 'matplotlib.backends._backend_agg', 'ipykernel.pylab.config', 'ipykernel.eventloops', 'igraph', 'igraph._igraph', 'igraph.clustering', 'igraph.compat', 'igraph.configuration', 'igraph.datatypes', 'igraph.drawing', 'igraph.drawing.colors', 'igraph.utils', 'igraph.drawing.graph', 'igraph.drawing.baseclasses', 'igraph.drawing.utils', 'igraph.drawing.edge', 'igraph.drawing.metamagic', 'igraph.drawing.text', 'cairo', 'cairo._cairo', 'igraph.drawing.shapes', 'igraph.drawing.vertex', 'igraph.layout', 'igraph.statistics', 'igraph.summary', 'igraph.vendor', 'igraph.vendor.texttable', 'igraph.cut', 'igraph.formula', 'igraph.matching', 'igraph.remote', 'igraph.remote.nexus', 'xml.dom', 'xml.dom.domreg', 'xml.dom.minidom', 'xml.dom.minicompat', 'xml.dom.xmlbuilder', 'xml.dom.NodeFilter', 'xml.dom.expatbuilder', 'zmq.utils.garbage'])\n"
     ]
    }
   ],
   "source": [
    "print(sys.modules.keys())"
   ]
  },
  {
   "cell_type": "code",
   "execution_count": 59,
   "metadata": {},
   "outputs": [],
   "source": [
    "sorted?"
   ]
  },
  {
   "cell_type": "code",
   "execution_count": 63,
   "metadata": {},
   "outputs": [
    {
     "name": "stdout",
     "output_type": "stream",
     "text": [
      "True\n"
     ]
    }
   ],
   "source": [
    "print(\"sympy\" in sys.modules)"
   ]
  },
  {
   "cell_type": "markdown",
   "metadata": {},
   "source": [
    "## Elementwise multiplication (Hadamard product) of arrays"
   ]
  },
  {
   "cell_type": "markdown",
   "metadata": {
    "heading_collapsed": true
   },
   "source": [
    "### Numpy:"
   ]
  },
  {
   "cell_type": "code",
   "execution_count": 139,
   "metadata": {
    "hidden": true
   },
   "outputs": [],
   "source": [
    "a = [[1,2],[3,4]]\n",
    "b = [[3,4],[5,6]]"
   ]
  },
  {
   "cell_type": "code",
   "execution_count": 140,
   "metadata": {
    "hidden": true
   },
   "outputs": [
    {
     "data": {
      "text/plain": [
       "array([[ 3,  8],\n",
       "       [15, 24]])"
      ]
     },
     "execution_count": 140,
     "metadata": {},
     "output_type": "execute_result"
    }
   ],
   "source": [
    "np.multiply(a,b)"
   ]
  },
  {
   "cell_type": "markdown",
   "metadata": {
    "heading_collapsed": true
   },
   "source": [
    "### Sympy: "
   ]
  },
  {
   "cell_type": "code",
   "execution_count": 141,
   "metadata": {
    "hidden": true
   },
   "outputs": [],
   "source": [
    "from sympy.matrices import Matrix"
   ]
  },
  {
   "cell_type": "code",
   "execution_count": 142,
   "metadata": {
    "hidden": true
   },
   "outputs": [],
   "source": [
    "M1 = Matrix(a)\n",
    "M2 = Matrix(b)"
   ]
  },
  {
   "cell_type": "code",
   "execution_count": 143,
   "metadata": {
    "hidden": true
   },
   "outputs": [],
   "source": [
    "from sympy.matrices import matrix_multiply_elementwise"
   ]
  },
  {
   "cell_type": "code",
   "execution_count": 144,
   "metadata": {
    "hidden": true
   },
   "outputs": [
    {
     "data": {
      "text/plain": [
       "Matrix([\n",
       "[ 3,  8],\n",
       "[15, 24]])"
      ]
     },
     "execution_count": 144,
     "metadata": {},
     "output_type": "execute_result"
    }
   ],
   "source": [
    "matrix_multiply_elementwise(M1,M2)"
   ]
  },
  {
   "cell_type": "code",
   "execution_count": 149,
   "metadata": {
    "hidden": true
   },
   "outputs": [
    {
     "data": {
      "text/plain": [
       "array([[1, 2],\n",
       "       [3, 4]], dtype=object)"
      ]
     },
     "execution_count": 149,
     "metadata": {},
     "output_type": "execute_result"
    }
   ],
   "source": [
    "np.array(M1.tolist())"
   ]
  },
  {
   "cell_type": "code",
   "execution_count": 150,
   "metadata": {
    "hidden": true
   },
   "outputs": [
    {
     "data": {
      "text/plain": [
       "numpy.ndarray"
      ]
     },
     "execution_count": 150,
     "metadata": {},
     "output_type": "execute_result"
    }
   ],
   "source": [
    "type(_149)"
   ]
  },
  {
   "cell_type": "code",
   "execution_count": null,
   "metadata": {
    "hidden": true
   },
   "outputs": [],
   "source": []
  },
  {
   "cell_type": "markdown",
   "metadata": {
    "heading_collapsed": true
   },
   "source": [
    "## Tensors with `sympy`"
   ]
  },
  {
   "cell_type": "markdown",
   "metadata": {
    "heading_collapsed": true,
    "hidden": true
   },
   "source": [
    "### `itensor` index notation"
   ]
  },
  {
   "cell_type": "markdown",
   "metadata": {
    "hidden": true
   },
   "source": [
    "It would be good idea to replicate the `itensor` methodology in designing a tensor class. In `itensor` the fundamental object are of `Index` type. For e.g.:\n",
    "```\n",
    "auto i = Index(\"index i\",3);\n",
    "```\n",
    "creates an `Index` object `i`, whose dimension is set to be 3. Having made more such `Index` objects `j`, `k`:\n",
    "```\n",
    "auto j = Index(\"index j\", 4);\n",
    "auto k = Index(\"index k\", 2);\n",
    "```\n",
    "etc. we can construct `ITensor` objects:\n",
    "```\n",
    "auto A = ITensor(i);\n",
    "auto B = ITensor(i,j);\n",
    "auto C = ITensor(i,j,k);\n",
    "```\n",
    "Then `C` represents a tensor $C_{ijk}$ of dimensionality $ 3 \\times 4 \\times 2$.\n",
    "\n",
    "Note that this functionality is already present in python's `sympy` module."
   ]
  },
  {
   "cell_type": "markdown",
   "metadata": {
    "heading_collapsed": true,
    "hidden": true
   },
   "source": [
    "### indices and tensors with `sympy`\n",
    "\n",
    "We can replicate this behavior using `sympy.symbols`."
   ]
  },
  {
   "cell_type": "code",
   "execution_count": 10,
   "metadata": {
    "hidden": true
   },
   "outputs": [],
   "source": [
    "i, j, k = symbols(\"i j k\")"
   ]
  },
  {
   "cell_type": "code",
   "execution_count": 11,
   "metadata": {
    "hidden": true
   },
   "outputs": [
    {
     "data": {
      "text/plain": [
       "(i, j, k)"
      ]
     },
     "execution_count": 11,
     "metadata": {},
     "output_type": "execute_result"
    }
   ],
   "source": [
    "i,j, k"
   ]
  },
  {
   "cell_type": "code",
   "execution_count": 12,
   "metadata": {
    "hidden": true
   },
   "outputs": [
    {
     "data": {
      "text/plain": [
       "'i'"
      ]
     },
     "execution_count": 12,
     "metadata": {},
     "output_type": "execute_result"
    }
   ],
   "source": [
    "i.name"
   ]
  },
  {
   "cell_type": "markdown",
   "metadata": {
    "heading_collapsed": true,
    "hidden": true
   },
   "source": [
    "### `sympyTensor` class definition\n",
    "\n",
    "Tensors with `sympy` would then have the syntax:\n",
    "```\n",
    "A = sympyTensor(i,j,k)\n",
    "```\n",
    "where `i`, `j`, `k` are `sympy.symbol` objects"
   ]
  },
  {
   "cell_type": "code",
   "execution_count": null,
   "metadata": {
    "hidden": true
   },
   "outputs": [],
   "source": [
    "class sympyTensor()"
   ]
  },
  {
   "cell_type": "code",
   "execution_count": 7,
   "metadata": {
    "hidden": true
   },
   "outputs": [],
   "source": [
    "symbols?"
   ]
  },
  {
   "cell_type": "code",
   "execution_count": 8,
   "metadata": {
    "hidden": true
   },
   "outputs": [],
   "source": [
    "Function?"
   ]
  },
  {
   "cell_type": "code",
   "execution_count": 17,
   "metadata": {
    "hidden": true
   },
   "outputs": [],
   "source": [
    "Symbol??"
   ]
  },
  {
   "cell_type": "code",
   "execution_count": null,
   "metadata": {
    "hidden": true
   },
   "outputs": [],
   "source": []
  }
 ],
 "metadata": {
  "kernelspec": {
   "display_name": "Python 3",
   "language": "python",
   "name": "python3"
  },
  "language_info": {
   "codemirror_mode": {
    "name": "ipython",
    "version": 3
   },
   "file_extension": ".py",
   "mimetype": "text/x-python",
   "name": "python",
   "nbconvert_exporter": "python",
   "pygments_lexer": "ipython3",
   "version": "3.6.3"
  },
  "latex_envs": {
   "bibliofile": "biblio.bib",
   "cite_by": "apalike",
   "current_citInitial": 1,
   "eqLabelWithNumbers": true,
   "eqNumInitial": 0
  },
  "toc": {
   "nav_menu": {},
   "number_sections": true,
   "sideBar": false,
   "skip_h1_title": false,
   "toc_cell": true,
   "toc_position": {
    "height": "221px",
    "left": "770.083px",
    "right": "120.917px",
    "top": "0px",
    "width": "385px"
   },
   "toc_section_display": "block",
   "toc_window_display": true
  },
  "varInspector": {
   "cols": {
    "lenName": 16,
    "lenType": 16,
    "lenVar": 40
   },
   "kernels_config": {
    "python": {
     "delete_cmd_postfix": "",
     "delete_cmd_prefix": "del ",
     "library": "var_list.py",
     "varRefreshCmd": "print(var_dic_list())"
    },
    "r": {
     "delete_cmd_postfix": ") ",
     "delete_cmd_prefix": "rm(",
     "library": "var_list.r",
     "varRefreshCmd": "cat(var_dic_list()) "
    }
   },
   "types_to_exclude": [
    "module",
    "function",
    "builtin_function_or_method",
    "instance",
    "_Feature"
   ],
   "window_display": false
  }
 },
 "nbformat": 4,
 "nbformat_minor": 2
}
